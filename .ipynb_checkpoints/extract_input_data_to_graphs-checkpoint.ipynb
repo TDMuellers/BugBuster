{
 "cells": [
  {
   "cell_type": "markdown",
   "id": "1fb3ea37-5b3d-4e73-888e-76e98a6a5f65",
   "metadata": {},
   "source": [
    "# Create Input Data\n",
    "\n",
    "This script takes a variety of chemical identifiers for both insecticidal and non-insecticidal compounds, cleans these chemicals, converts them to SMILES, and then converts SMILES to graphs.\n",
    "\n",
    "Written by Tobias D. Muellers"
   ]
  },
  {
   "cell_type": "markdown",
   "id": "e1478706-ca2a-4ee2-85ed-752a6df4f0d9",
   "metadata": {},
   "source": [
    "## Load Dependencies"
   ]
  },
  {
   "cell_type": "code",
   "execution_count": 9,
   "id": "727f465a-45ee-4c97-9b3b-78408390f680",
   "metadata": {},
   "outputs": [],
   "source": [
    "import requests\n",
    "from bs4 import BeautifulSoup as bs\n",
    "import pandas as pd\n",
    "import numpy as np\n",
    "import time\n",
    "from selenium import webdriver\n",
    "import cirpy\n",
    "from tqdm import tqdm\n",
    "import urllib.request\n",
    "from urllib.error import HTTPError\n",
    "from urllib.request import urlopen\n",
    "import rdkit"
   ]
  },
  {
   "cell_type": "markdown",
   "id": "178ff55e-7795-49fc-b904-ce71a8f3b40e",
   "metadata": {
    "jp-MarkdownHeadingCollapsed": true
   },
   "source": [
    "# Scrape for Chemicals"
   ]
  },
  {
   "cell_type": "code",
   "execution_count": 2,
   "id": "866dc31a-0e48-4474-9515-b4255214b08c",
   "metadata": {},
   "outputs": [],
   "source": [
    "from selenium.webdriver.chrome.options import Options\n",
    "options = Options()\n",
    "options.add_argument(\"--headless\")\n",
    "driver = webdriver.Chrome(options=options)"
   ]
  },
  {
   "cell_type": "code",
   "execution_count": 3,
   "id": "1b58794a-ca4d-4d17-940a-f12c77bc34da",
   "metadata": {},
   "outputs": [],
   "source": [
    "# function to get content from https://www.pesticideinfo.org/\n",
    "# based on https://realpython.com/beautiful-soup-web-scraper-python/\n",
    "def pesticideinfo_get(PRI_start, PRI_end):\n",
    "    \"\"\"\n",
    "    this function takes starting and ending ids for this database and constructs a range.\n",
    "    Based on the range of PRIs, it extracts data from each PesticideInfo page. \n",
    "    PRI_start = integer\n",
    "    PRI_end = integer\n",
    "    \"\"\"\n",
    "    # webdriver workaround from https://stackoverflow.com/questions/76928765/attributeerror-str-object-has-no-attribute-capabilities-in-selenium\n",
    "    cservice = webdriver.ChromeService(\n",
    "        executable_path=\"C:/Users/tobia/OneDrive/Documents/GitHub/BugBuster/chromedriver-win64/chromedriver-win64/chromedriver.exe\",\n",
    "        chrome_options=options)\n",
    "    driver = webdriver.Chrome(service = cservice)\n",
    "    # driver code based on https://stackoverflow.com/questions/52687372/beautifulsoup-not-returning-complete-html-of-the-page\n",
    "    \n",
    "    # make range\n",
    "    PRIs = np.arange(PRI_start, PRI_end, 1)\n",
    "\n",
    "    # set up storage for a dataframe\n",
    "    pris = []\n",
    "    names = []\n",
    "    casrns = []\n",
    "    classes = []\n",
    "    mws = []\n",
    "    uses =[]\n",
    "\n",
    "    for pri in PRIs:\n",
    "        URL = \"https://www.pesticideinfo.org/chemical/PRI\"+str(pri)\n",
    "        driver.get(URL)\n",
    "        time.sleep(1) # wait for page to load\n",
    "        page = driver.page_source\n",
    "        soup = bs(page, \"html.parser\") # parse page\n",
    "        table = soup.find_all(\"div\", {\"class\": \"data-table-key-value\"}) #get values from table of interest\n",
    "        \n",
    "        if len(table) < 5:\n",
    "            print(f'{pri} does not exist')\n",
    "        else:\n",
    "            # now extract desired information \n",
    "            pris.append(pri)\n",
    "            name = str(table[0]).split('</div>')[1][5:]\n",
    "            names.append(name)\n",
    "            casrn = str(table[2]).split('</div>')[1][5:]\n",
    "            casrns.append(casrn)\n",
    "            chem_class = str(table[4]).split('</div>')[1][5:]\n",
    "            classes.append(chem_class)\n",
    "            mw = str(table[5]).split('</div>')[1][5:]\n",
    "            mws.append(mw)\n",
    "            use = str(table[6]).split('</div>')[1][5:]\n",
    "            uses.append(use)\n",
    "\n",
    "    data = {'name': names, 'pri': pris, 'casrn': casrns, \n",
    "            'class': classes, 'mw': mws, 'use': uses}\n",
    "    df = pd.DataFrame(data)\n",
    "    \n",
    "    driver.quit()\n",
    "    \n",
    "    return df"
   ]
  },
  {
   "cell_type": "code",
   "execution_count": 5,
   "id": "571a0a52-7e61-44b0-95a2-0241eaacbfe7",
   "metadata": {},
   "outputs": [],
   "source": [
    "#extracted_1_10001 = pesticideinfo_get(1, 10001)\n",
    "#extracted_10001_20001 = pesticideinfo_get(10001, 20001) this does not seem to pick up much useful information\n",
    "#extracted_1_10001.tail(10)\n",
    "#extracted_10001_20001.head(1)\n",
    "#pest_info_db_all = pd.concat([extracted_1_1001, extracted_1001_2001], axis=0)\n",
    "#pest_info_db_all = extracted_1_10001.copy()\n",
    "#pest_info_db_all.to_csv(\"pest_info_db_1_10001.csv\")"
   ]
  },
  {
   "cell_type": "markdown",
   "id": "0bc09214-cae5-48d3-b4dd-6546abe78a07",
   "metadata": {
    "jp-MarkdownHeadingCollapsed": true
   },
   "source": [
    "# Get SMILES"
   ]
  },
  {
   "cell_type": "code",
   "execution_count": 5,
   "id": "830ae4e9-064d-4d80-88f4-3157d87a0089",
   "metadata": {},
   "outputs": [
    {
     "data": {
      "text/html": [
       "<div>\n",
       "<style scoped>\n",
       "    .dataframe tbody tr th:only-of-type {\n",
       "        vertical-align: middle;\n",
       "    }\n",
       "\n",
       "    .dataframe tbody tr th {\n",
       "        vertical-align: top;\n",
       "    }\n",
       "\n",
       "    .dataframe thead th {\n",
       "        text-align: right;\n",
       "    }\n",
       "</style>\n",
       "<table border=\"1\" class=\"dataframe\">\n",
       "  <thead>\n",
       "    <tr style=\"text-align: right;\">\n",
       "      <th></th>\n",
       "      <th>Unnamed: 0</th>\n",
       "      <th>name</th>\n",
       "      <th>pri</th>\n",
       "      <th>casrn</th>\n",
       "      <th>class</th>\n",
       "      <th>mw</th>\n",
       "      <th>use</th>\n",
       "    </tr>\n",
       "  </thead>\n",
       "  <tbody>\n",
       "    <tr>\n",
       "      <th>0</th>\n",
       "      <td>0</td>\n",
       "      <td>1-(3-chlorophthalimido)cyclohexanecarboxamide</td>\n",
       "      <td>10</td>\n",
       "      <td>51971-67-6</td>\n",
       "      <td>Carboxamide</td>\n",
       "      <td>0.0</td>\n",
       "      <td>Not Listed</td>\n",
       "    </tr>\n",
       "  </tbody>\n",
       "</table>\n",
       "</div>"
      ],
      "text/plain": [
       "   Unnamed: 0                                           name  pri       casrn  \\\n",
       "0           0  1-(3-chlorophthalimido)cyclohexanecarboxamide   10  51971-67-6   \n",
       "\n",
       "         class   mw         use  \n",
       "0  Carboxamide  0.0  Not Listed  "
      ]
     },
     "execution_count": 5,
     "metadata": {},
     "output_type": "execute_result"
    }
   ],
   "source": [
    "# load extracted data\n",
    "raw_pestinfo = pd.read_csv('pest_info_db_1_10001.csv')\n",
    "raw_pestinfo.head(1)"
   ]
  },
  {
   "cell_type": "code",
   "execution_count": 133,
   "id": "1678ae4c-eca2-45f6-ae4f-1cf32f12d58c",
   "metadata": {},
   "outputs": [],
   "source": [
    "# add smiles based on casrn\n",
    "# use cirpy \n",
    "# add cactus as needed\n",
    "def add_smiles(df, cas_col, name_col):\n",
    "    temp_df = df.copy() # avoid overwrite\n",
    "    casrns = temp_df[cas_col]\n",
    "    names = temp_df[name_col]\n",
    "    smiles_cirpy_cas_storage = []\n",
    "    smiles_cirpy_name_storage = []\n",
    "\n",
    "    for cas in tqdm(casrns):\n",
    "        if cas == \"Not Listed\":\n",
    "            smiles_cirpy_casrn = float('NaN')\n",
    "        else:\n",
    "            smiles_cirpy_casrn = cirpy.resolve(cas, 'smiles')\n",
    "        smiles_cirpy_cas_storage.append(smiles_cirpy_casrn)\n",
    "\n",
    "    for name in tqdm(names):\n",
    "        smiles_cirpy_name = cirpy.resolve(name, 'smiles')\n",
    "        smiles_cirpy_name_storage.append(smiles_cirpy_name)\n",
    "\n",
    "    temp_df['smiles_cirpy_casrn'] = smiles_cirpy_cas_storage\n",
    "    temp_df['smiles_cirpy_name'] = smiles_cirpy_name_storage\n",
    "\n",
    "    return temp_df"
   ]
  },
  {
   "cell_type": "code",
   "execution_count": 135,
   "id": "427cffa5-eb86-4b70-9dea-02a56e38c63e",
   "metadata": {},
   "outputs": [],
   "source": [
    "#test = add_smiles(raw_pestinfo.head(10), 'casrn', 'name')\n",
    "#test"
   ]
  },
  {
   "cell_type": "code",
   "execution_count": 136,
   "id": "2cf462ac-06bb-4b36-a01d-baa023b95ade",
   "metadata": {},
   "outputs": [
    {
     "name": "stderr",
     "output_type": "stream",
     "text": [
      "100%|██████████| 6261/6261 [30:57<00:00,  3.37it/s]\n",
      "100%|██████████| 6261/6261 [57:49<00:00,  1.80it/s]  \n"
     ]
    }
   ],
   "source": [
    "smiles_pestinfo = add_smiles(raw_pestinfo, 'casrn', 'name')"
   ]
  },
  {
   "cell_type": "code",
   "execution_count": 138,
   "id": "d65712af-e8b1-4d7d-99b4-b60eeebcb72f",
   "metadata": {},
   "outputs": [],
   "source": [
    "# save intermediate output\n",
    "smiles_pestinfo.to_csv(\"pest_info_db_smiles.csv\")"
   ]
  },
  {
   "cell_type": "markdown",
   "id": "fad4163f-7487-46ac-b10f-5a7c3a3411aa",
   "metadata": {},
   "source": [
    "## Trim SMILES"
   ]
  },
  {
   "cell_type": "code",
   "execution_count": 4,
   "id": "121a366f-a9a8-4051-9d76-ae3a0e1d42c0",
   "metadata": {},
   "outputs": [],
   "source": [
    "# load smiles\n",
    "smiles_pestinfo = pd.read_csv('pest_info_db_smiles.csv')\n",
    "#smiles_pestinfo.head(10)"
   ]
  },
  {
   "cell_type": "code",
   "execution_count": 5,
   "id": "7cd092bd-db1a-43de-9c00-7edf4a200f73",
   "metadata": {},
   "outputs": [],
   "source": [
    "# remove no smiles\n",
    "def merge_and_remove_smiles(df, cirpy_casrn_smiles, cirpy_name_smiles):\n",
    "    temp = df.copy()\n",
    "    idx = range(0, temp.shape[0])\n",
    "    cirpy_casrn_smiles = temp[cirpy_casrn_smiles]\n",
    "    cirpy_name_smiles = temp[cirpy_name_smiles]\n",
    "\n",
    "    smiles_storage = []\n",
    "    for i in idx:\n",
    "        if pd.isnull(cirpy_casrn_smiles[i]) == False:\n",
    "            smiles = cirpy_casrn_smiles[i]\n",
    "        else:\n",
    "            if pd.isnull(cirpy_name_smiles[i]) == False:\n",
    "                smiles = cirpy_name_smiles[i]\n",
    "            else:\n",
    "                smiles = float('NaN')\n",
    "        smiles_storage.append(smiles)\n",
    "\n",
    "    temp['smiles'] = smiles_storage\n",
    "    \n",
    "    return temp"
   ]
  },
  {
   "cell_type": "code",
   "execution_count": 6,
   "id": "4c13515c-78bf-4d49-901b-3fe0e942a16b",
   "metadata": {},
   "outputs": [],
   "source": [
    "smiles_pestinfo_cleaned = merge_and_remove_smiles(smiles_pestinfo, \"smiles_cirpy_casrn\", \"smiles_cirpy_name\")"
   ]
  },
  {
   "cell_type": "code",
   "execution_count": 7,
   "id": "41a3d79f-80e8-4a6d-a139-76689f746043",
   "metadata": {},
   "outputs": [],
   "source": [
    "smiles_pestinfo_cleaned = smiles_pestinfo_cleaned.drop(columns=['Unnamed: 0.1', 'Unnamed: 0', 'smiles_cirpy_casrn', 'smiles_cirpy_name'])"
   ]
  },
  {
   "cell_type": "code",
   "execution_count": 8,
   "id": "5f31700e-6dd0-467f-a5af-5272c6e70a0a",
   "metadata": {},
   "outputs": [],
   "source": [
    "smiles_pestinfo_cleaned = smiles_pestinfo_cleaned[pd.isnull(smiles_pestinfo_cleaned['smiles']) == False]"
   ]
  },
  {
   "cell_type": "code",
   "execution_count": 59,
   "id": "4a637ab6-1836-489f-b271-c06e3fd360fb",
   "metadata": {},
   "outputs": [],
   "source": [
    "#smiles_pestinfo_cleaned.head(5)"
   ]
  },
  {
   "cell_type": "markdown",
   "id": "0d2fe1da-3ffd-405e-b590-f7646119d3ba",
   "metadata": {
    "jp-MarkdownHeadingCollapsed": true
   },
   "source": [
    "# Filters"
   ]
  },
  {
   "cell_type": "markdown",
   "id": "9062bfee-f8ab-4724-9c1b-54f7c9db5404",
   "metadata": {},
   "source": [
    "## Filter for neutral organics"
   ]
  },
  {
   "cell_type": "code",
   "execution_count": 10,
   "id": "79139902-bc17-41e2-b03e-090f5f6ac6c6",
   "metadata": {},
   "outputs": [
    {
     "name": "stdout",
     "output_type": "stream",
     "text": [
      "(3822, 7)\n",
      "(3558, 7)\n"
     ]
    }
   ],
   "source": [
    "# drop inorganic\n",
    "print(smiles_pestinfo_cleaned.shape)\n",
    "organics = smiles_pestinfo_cleaned[smiles_pestinfo_cleaned['class'] != 'Inorganic']\n",
    "print(organics.shape)"
   ]
  },
  {
   "cell_type": "code",
   "execution_count": 11,
   "id": "b7877586-7605-4c24-b789-df2a90563d1b",
   "metadata": {},
   "outputs": [
    {
     "name": "stdout",
     "output_type": "stream",
     "text": [
      "(3558, 7)\n",
      "(3388, 7)\n"
     ]
    }
   ],
   "source": [
    "# drop inorganics based on classes\n",
    "#organics[\"class\"].unique() # see all classes\n",
    "print(organics.shape)\n",
    "organics = pd.DataFrame(organics[~organics['class'].str.contains('Inorganic')]) # this removes where class is inorganic\n",
    "print(organics.shape)"
   ]
  },
  {
   "cell_type": "code",
   "execution_count": 47,
   "id": "222c9286-2246-44df-b5d9-07fd63458605",
   "metadata": {},
   "outputs": [],
   "source": [
    "from rdkit import Chem\n",
    "from rdkit.Chem import SaltRemover\n",
    "\n",
    "# remove salts, https://www.rdkit.org/docs/source/rdkit.Chem.SaltRemover.html\n",
    "def no_salts(df, smiles_col):\n",
    "    temp = df.copy()\n",
    "    smiles = temp[smiles_col]\n",
    "    cleaned = []\n",
    "    for smi in smiles:\n",
    "\n",
    "        # for chlorine\n",
    "        ions = ['Cl-', 'Br-', 'NH4+', 'Na+', 'Ca+', 'F-', 'Li+', 'K+', 'Mg++', 'Ca++']\n",
    "        if any(x in smi for x in ions): # https://stackoverflow.com/questions/3389574/check-if-multiple-strings-exist-in-another-string\n",
    "            remover = SaltRemover.SaltRemover(defnData=\"[Cl-]\", defnFormat='smiles')\n",
    "            res = remover.StripMol(Chem.MolFromSmiles(smi), dontRemoveEverything=True)\n",
    "            remover = SaltRemover.SaltRemover(defnData=\"[Br-]\", defnFormat='smiles')\n",
    "            res = remover.StripMol(res, dontRemoveEverything=True)\n",
    "            remover = SaltRemover.SaltRemover(defnData=\"[NH4+]\", defnFormat='smiles')\n",
    "            res = remover.StripMol(res, dontRemoveEverything=True)\n",
    "            remover = SaltRemover.SaltRemover(defnData=\"[Na+]\", defnFormat='smiles')\n",
    "            res = remover.StripMol(res, dontRemoveEverything=True)\n",
    "            remover = SaltRemover.SaltRemover(defnData=\"[Ca+]\", defnFormat='smiles')\n",
    "            res = remover.StripMol(res, dontRemoveEverything=True)\n",
    "            remover = SaltRemover.SaltRemover(defnData=\"[F-]\", defnFormat='smiles')\n",
    "            res = remover.StripMol(res, dontRemoveEverything=True)\n",
    "            remover = SaltRemover.SaltRemover(defnData=\"[Li+]\", defnFormat='smiles')\n",
    "            res = remover.StripMol(res, dontRemoveEverything=True)\n",
    "            remover = SaltRemover.SaltRemover(defnData=\"[K+]\", defnFormat='smiles')\n",
    "            res = remover.StripMol(res, dontRemoveEverything=True)\n",
    "            remover = SaltRemover.SaltRemover(defnData=\"[Mg++]\", defnFormat='smiles')\n",
    "            res = remover.StripMol(res, dontRemoveEverything=True)\n",
    "            remover = SaltRemover.SaltRemover(defnData=\"[Ca++]\", defnFormat='smiles')\n",
    "            res = Chem.MolToSmiles(remover.StripMol(res, dontRemoveEverything=True))\n",
    "            cleaned.append(res)\n",
    "        else:\n",
    "            cleaned.append(smi)\n",
    "                \n",
    "    temp['no_salt'] = cleaned\n",
    "    return temp"
   ]
  },
  {
   "cell_type": "code",
   "execution_count": 48,
   "id": "6a6c819b-a9ae-4765-8d7f-82ba0a176745",
   "metadata": {},
   "outputs": [
    {
     "name": "stdout",
     "output_type": "stream",
     "text": [
      "(3388, 7)\n"
     ]
    },
    {
     "name": "stderr",
     "output_type": "stream",
     "text": [
      "[08:26:35] WARNING: not removing hydrogen atom without neighbors\n",
      "[08:26:35] WARNING: not removing hydrogen atom without neighbors\n",
      "[08:26:36] WARNING: not removing hydrogen atom without neighbors\n",
      "[08:26:36] WARNING: not removing hydrogen atom without neighbors\n",
      "[08:26:36] WARNING: not removing hydrogen atom without neighbors\n",
      "[08:26:36] WARNING: not removing hydrogen atom without neighbors\n",
      "[08:26:36] WARNING: not removing hydrogen atom without neighbors\n",
      "[08:26:36] WARNING: not removing hydrogen atom without neighbors\n",
      "[08:26:36] WARNING: not removing hydrogen atom without neighbors\n",
      "[08:26:36] WARNING: not removing hydrogen atom without neighbors\n",
      "[08:26:36] WARNING: not removing hydrogen atom without neighbors\n",
      "[08:26:36] WARNING: not removing hydrogen atom without neighbors\n",
      "[08:26:36] WARNING: not removing hydrogen atom without neighbors\n",
      "[08:26:36] WARNING: not removing hydrogen atom without neighbors\n",
      "[08:26:36] WARNING: not removing hydrogen atom without neighbors\n",
      "[08:26:36] WARNING: not removing hydrogen atom without neighbors\n",
      "[08:26:36] WARNING: not removing hydrogen atom without neighbors\n",
      "[08:26:36] WARNING: not removing hydrogen atom without neighbors\n",
      "[08:26:36] WARNING: not removing hydrogen atom without neighbors\n",
      "[08:26:36] WARNING: not removing hydrogen atom without neighbors\n",
      "[08:26:36] WARNING: not removing hydrogen atom without neighbors\n",
      "[08:26:36] WARNING: not removing hydrogen atom without neighbors\n",
      "[08:26:36] WARNING: not removing hydrogen atom without neighbors\n",
      "[08:26:36] WARNING: not removing hydrogen atom without neighbors\n",
      "[08:26:36] WARNING: not removing hydrogen atom without neighbors\n",
      "[08:26:36] WARNING: not removing hydrogen atom without neighbors\n",
      "[08:26:36] WARNING: not removing hydrogen atom without neighbors\n",
      "[08:26:36] WARNING: not removing hydrogen atom without neighbors\n",
      "[08:26:36] WARNING: not removing hydrogen atom without neighbors\n"
     ]
    },
    {
     "name": "stdout",
     "output_type": "stream",
     "text": [
      "(3388, 8)\n"
     ]
    },
    {
     "name": "stderr",
     "output_type": "stream",
     "text": [
      "[08:26:36] WARNING: not removing hydrogen atom without neighbors\n",
      "[08:26:36] WARNING: not removing hydrogen atom without neighbors\n",
      "[08:26:36] WARNING: not removing hydrogen atom without neighbors\n",
      "[08:26:36] WARNING: not removing hydrogen atom without neighbors\n"
     ]
    }
   ],
   "source": [
    "print(organics.shape)\n",
    "desalted = no_salts(organics, 'smiles')\n",
    "print(desalted.shape)\n",
    "#test = organics[organics['smiles'].str.contains('\\\\[' + 'NH4' + '\\\\+' + '\\\\]')]\n",
    "#test = no_salts(test, 'smiles')\n",
    "#test.head(10)"
   ]
  },
  {
   "cell_type": "code",
   "execution_count": 50,
   "id": "33f67e74-92f3-4897-ad1a-32214a41f662",
   "metadata": {},
   "outputs": [],
   "source": [
    "#desalted.tail(10)"
   ]
  },
  {
   "cell_type": "code",
   "execution_count": 51,
   "id": "7c72cd9c-45f6-436d-994c-1c6564e95a5e",
   "metadata": {},
   "outputs": [],
   "source": [
    "# neutralize molecules? https://www.rdkit.org/docs/Cookbook.html"
   ]
  },
  {
   "cell_type": "code",
   "execution_count": 52,
   "id": "5cb54f51-388b-40d6-904f-faafba1871c0",
   "metadata": {},
   "outputs": [
    {
     "name": "stdout",
     "output_type": "stream",
     "text": [
      "(3388, 8)\n",
      "(3006, 8)\n"
     ]
    }
   ],
   "source": [
    "# rough filter for now\n",
    "# remove all not bonded things\n",
    "import re\n",
    "print(desalted.shape)\n",
    "desalted_neut_org = desalted[~desalted['no_salt'].str.contains('\\\\.')]\n",
    "print(desalted_neut_org.shape)"
   ]
  },
  {
   "cell_type": "code",
   "execution_count": 53,
   "id": "23d54800-a38c-433f-8733-57b6bf603f52",
   "metadata": {},
   "outputs": [
    {
     "data": {
      "text/html": [
       "<div>\n",
       "<style scoped>\n",
       "    .dataframe tbody tr th:only-of-type {\n",
       "        vertical-align: middle;\n",
       "    }\n",
       "\n",
       "    .dataframe tbody tr th {\n",
       "        vertical-align: top;\n",
       "    }\n",
       "\n",
       "    .dataframe thead th {\n",
       "        text-align: right;\n",
       "    }\n",
       "</style>\n",
       "<table border=\"1\" class=\"dataframe\">\n",
       "  <thead>\n",
       "    <tr style=\"text-align: right;\">\n",
       "      <th></th>\n",
       "      <th>name</th>\n",
       "      <th>pri</th>\n",
       "      <th>casrn</th>\n",
       "      <th>class</th>\n",
       "      <th>mw</th>\n",
       "      <th>use</th>\n",
       "      <th>smiles</th>\n",
       "      <th>no_salt</th>\n",
       "    </tr>\n",
       "  </thead>\n",
       "  <tbody>\n",
       "    <tr>\n",
       "      <th>0</th>\n",
       "      <td>1-(3-chlorophthalimido)cyclohexanecarboxamide</td>\n",
       "      <td>10</td>\n",
       "      <td>51971-67-6</td>\n",
       "      <td>Carboxamide</td>\n",
       "      <td>0.0</td>\n",
       "      <td>Not Listed</td>\n",
       "      <td>NC(=O)C1(CCCCC1)N2C(=O)c3cccc(Cl)c3C2=O</td>\n",
       "      <td>NC(=O)C1(CCCCC1)N2C(=O)c3cccc(Cl)c3C2=O</td>\n",
       "    </tr>\n",
       "    <tr>\n",
       "      <th>2</th>\n",
       "      <td>1-(6-Isopropyl-1,1,4-trimethyl-5-indanyl)-1-pr...</td>\n",
       "      <td>12</td>\n",
       "      <td>6682-77-5</td>\n",
       "      <td>Not Listed</td>\n",
       "      <td>0.0</td>\n",
       "      <td>Not Listed</td>\n",
       "      <td>CCC(=O)c1c(C)c2CCC(C)(C)c2cc1C(C)C</td>\n",
       "      <td>CCC(=O)c1c(C)c2CCC(C)(C)c2cc1C(C)C</td>\n",
       "    </tr>\n",
       "    <tr>\n",
       "      <th>4</th>\n",
       "      <td>1-(8-Methoxy-4,8-dimethylnonyl)-4-(1-methyleth...</td>\n",
       "      <td>14</td>\n",
       "      <td>53905-38-7</td>\n",
       "      <td>Not Listed</td>\n",
       "      <td>0.0</td>\n",
       "      <td>Not Listed</td>\n",
       "      <td>COC(C)(C)CCCC(C)CCCc1ccc(cc1)C(C)C</td>\n",
       "      <td>COC(C)(C)CCCC(C)CCCc1ccc(cc1)C(C)C</td>\n",
       "    </tr>\n",
       "    <tr>\n",
       "      <th>14</th>\n",
       "      <td>1-(Bromoacetoxy)-2-propanol</td>\n",
       "      <td>24</td>\n",
       "      <td>4189-47-3</td>\n",
       "      <td>Not Listed</td>\n",
       "      <td>0.0</td>\n",
       "      <td>Not Listed</td>\n",
       "      <td>CC(O)COC(=O)CBr</td>\n",
       "      <td>CC(O)COC(=O)CBr</td>\n",
       "    </tr>\n",
       "    <tr>\n",
       "      <th>15</th>\n",
       "      <td>1-(Dodecylbenzyl)pyridinium chloride</td>\n",
       "      <td>25</td>\n",
       "      <td>30901-67-8</td>\n",
       "      <td>Not Listed</td>\n",
       "      <td>0.0</td>\n",
       "      <td>Not Listed</td>\n",
       "      <td>[Cl-].CCCCCCCCCCCCC(c1ccccc1)[n+]2ccccc2</td>\n",
       "      <td>CCCCCCCCCCCCC(c1ccccc1)[n+]1ccccc1</td>\n",
       "    </tr>\n",
       "  </tbody>\n",
       "</table>\n",
       "</div>"
      ],
      "text/plain": [
       "                                                 name  pri       casrn  \\\n",
       "0       1-(3-chlorophthalimido)cyclohexanecarboxamide   10  51971-67-6   \n",
       "2   1-(6-Isopropyl-1,1,4-trimethyl-5-indanyl)-1-pr...   12   6682-77-5   \n",
       "4   1-(8-Methoxy-4,8-dimethylnonyl)-4-(1-methyleth...   14  53905-38-7   \n",
       "14                        1-(Bromoacetoxy)-2-propanol   24   4189-47-3   \n",
       "15               1-(Dodecylbenzyl)pyridinium chloride   25  30901-67-8   \n",
       "\n",
       "          class   mw         use                                    smiles  \\\n",
       "0   Carboxamide  0.0  Not Listed   NC(=O)C1(CCCCC1)N2C(=O)c3cccc(Cl)c3C2=O   \n",
       "2    Not Listed  0.0  Not Listed        CCC(=O)c1c(C)c2CCC(C)(C)c2cc1C(C)C   \n",
       "4    Not Listed  0.0  Not Listed        COC(C)(C)CCCC(C)CCCc1ccc(cc1)C(C)C   \n",
       "14   Not Listed  0.0  Not Listed                           CC(O)COC(=O)CBr   \n",
       "15   Not Listed  0.0  Not Listed  [Cl-].CCCCCCCCCCCCC(c1ccccc1)[n+]2ccccc2   \n",
       "\n",
       "                                    no_salt  \n",
       "0   NC(=O)C1(CCCCC1)N2C(=O)c3cccc(Cl)c3C2=O  \n",
       "2        CCC(=O)c1c(C)c2CCC(C)(C)c2cc1C(C)C  \n",
       "4        COC(C)(C)CCCC(C)CCCc1ccc(cc1)C(C)C  \n",
       "14                          CC(O)COC(=O)CBr  \n",
       "15       CCCCCCCCCCCCC(c1ccccc1)[n+]1ccccc1  "
      ]
     },
     "execution_count": 53,
     "metadata": {},
     "output_type": "execute_result"
    }
   ],
   "source": [
    "desalted_neut_org.head(5)"
   ]
  },
  {
   "cell_type": "markdown",
   "id": "c486da3f-b901-4a49-a09a-2446e749340e",
   "metadata": {},
   "source": [
    "# Use labels"
   ]
  },
  {
   "cell_type": "code",
   "execution_count": 54,
   "id": "7c29abd3-912e-4031-a1a5-b080ac00f5dd",
   "metadata": {},
   "outputs": [],
   "source": [
    "#print(desalted_neut_org[\"use\"].unique())"
   ]
  },
  {
   "cell_type": "code",
   "execution_count": 60,
   "id": "dec4b061-5575-4581-b4ee-3efa8ae44aeb",
   "metadata": {},
   "outputs": [],
   "source": [
    "all_uses = desalted_neut_org.copy()"
   ]
  },
  {
   "cell_type": "code",
   "execution_count": 61,
   "id": "5d73667c-c412-4fab-a78f-1384eeead2cd",
   "metadata": {},
   "outputs": [],
   "source": [
    "#all_uses.head(1)"
   ]
  },
  {
   "cell_type": "code",
   "execution_count": 105,
   "id": "6f6d22ab-0040-4a63-beae-aecf962b5bba",
   "metadata": {},
   "outputs": [
    {
     "name": "stdout",
     "output_type": "stream",
     "text": [
      "(3006, 8)\n",
      "(2979, 8)\n",
      "(2945, 8)\n",
      "(2944, 8)\n",
      "(2942, 8)\n",
      "(2941, 8)\n"
     ]
    },
    {
     "name": "stderr",
     "output_type": "stream",
     "text": [
      "C:\\Users\\tobia\\AppData\\Local\\Temp\\ipykernel_31436\\2775307384.py:7: UserWarning: Boolean Series key will be reindexed to match DataFrame index.\n",
      "  no_failures = no_failures[~Hg]\n",
      "C:\\Users\\tobia\\AppData\\Local\\Temp\\ipykernel_31436\\2775307384.py:10: UserWarning: Boolean Series key will be reindexed to match DataFrame index.\n",
      "  no_failures = no_failures[~Al]\n",
      "C:\\Users\\tobia\\AppData\\Local\\Temp\\ipykernel_31436\\2775307384.py:13: UserWarning: Boolean Series key will be reindexed to match DataFrame index.\n",
      "  no_failures = no_failures[~Bi]\n",
      "C:\\Users\\tobia\\AppData\\Local\\Temp\\ipykernel_31436\\2775307384.py:16: UserWarning: Boolean Series key will be reindexed to match DataFrame index.\n",
      "  no_failures = no_failures[~Pb]\n"
     ]
    }
   ],
   "source": [
    "# iterative removal, because this fails the later graph creation at the moment\n",
    "print(all_uses.shape)\n",
    "Sn = all_uses['no_salt'].str.contains('Sn')\n",
    "no_failures = all_uses[~Sn]\n",
    "print(no_failures.shape)\n",
    "Hg = desalted_neut_org['no_salt'].str.contains('Hg')\n",
    "no_failures = no_failures[~Hg]\n",
    "print(no_failures.shape)\n",
    "Al = desalted_neut_org['no_salt'].str.contains('Al')\n",
    "no_failures = no_failures[~Al]\n",
    "print(no_failures.shape)\n",
    "Bi = desalted_neut_org['no_salt'].str.contains('Bi')\n",
    "no_failures = no_failures[~Bi]\n",
    "print(no_failures.shape)\n",
    "Pb = desalted_neut_org['no_salt'].str.contains('Pb')\n",
    "no_failures = no_failures[~Pb]\n",
    "print(no_failures.shape)"
   ]
  },
  {
   "cell_type": "code",
   "execution_count": 106,
   "id": "017edb7b-731b-453a-b5fc-c98341d12536",
   "metadata": {},
   "outputs": [],
   "source": [
    "#no_failures['use'].unique()"
   ]
  },
  {
   "cell_type": "code",
   "execution_count": 197,
   "id": "e755f61c-8829-4033-8907-50a70884a891",
   "metadata": {},
   "outputs": [
    {
     "name": "stdout",
     "output_type": "stream",
     "text": [
      "(1620, 8)\n",
      "(493, 8)\n"
     ]
    }
   ],
   "source": [
    "pesticides = no_failures[no_failures['use'].str.contains('|'.join(['Insecticide','Fungicide','Microbiocide',\n",
    "                                                             'Herbicide','Algaecide','Nematicide','Rodenticide',\n",
    "                                                            'Molluscicide','Avicide', 'Piscicide']))]\n",
    "print(pesticides.shape)\n",
    "insecticides = pesticides[pesticides['use'].str.contains('Insecticide')]\n",
    "print(insecticides.shape)\n",
    "#nonactives = "
   ]
  },
  {
   "cell_type": "markdown",
   "id": "d7b14170-e063-41ab-bd11-ebf84f36af96",
   "metadata": {},
   "source": [
    "# Data Augmentation"
   ]
  },
  {
   "cell_type": "code",
   "execution_count": 196,
   "id": "31b7ed1c-fbe7-40d5-a8b6-4bebed97f139",
   "metadata": {},
   "outputs": [],
   "source": [
    "#insecticides.head(10)"
   ]
  },
  {
   "cell_type": "code",
   "execution_count": 254,
   "id": "78932d45-988f-4333-a2ec-d8aab3e6977f",
   "metadata": {},
   "outputs": [],
   "source": [
    "# idea 1\n",
    "def aliphatic_string(df, col):\n",
    "    '''\n",
    "    For each carbon string of 3 or more, create a new molecule with one less carbon and one with one more\n",
    "    '''\n",
    "    df_temp = df.copy().reset_index()\n",
    "\n",
    "    augmented_addC = []\n",
    "    #augmented_minusC = []\n",
    "    \n",
    "    for index, row in df_temp.iterrows():\n",
    "        smi = df_temp[col][index]\n",
    "        if 'CCC' in smi:\n",
    "            original = df_temp.iloc[index,:] \n",
    "            \n",
    "            # get the first CCC.. string\n",
    "            # make a longer version\n",
    "            plus_C = smi.replace('CCC', 'CCCC', 1) # only do one replacement\n",
    "            #print(plus_C) # for testing\n",
    "            plus_C_row = original\n",
    "            #plus_C_row[0] = 'aug_addC'\n",
    "            #plus_C_row[1] = 'aug_addC'\n",
    "            #plus_C_row[2] = 'aug_addC'\n",
    "            #plus_C_row[3] = 'aug_addC'\n",
    "            #plus_C_row[5] = 'aug_addC'\n",
    "            plus_C_row[8] = plus_C\n",
    "            augmented_addC.append(plus_C_row)\n",
    "            \n",
    "            #print(smi) # for testing\n",
    "            # make a shorter version\n",
    "            #minus_C = smi.replace('CCC', 'CC', 1)\n",
    "            #print(minus_C) # for testing\n",
    "            #minus_C_row = original\n",
    "            #minus_C_row[0] = 'aug_minusC'\n",
    "            #minus_C_row[1] = 'aug_minusC'\n",
    "            #minus_C_row[2] = 'aug_minusC'\n",
    "            #minus_C_row[3] = 'aug_minusC'\n",
    "            #minus_C_row[5] = 'aug_minusC'\n",
    "            #minus_C_row[8] = minus_C\n",
    "            #augmented_minusC.append(minus_C_row)\n",
    "            \n",
    "    addC = pd.DataFrame(augmented_addC)\n",
    "    #minusC = pd.DataFrame(augmented_minusC)\n",
    "\n",
    "    #out_df = pd.concat([addC, minusC], axis=0, ignore_index=True, verify_integrity=True)\n",
    "    #print(out_df.shape[0])\n",
    "    #out_df = pd.concat([df_temp, out_df], ignore_index=True)\n",
    "    \n",
    "    return addC"
   ]
  },
  {
   "cell_type": "code",
   "execution_count": 255,
   "id": "56013a20-9790-4ee4-9dff-209a929f469d",
   "metadata": {},
   "outputs": [
    {
     "name": "stdout",
     "output_type": "stream",
     "text": [
      "(1620, 8)\n",
      "(493, 8)\n"
     ]
    },
    {
     "name": "stderr",
     "output_type": "stream",
     "text": [
      "C:\\Users\\tobia\\AppData\\Local\\Temp\\ipykernel_31436\\1709427498.py:26: SettingWithCopyWarning: \n",
      "A value is trying to be set on a copy of a slice from a DataFrame\n",
      "\n",
      "See the caveats in the documentation: https://pandas.pydata.org/pandas-docs/stable/user_guide/indexing.html#returning-a-view-versus-a-copy\n",
      "  plus_C_row[8] = plus_C\n",
      "C:\\Users\\tobia\\AppData\\Local\\Temp\\ipykernel_31436\\1709427498.py:26: SettingWithCopyWarning: \n",
      "A value is trying to be set on a copy of a slice from a DataFrame\n",
      "\n",
      "See the caveats in the documentation: https://pandas.pydata.org/pandas-docs/stable/user_guide/indexing.html#returning-a-view-versus-a-copy\n",
      "  plus_C_row[8] = plus_C\n"
     ]
    },
    {
     "name": "stdout",
     "output_type": "stream",
     "text": [
      "(395, 9)\n",
      "(82, 9)\n"
     ]
    }
   ],
   "source": [
    "print(pesticides.shape)\n",
    "print(insecticides.shape)\n",
    "aug_insecticides = aliphatic_string(insecticides, 'no_salt')\n",
    "aug_pesticides = aliphatic_string(pesticides, 'no_salt')\n",
    "print(aug_pesticides.shape)\n",
    "print(aug_insecticides.shape)"
   ]
  },
  {
   "cell_type": "code",
   "execution_count": 256,
   "id": "77438014-eeb4-4b8d-8a65-52d6c51383e3",
   "metadata": {},
   "outputs": [
    {
     "data": {
      "text/html": [
       "<div>\n",
       "<style scoped>\n",
       "    .dataframe tbody tr th:only-of-type {\n",
       "        vertical-align: middle;\n",
       "    }\n",
       "\n",
       "    .dataframe tbody tr th {\n",
       "        vertical-align: top;\n",
       "    }\n",
       "\n",
       "    .dataframe thead th {\n",
       "        text-align: right;\n",
       "    }\n",
       "</style>\n",
       "<table border=\"1\" class=\"dataframe\">\n",
       "  <thead>\n",
       "    <tr style=\"text-align: right;\">\n",
       "      <th></th>\n",
       "      <th>index</th>\n",
       "      <th>name</th>\n",
       "      <th>pri</th>\n",
       "      <th>casrn</th>\n",
       "      <th>class</th>\n",
       "      <th>mw</th>\n",
       "      <th>use</th>\n",
       "      <th>smiles</th>\n",
       "      <th>no_salt</th>\n",
       "    </tr>\n",
       "  </thead>\n",
       "  <tbody>\n",
       "    <tr>\n",
       "      <th>4</th>\n",
       "      <td>156</td>\n",
       "      <td>2-(2-butoxy ethoxy) ethyl thiocyanate</td>\n",
       "      <td>180</td>\n",
       "      <td>112-56-1</td>\n",
       "      <td>Not Listed</td>\n",
       "      <td>203.3</td>\n",
       "      <td>Insecticide</td>\n",
       "      <td>CCCCOCCOCCSC#N</td>\n",
       "      <td>CCCCCOCCOCCSC#N</td>\n",
       "    </tr>\n",
       "    <tr>\n",
       "      <th>7</th>\n",
       "      <td>222</td>\n",
       "      <td>2-cyclohexyl-4,5-dichloro-4-isothioazolin-3-one</td>\n",
       "      <td>255</td>\n",
       "      <td>57063-29-3</td>\n",
       "      <td>Isothiazolone</td>\n",
       "      <td>0.0</td>\n",
       "      <td>Insecticide</td>\n",
       "      <td>ClC1=C(Cl)C(=O)N(S1)C2CCCCC2</td>\n",
       "      <td>ClC1=C(Cl)C(=O)N(S1)C2CCCCCC2</td>\n",
       "    </tr>\n",
       "  </tbody>\n",
       "</table>\n",
       "</div>"
      ],
      "text/plain": [
       "   index                                             name  pri       casrn  \\\n",
       "4    156            2-(2-butoxy ethoxy) ethyl thiocyanate  180    112-56-1   \n",
       "7    222  2-cyclohexyl-4,5-dichloro-4-isothioazolin-3-one  255  57063-29-3   \n",
       "\n",
       "           class     mw          use                        smiles  \\\n",
       "4     Not Listed  203.3  Insecticide                CCCCOCCOCCSC#N   \n",
       "7  Isothiazolone    0.0  Insecticide  ClC1=C(Cl)C(=O)N(S1)C2CCCCC2   \n",
       "\n",
       "                         no_salt  \n",
       "4                CCCCCOCCOCCSC#N  \n",
       "7  ClC1=C(Cl)C(=O)N(S1)C2CCCCCC2  "
      ]
     },
     "execution_count": 256,
     "metadata": {},
     "output_type": "execute_result"
    }
   ],
   "source": [
    "aug_insecticides.head(2)"
   ]
  },
  {
   "cell_type": "markdown",
   "id": "b9092e0a-6b48-4910-a25e-c174fa38b677",
   "metadata": {},
   "source": [
    "# Predict Log P"
   ]
  },
  {
   "cell_type": "code",
   "execution_count": 257,
   "id": "385421c9-a667-409d-a9f2-665889d07757",
   "metadata": {},
   "outputs": [],
   "source": [
    "from rdkit.Chem.QED import properties"
   ]
  },
  {
   "cell_type": "code",
   "execution_count": 258,
   "id": "64f984e2-4192-4dc8-961a-d41af32590e9",
   "metadata": {},
   "outputs": [],
   "source": [
    "def alogp(df, col):\n",
    "    '''\n",
    "    calculates logP using QED ALogP\n",
    "    https://www.rdkit.org/docs/source/rdkit.Chem.QED.html\n",
    "    ''' \n",
    "    logp_storage = []\n",
    "\n",
    "    smiles = df[col]\n",
    "    \n",
    "    for smi in smiles:\n",
    "        mol = Chem.MolFromSmiles(smi)\n",
    "        properties = rdkit.Chem.QED.properties(mol)\n",
    "        logp = properties[1]\n",
    "        logp_storage.append(logp)\n",
    "\n",
    "    df['alogp'] = logp_storage\n",
    "\n",
    "    return df"
   ]
  },
  {
   "cell_type": "code",
   "execution_count": 260,
   "id": "429b1d64-4ce5-436a-abeb-469dbaad06f0",
   "metadata": {},
   "outputs": [
    {
     "name": "stderr",
     "output_type": "stream",
     "text": [
      "C:\\Users\\tobia\\AppData\\Local\\Temp\\ipykernel_31436\\2816114057.py:16: SettingWithCopyWarning: \n",
      "A value is trying to be set on a copy of a slice from a DataFrame.\n",
      "Try using .loc[row_indexer,col_indexer] = value instead\n",
      "\n",
      "See the caveats in the documentation: https://pandas.pydata.org/pandas-docs/stable/user_guide/indexing.html#returning-a-view-versus-a-copy\n",
      "  df['alogp'] = logp_storage\n"
     ]
    }
   ],
   "source": [
    "insecticides_logp = alogp(aug_insecticides, 'no_salt')\n",
    "pesticides_logp = alogp(pesticides, 'no_salt')"
   ]
  },
  {
   "cell_type": "markdown",
   "id": "c108898e-4450-47b6-a53a-8bc9bcf6b5df",
   "metadata": {},
   "source": [
    "# SMILES to Graphs\n",
    "from https://www.blopig.com/blog/2022/02/how-to-turn-a-smiles-string-into-a-molecular-graph-for-pytorch-geometric/"
   ]
  },
  {
   "cell_type": "code",
   "execution_count": 261,
   "id": "9159c82a-59a5-481c-9683-bc036345c318",
   "metadata": {},
   "outputs": [],
   "source": [
    "# RDkit\n",
    "from rdkit import Chem\n",
    "from rdkit.Chem.rdmolops import GetAdjacencyMatrix\n",
    "# Pytorch and Pytorch Geometric\n",
    "import torch\n",
    "from torch_geometric.data import Data\n",
    "from torch.utils.data import DataLoader"
   ]
  },
  {
   "cell_type": "markdown",
   "id": "8615977b-ca14-4469-a0f5-9a06688f33bf",
   "metadata": {},
   "source": [
    "### Atom featurization"
   ]
  },
  {
   "cell_type": "code",
   "execution_count": 262,
   "id": "ca63ce1a-5d87-4e3a-b0c9-53a67fa6b1d9",
   "metadata": {},
   "outputs": [],
   "source": [
    "def one_hot_encoding(x, permitted_list):\n",
    "    \"\"\"\n",
    "    Maps input elements x which are not in the permitted list to the last element\n",
    "    of the permitted list.\n",
    "    \"\"\"\n",
    "    if x not in permitted_list:\n",
    "        x = permitted_list[-1]\n",
    "    binary_encoding = [int(boolean_value) for boolean_value in list(map(lambda s: x == s, permitted_list))]\n",
    "    return binary_encoding"
   ]
  },
  {
   "cell_type": "code",
   "execution_count": 263,
   "id": "82e010e1-032d-439b-8bdd-9d64d11649c7",
   "metadata": {},
   "outputs": [],
   "source": [
    "def get_atom_features(atom, \n",
    "                      use_chirality = True, \n",
    "                      hydrogens_implicit = True):\n",
    "    \"\"\"\n",
    "    Takes an RDKit atom object as input and gives a 1d-numpy array of atom features as output.\n",
    "    \"\"\"\n",
    "    # define list of permitted atoms\n",
    "    \n",
    "    permitted_list_of_atoms =  ['C','N','O','S','F','Si','P','Cl','Br','Mg','Na','Ca','Fe','As','Al','I', 'B','V','K','Tl','Yb','Sb','Sn','Ag','Pd','Co','Se','Ti','Zn', 'Li','Ge','Cu','Au','Ni','Cd','In','Mn','Zr','Cr','Pt','Hg','Pb','Unknown']\n",
    "    \n",
    "    if hydrogens_implicit == False:\n",
    "        permitted_list_of_atoms = ['H'] + permitted_list_of_atoms\n",
    "    \n",
    "    # compute atom features\n",
    "    \n",
    "    atom_type_enc = one_hot_encoding(str(atom.GetSymbol()), permitted_list_of_atoms)\n",
    "    \n",
    "    n_heavy_neighbors_enc = one_hot_encoding(int(atom.GetDegree()), [0, 1, 2, 3, 4, \"MoreThanFour\"])\n",
    "    \n",
    "    formal_charge_enc = one_hot_encoding(int(atom.GetFormalCharge()), [-3, -2, -1, 0, 1, 2, 3, \"Extreme\"])\n",
    "    \n",
    "    hybridisation_type_enc = one_hot_encoding(str(atom.GetHybridization()), [\"S\", \"SP\", \"SP2\", \"SP3\", \"SP3D\", \"SP3D2\", \"OTHER\"])\n",
    "    \n",
    "    is_in_a_ring_enc = [int(atom.IsInRing())]\n",
    "    \n",
    "    is_aromatic_enc = [int(atom.GetIsAromatic())]\n",
    "    \n",
    "    atomic_mass_scaled = [float((atom.GetMass() - 10.812)/116.092)]\n",
    "    \n",
    "    vdw_radius_scaled = [float((Chem.GetPeriodicTable().GetRvdw(atom.GetAtomicNum()) - 1.5)/0.6)]\n",
    "    \n",
    "    covalent_radius_scaled = [float((Chem.GetPeriodicTable().GetRcovalent(atom.GetAtomicNum()) - 0.64)/0.76)]\n",
    "    atom_feature_vector = atom_type_enc + n_heavy_neighbors_enc + formal_charge_enc + hybridisation_type_enc + is_in_a_ring_enc + is_aromatic_enc + atomic_mass_scaled + vdw_radius_scaled + covalent_radius_scaled\n",
    "                                    \n",
    "    if use_chirality == True:\n",
    "        chirality_type_enc = one_hot_encoding(str(atom.GetChiralTag()), [\"CHI_UNSPECIFIED\", \"CHI_TETRAHEDRAL_CW\", \"CHI_TETRAHEDRAL_CCW\", \"CHI_OTHER\"])\n",
    "        atom_feature_vector += chirality_type_enc\n",
    "    \n",
    "    if hydrogens_implicit == True:\n",
    "        n_hydrogens_enc = one_hot_encoding(int(atom.GetTotalNumHs()), [0, 1, 2, 3, 4, \"MoreThanFour\"])\n",
    "        atom_feature_vector += n_hydrogens_enc\n",
    "    return np.array(atom_feature_vector)"
   ]
  },
  {
   "cell_type": "markdown",
   "id": "b54d338b-e2ac-4060-945f-7723d1836f21",
   "metadata": {},
   "source": [
    "### Bond featurization"
   ]
  },
  {
   "cell_type": "code",
   "execution_count": 264,
   "id": "d43764ab-d587-48e2-8b5a-8fea76b90c22",
   "metadata": {},
   "outputs": [],
   "source": [
    "def get_bond_features(bond, \n",
    "                      use_stereochemistry = True):\n",
    "    \"\"\"\n",
    "    Takes an RDKit bond object as input and gives a 1d-numpy array of bond features as output.\n",
    "    \"\"\"\n",
    "    permitted_list_of_bond_types = [Chem.rdchem.BondType.SINGLE, Chem.rdchem.BondType.DOUBLE, Chem.rdchem.BondType.TRIPLE, Chem.rdchem.BondType.AROMATIC]\n",
    "    bond_type_enc = one_hot_encoding(bond.GetBondType(), permitted_list_of_bond_types)\n",
    "    \n",
    "    bond_is_conj_enc = [int(bond.GetIsConjugated())]\n",
    "    \n",
    "    bond_is_in_ring_enc = [int(bond.IsInRing())]\n",
    "    \n",
    "    bond_feature_vector = bond_type_enc + bond_is_conj_enc + bond_is_in_ring_enc\n",
    "    \n",
    "    if use_stereochemistry == True:\n",
    "        stereo_type_enc = one_hot_encoding(str(bond.GetStereo()), [\"STEREOZ\", \"STEREOE\", \"STEREOANY\", \"STEREONONE\"])\n",
    "        bond_feature_vector += stereo_type_enc\n",
    "    return np.array(bond_feature_vector)"
   ]
  },
  {
   "cell_type": "markdown",
   "id": "4a67b8f2-fb6e-4753-9a88-24d96c139bda",
   "metadata": {},
   "source": [
    "### Function to integrate and create dataset"
   ]
  },
  {
   "cell_type": "code",
   "execution_count": 265,
   "id": "71b44f69-f886-427e-bef2-ecd46df94459",
   "metadata": {},
   "outputs": [],
   "source": [
    "def create_pytorch_geometric_graph_data_list_from_smiles_and_labels(x_smiles, y):\n",
    "    \"\"\"\n",
    "    Inputs:\n",
    "    \n",
    "    x_smiles = [smiles_1, smiles_2, ....] ... a list of SMILES strings\n",
    "    y = [y_1, y_2, ...] ... a list of numerial labels for the SMILES strings (such as associated pKi values)\n",
    "    \n",
    "    Outputs:\n",
    "    \n",
    "    data_list = [G_1, G_2, ...] ... a list of torch_geometric.data.Data objects which represent labeled molecular graphs that can readily be used for machine learning\n",
    "    \n",
    "    \"\"\"\n",
    "    \n",
    "    data_list = []\n",
    "    \n",
    "    for (smiles, y_val) in zip(x_smiles, y):\n",
    "        \n",
    "        # convert SMILES to RDKit mol object\n",
    "        mol = Chem.MolFromSmiles(smiles)\n",
    "        # get feature dimensions\n",
    "        n_nodes = mol.GetNumAtoms()\n",
    "        n_edges = 2*mol.GetNumBonds()\n",
    "        unrelated_smiles = \"O=O\"\n",
    "        unrelated_mol = Chem.MolFromSmiles(unrelated_smiles)\n",
    "        n_node_features = len(get_atom_features(unrelated_mol.GetAtomWithIdx(0)))\n",
    "        n_edge_features = len(get_bond_features(unrelated_mol.GetBondBetweenAtoms(0,1)))\n",
    "        # construct node feature matrix X of shape (n_nodes, n_node_features)\n",
    "        X = np.zeros((n_nodes, n_node_features))\n",
    "        for atom in mol.GetAtoms():\n",
    "            X[atom.GetIdx(), :] = get_atom_features(atom)\n",
    "            \n",
    "        X = torch.tensor(X, dtype = torch.float)\n",
    "        \n",
    "        # construct edge index array E of shape (2, n_edges)\n",
    "        (rows, cols) = np.nonzero(GetAdjacencyMatrix(mol))\n",
    "        torch_rows = torch.from_numpy(rows.astype(np.int64)).to(torch.long)\n",
    "        torch_cols = torch.from_numpy(cols.astype(np.int64)).to(torch.long)\n",
    "        E = torch.stack([torch_rows, torch_cols], dim = 0)\n",
    "        \n",
    "        # construct edge feature array EF of shape (n_edges, n_edge_features)\n",
    "        EF = np.zeros((n_edges, n_edge_features))\n",
    "        \n",
    "        for (k, (i,j)) in enumerate(zip(rows, cols)):\n",
    "            \n",
    "            EF[k] = get_bond_features(mol.GetBondBetweenAtoms(int(i),int(j)))\n",
    "        \n",
    "        EF = torch.tensor(EF, dtype = torch.float)\n",
    "        \n",
    "        # construct label tensor\n",
    "        y_tensor = torch.tensor(np.array([y_val]), dtype = torch.float)\n",
    "        \n",
    "        # construct Pytorch Geometric data object and append to data list\n",
    "        data_list.append(Data(x = X, edge_index = E, edge_attr = EF, y = y_tensor))\n",
    "    return data_list"
   ]
  },
  {
   "cell_type": "markdown",
   "id": "d4926ea3-30fc-4ef4-b17a-b7ae2a0d910c",
   "metadata": {},
   "source": [
    "### Create datasets"
   ]
  },
  {
   "cell_type": "code",
   "execution_count": 266,
   "id": "a4cb0481-de8d-4c49-abf9-487f6d029c6f",
   "metadata": {},
   "outputs": [],
   "source": [
    "pesticides_graph = create_pytorch_geometric_graph_data_list_from_smiles_and_labels(pesticides_logp['no_salt'], pesticides_logp['alogp'])\n",
    "insecticides_graph = create_pytorch_geometric_graph_data_list_from_smiles_and_labels(insecticides_logp['no_salt'], insecticides_logp['alogp'])"
   ]
  },
  {
   "cell_type": "code",
   "execution_count": 267,
   "id": "01824505-0a7b-4455-9162-460a800f8b43",
   "metadata": {},
   "outputs": [],
   "source": [
    "torch.save(pesticides_graph, \"pesticides_graphs.pt\")\n",
    "torch.save(insecticides_graph, \"insecticides_graphs.pt\")"
   ]
  },
  {
   "cell_type": "code",
   "execution_count": null,
   "id": "c6ec0fdf-d881-4784-8dea-2693b3191027",
   "metadata": {},
   "outputs": [],
   "source": []
  }
 ],
 "metadata": {
  "kernelspec": {
   "display_name": "Python 3 (ipykernel)",
   "language": "python",
   "name": "python3"
  },
  "language_info": {
   "codemirror_mode": {
    "name": "ipython",
    "version": 3
   },
   "file_extension": ".py",
   "mimetype": "text/x-python",
   "name": "python",
   "nbconvert_exporter": "python",
   "pygments_lexer": "ipython3",
   "version": "3.8.19"
  }
 },
 "nbformat": 4,
 "nbformat_minor": 5
}
