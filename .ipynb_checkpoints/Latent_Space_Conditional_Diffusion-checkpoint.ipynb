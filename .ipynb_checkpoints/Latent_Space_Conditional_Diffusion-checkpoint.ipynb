{
 "cells": [
  {
   "cell_type": "markdown",
   "id": "1e087efc-8046-4d85-af23-4a88a4b12cab",
   "metadata": {},
   "source": [
    "Architecture trains a diffusion model to diffuse from the latent space to Gaussian noise. The conditional aspect allows for the selection of low logp values to diffuse back to the latent space."
   ]
  },
  {
   "cell_type": "code",
   "execution_count": null,
   "id": "ef9a7b94-203e-4dd7-ba1b-a6e7ddd431e3",
   "metadata": {},
   "outputs": [],
   "source": []
  }
 ],
 "metadata": {
  "kernelspec": {
   "display_name": "Python [conda env:base]",
   "language": "python",
   "name": "conda-base-py"
  },
  "language_info": {
   "codemirror_mode": {
    "name": "ipython",
    "version": 3
   },
   "file_extension": ".py",
   "mimetype": "text/x-python",
   "name": "python",
   "nbconvert_exporter": "python",
   "pygments_lexer": "ipython3",
   "version": "3.12.3"
  }
 },
 "nbformat": 4,
 "nbformat_minor": 5
}
