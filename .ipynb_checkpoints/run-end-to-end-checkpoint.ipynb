{
 "cells": [
  {
   "cell_type": "markdown",
   "id": "6a333582-2a54-44fb-82ef-3eeec9388e09",
   "metadata": {},
   "source": [
    "## CPSC 452: Final Project\n",
    "### Helen Cai, Tobias Muellers, Jennifer Gao\n",
    "\n",
    "This is a notebook containing the minimum working examples of our molecular generation project.\n",
    "\n",
    "Requirements: \n",
    "* trained models stored in `models/`\n",
    "* datasets (e.g. pesticides as graphs) stored in `data/`\n",
    "* modules are stored in `functions/`\n",
    "\n",
    "For this notebook, intermediates are also loaded in from `data/` to keep runtime to a minimum. Training processes and diffusion/generative processes are included as commented lines. "
   ]
  },
  {
   "cell_type": "code",
   "execution_count": 20,
   "id": "931c3cd6-4267-41f5-8869-99aee1c01666",
   "metadata": {},
   "outputs": [],
   "source": [
    "import numpy as np\n",
    "import matplotlib.pyplot as plt\n",
    "import pandas as pd\n",
    "\n",
    "import torch\n",
    "import torch.nn as nn\n",
    "import torch.nn.functional as F\n",
    "import torch.optim as optim\n",
    "from torch.nn import Linear\n",
    "from sklearn.model_selection import train_test_split\n",
    "from sklearn.neighbors import NearestNeighbors\n",
    "import tqdm\n",
    "\n",
    "# NetworkX is a Python package used to create, manipulate, and mine graphs\n",
    "import networkx as nx\n",
    "\n",
    "# further libraries for working with graphs\n",
    "import torch_geometric\n",
    "from torch_geometric.nn import GCNConv, pool\n",
    "from torch_geometric.utils import to_networkx\n",
    "from torch_geometric.data import Data, Dataset\n",
    "from torch_geometric.loader import DataLoader\n",
    "\n",
    "# For visualization\n",
    "import phate\n",
    "\n",
    "# Graph scattering functionality\n",
    "from functions.LEGS_module import *\n",
    "\n",
    "# Home-grown functions\n",
    "from functions.utils import *\n",
    "from functions.data_generation import *\n",
    "from functions.encoder_functions import *\n",
    "from functions.diffusion_functions import *\n",
    "from functions.decoder_functions import *\n",
    "from functions.evaluation_functions import *"
   ]
  },
  {
   "cell_type": "markdown",
   "id": "e5013eac-e9a9-466c-9846-88b88c3bae7d",
   "metadata": {},
   "source": [
    "## Data generation "
   ]
  },
  {
   "cell_type": "markdown",
   "id": "98d15eba-5cc9-4fd5-a3a9-1c021442af6a",
   "metadata": {
    "jp-MarkdownHeadingCollapsed": true
   },
   "source": [
    "### Web scraping and adding SMILES"
   ]
  },
  {
   "cell_type": "code",
   "execution_count": 3,
   "id": "2f06927e-fb05-4d05-8a58-24220bf1dea5",
   "metadata": {},
   "outputs": [],
   "source": [
    "# access and extract data from pesticideinfo.com\n",
    "\n",
    "# this code takes ~15 hours to run\n",
    "#extracted_1_100001 = pesticideinfo_get(1, 100001)\n",
    "# save output\n",
    "# extracted_1_100001.to_csv(\"pest_info_db_1_100001.csv\")"
   ]
  },
  {
   "cell_type": "code",
   "execution_count": 2,
   "id": "a14e063f-3f34-4b50-8748-39662004728c",
   "metadata": {},
   "outputs": [
    {
     "name": "stdout",
     "output_type": "stream",
     "text": [
      "(15227, 7)\n",
      "(3827, 7)\n"
     ]
    }
   ],
   "source": [
    "# data generation checkpoint\n",
    "# load extracted data, which is in smaller pieces\n",
    "raw_pestinfo_1_10001 = pd.read_csv('pest_info_db_1_10001.csv')\n",
    "raw_pestinfo_10001_20001 = pd.read_csv('pest_info_db_10001_20001.csv')\n",
    "raw_pestinfo_20001_30001 = pd.read_csv('pest_info_db_20001_30001.csv')\n",
    "raw_pestinfo_30001_50001 = pd.read_csv('pest_info_db_30001_50001.csv')\n",
    "raw_pestinfo = pd.concat([raw_pestinfo_1_10001, raw_pestinfo_10001_20001, raw_pestinfo_20001_30001, raw_pestinfo_30001_50001])\n",
    "print(raw_pestinfo.shape)\n",
    "# drop where name is NaN\n",
    "pestinfo = raw_pestinfo[pd.isnull(raw_pestinfo['name']) == False]\n",
    "# only take pesticides\n",
    "pestinfo = pestinfo[pestinfo['use'].str.contains('|'.join(['Insecticide','Fungicide','Microbiocide',\n",
    "                                                             'Herbicide','Algaecide','Nematicide','Rodenticide',\n",
    "                                                            'Molluscicide','Avicide', 'Piscicide']))]\n",
    "print(pestinfo.shape)"
   ]
  },
  {
   "cell_type": "code",
   "execution_count": 3,
   "id": "98061146-b6b2-4117-8f4a-9ddb74e3331b",
   "metadata": {},
   "outputs": [],
   "source": [
    "# Add SMILES via Cirpy\n",
    "# this takes ~40 minutes to run\n",
    "#pestinfo_smiles = add_smiles(pestinfo, 'casrn', 'name')\n",
    "# save intermediate output\n",
    "#pestinfo_smiles.to_csv(\"pestinfo_smiles.csv\")"
   ]
  },
  {
   "cell_type": "code",
   "execution_count": 13,
   "id": "5a55ca38-1f00-45d4-afb7-52ef8a9e9b0b",
   "metadata": {},
   "outputs": [
    {
     "name": "stdout",
     "output_type": "stream",
     "text": [
      "(3827, 10)\n",
      "(2290, 7)\n",
      "(2017, 7)\n",
      "(2017, 4)\n"
     ]
    },
    {
     "data": {
      "text/html": [
       "<div>\n",
       "<style scoped>\n",
       "    .dataframe tbody tr th:only-of-type {\n",
       "        vertical-align: middle;\n",
       "    }\n",
       "\n",
       "    .dataframe tbody tr th {\n",
       "        vertical-align: top;\n",
       "    }\n",
       "\n",
       "    .dataframe thead th {\n",
       "        text-align: right;\n",
       "    }\n",
       "</style>\n",
       "<table border=\"1\" class=\"dataframe\">\n",
       "  <thead>\n",
       "    <tr style=\"text-align: right;\">\n",
       "      <th></th>\n",
       "      <th>PREFERRED NAME</th>\n",
       "      <th>CASRN</th>\n",
       "      <th>SMILES</th>\n",
       "      <th>use</th>\n",
       "    </tr>\n",
       "  </thead>\n",
       "  <tbody>\n",
       "    <tr>\n",
       "      <th>14</th>\n",
       "      <td>1-bromo-3-chloro-5,5-dimethyl hydantoin</td>\n",
       "      <td>16079-88-2</td>\n",
       "      <td>CC1(C)N(Br)C(=O)N(Cl)C1=O</td>\n",
       "      <td>Fungicide,Herbicide,Microbiocide</td>\n",
       "    </tr>\n",
       "  </tbody>\n",
       "</table>\n",
       "</div>"
      ],
      "text/plain": [
       "                             PREFERRED NAME       CASRN  \\\n",
       "14  1-bromo-3-chloro-5,5-dimethyl hydantoin  16079-88-2   \n",
       "\n",
       "                       SMILES                               use  \n",
       "14  CC1(C)N(Br)C(=O)N(Cl)C1=O  Fungicide,Herbicide,Microbiocide  "
      ]
     },
     "execution_count": 13,
     "metadata": {},
     "output_type": "execute_result"
    }
   ],
   "source": [
    "# data generation checkpoint\n",
    "# load input\n",
    "pestinfo_smiles = pd.read_csv('pestinfo_smiles.csv')\n",
    "print(pestinfo_smiles.shape)\n",
    "\n",
    "# remove no smiles\n",
    "pestinfo_smiles = merge_and_remove_smiles(pestinfo_smiles, \"smiles_cirpy_casrn\", \"smiles_cirpy_name\")\n",
    "pestinfo_smiles = pestinfo_smiles.drop(columns=['Unnamed: 0.1', 'Unnamed: 0', 'smiles_cirpy_casrn', 'smiles_cirpy_name'])\n",
    "pestinfo_smiles = pestinfo_smiles[pd.isnull(pestinfo_smiles['smiles']) == False]\n",
    "print(pestinfo_smiles.shape)\n",
    "\n",
    "# remove inorganics based on class\n",
    "pestinfo_smiles = pestinfo_smiles[pestinfo_smiles['class'] != 'Inorganic'] # drop inorganic\n",
    "pestinfo_smiles = pd.DataFrame(pestinfo_smiles[~pestinfo_smiles['class'].str.contains('Inorganic')]) # drop containing inorganic\n",
    "print(pestinfo_smiles.shape)\n",
    "\n",
    "# drop unneeded columns\n",
    "pestinfo_smiles = pestinfo_smiles.drop(columns=['class','pri','mw'])\n",
    "\n",
    "# rename and rearrange\n",
    "pestinfo_smiles = pestinfo_smiles.rename(columns={'name' : 'PREFERRED NAME', 'casrn':'CASRN','smiles':'SMILES'})\n",
    "pestinfo_smiles = pestinfo_smiles.iloc[:, [0,1,3,2]]\n",
    "print(pestinfo_smiles.shape)\n",
    "pestinfo_smiles.head(1)"
   ]
  },
  {
   "cell_type": "code",
   "execution_count": null,
   "id": "f1683478-5929-4828-bcf5-bd139be8dd73",
   "metadata": {},
   "outputs": [
    {
     "name": "stdout",
     "output_type": "stream",
     "text": [
      "(1465, 33)\n",
      "(946, 3)\n",
      "(780, 3)\n"
     ]
    },
    {
     "name": "stderr",
     "output_type": "stream",
     "text": [
      "  0%|          | 0/780 [00:00<?, ?it/s]"
     ]
    }
   ],
   "source": [
    "# Load dataset from ECHA\n",
    "echa = pd.read_csv(\"ActiveSubstanceExport_16-04-2025.csv\")\n",
    "print(echa.shape)\n",
    "keep_echa_columns = ['Substance', 'CAS Number','Functions']\n",
    "echa = echa[keep_echa_columns]\n",
    "echa = echa.rename(columns={'Substance' : 'PREFERRED NAME', 'CAS Number':'CASRN','Functions':'use'})\n",
    "\n",
    "# remove NaN\n",
    "echa = echa.dropna(subset=['use'])\n",
    "print(echa.shape)\n",
    "\n",
    "# take only pesticides\n",
    "echa = echa[echa['use'].str.contains('|'.join(['IN','AC','BA','BI',\n",
    "                                               'FU','HB','MO','MI',\n",
    "                                               'NE','RO','VI']))]\n",
    "print(echa.shape)\n",
    "\n",
    "# add smiles\n",
    "echa_smiles = add_smiles(echa, 'CASRN', 'PREFERRED NAME')\n",
    "\n",
    "# save intermediate output\n",
    "echa_smiles.to_csv(\"echa_smiles.csv\")"
   ]
  },
  {
   "cell_type": "code",
   "execution_count": 14,
   "id": "4c192ac5-ee9a-4776-bc45-ee1ab9943977",
   "metadata": {},
   "outputs": [
    {
     "name": "stdout",
     "output_type": "stream",
     "text": [
      "(780, 6)\n",
      "(617, 4)\n"
     ]
    },
    {
     "data": {
      "text/html": [
       "<div>\n",
       "<style scoped>\n",
       "    .dataframe tbody tr th:only-of-type {\n",
       "        vertical-align: middle;\n",
       "    }\n",
       "\n",
       "    .dataframe tbody tr th {\n",
       "        vertical-align: top;\n",
       "    }\n",
       "\n",
       "    .dataframe thead th {\n",
       "        text-align: right;\n",
       "    }\n",
       "</style>\n",
       "<table border=\"1\" class=\"dataframe\">\n",
       "  <thead>\n",
       "    <tr style=\"text-align: right;\">\n",
       "      <th></th>\n",
       "      <th>PREFERRED NAME</th>\n",
       "      <th>CASRN</th>\n",
       "      <th>SMILES</th>\n",
       "      <th>use</th>\n",
       "    </tr>\n",
       "  </thead>\n",
       "  <tbody>\n",
       "    <tr>\n",
       "      <th>1</th>\n",
       "      <td>2,4,5-T</td>\n",
       "      <td>93-76-5</td>\n",
       "      <td>OC(=O)COc1cc(Cl)c(Cl)cc1Cl</td>\n",
       "      <td>Herbicide</td>\n",
       "    </tr>\n",
       "  </tbody>\n",
       "</table>\n",
       "</div>"
      ],
      "text/plain": [
       "  PREFERRED NAME    CASRN                      SMILES        use\n",
       "1        2,4,5-T  93-76-5  OC(=O)COc1cc(Cl)c(Cl)cc1Cl  Herbicide"
      ]
     },
     "execution_count": 14,
     "metadata": {},
     "output_type": "execute_result"
    }
   ],
   "source": [
    "# data generation checkpoint\n",
    "# load input\n",
    "echa_smiles = pd.read_csv('echa_smiles.csv')\n",
    "print(echa_smiles.shape)\n",
    "\n",
    "# remove no smiles\n",
    "echa_smiles = merge_and_remove_smiles(echa_smiles.reset_index(), \"smiles_cirpy_casrn\", \"smiles_cirpy_name\")\n",
    "echa_smiles = echa_smiles.drop(columns=['index', 'smiles_cirpy_casrn', 'smiles_cirpy_name'])\n",
    "echa_smiles = echa_smiles[pd.isnull(echa_smiles['smiles']) == False]\n",
    "\n",
    "# rename columns\n",
    "echa_smiles['use'] = echa_smiles['use'].replace('IN', 'Insecticide')\n",
    "echa_smiles['use'] = echa_smiles['use'].replace('AC', 'Acarizide')\n",
    "echa_smiles['use'] = echa_smiles['use'].replace('BA', 'Bactericide')\n",
    "echa_smiles['use'] = echa_smiles['use'].replace('BI', 'Biocide')\n",
    "echa_smiles['use'] = echa_smiles['use'].replace('FU', 'Fungicide')\n",
    "echa_smiles['use'] = echa_smiles['use'].replace('HB', 'Herbicide')\n",
    "echa_smiles['use'] = echa_smiles['use'].replace('MO', 'Molluscicide')\n",
    "echa_smiles['use'] = echa_smiles['use'].replace('MI', 'Miticide')\n",
    "echa_smiles['use'] = echa_smiles['use'].replace('NE', 'Nematicide')\n",
    "echa_smiles['use'] = echa_smiles['use'].replace('RO', 'Rodenticide')\n",
    "echa_smiles['use'] = echa_smiles['use'].replace('VI', 'Viricide')\n",
    "\n",
    "# rename\n",
    "echa_smiles = echa_smiles.rename(columns={'smiles':'SMILES'})\n",
    "echa_smiles = echa_smiles.drop(columns={'Unnamed: 0'})\n",
    "echa_smiles = echa_smiles.iloc[:, [0,1,3,2]]\n",
    "print(echa_smiles.shape)\n",
    "echa_smiles.head(1)"
   ]
  },
  {
   "cell_type": "markdown",
   "id": "98872283-dc34-4806-b7cf-092f8c6a19a6",
   "metadata": {},
   "source": [
    "### Add other datasets"
   ]
  },
  {
   "cell_type": "code",
   "execution_count": 15,
   "id": "0d5094d1-fc1f-47e0-a3dc-f10ea26aa46d",
   "metadata": {},
   "outputs": [
    {
     "name": "stdout",
     "output_type": "stream",
     "text": [
      "(84, 4)\n"
     ]
    },
    {
     "data": {
      "text/html": [
       "<div>\n",
       "<style scoped>\n",
       "    .dataframe tbody tr th:only-of-type {\n",
       "        vertical-align: middle;\n",
       "    }\n",
       "\n",
       "    .dataframe tbody tr th {\n",
       "        vertical-align: top;\n",
       "    }\n",
       "\n",
       "    .dataframe thead th {\n",
       "        text-align: right;\n",
       "    }\n",
       "</style>\n",
       "<table border=\"1\" class=\"dataframe\">\n",
       "  <thead>\n",
       "    <tr style=\"text-align: right;\">\n",
       "      <th></th>\n",
       "      <th>PREFERRED NAME</th>\n",
       "      <th>CASRN</th>\n",
       "      <th>SMILES</th>\n",
       "      <th>use</th>\n",
       "    </tr>\n",
       "  </thead>\n",
       "  <tbody>\n",
       "    <tr>\n",
       "      <th>0</th>\n",
       "      <td>3'-Methoxyrocaglamide</td>\n",
       "      <td>189322-69-8</td>\n",
       "      <td>COC1=CC2=C(C(OC)=C1)[C@]1(O)[C@H](O)[C@@H]([C@...</td>\n",
       "      <td>Insecticide</td>\n",
       "    </tr>\n",
       "  </tbody>\n",
       "</table>\n",
       "</div>"
      ],
      "text/plain": [
       "          PREFERRED NAME        CASRN  \\\n",
       "0  3'-Methoxyrocaglamide  189322-69-8   \n",
       "\n",
       "                                              SMILES          use  \n",
       "0  COC1=CC2=C(C(OC)=C1)[C@]1(O)[C@H](O)[C@@H]([C@...  Insecticide  "
      ]
     },
     "execution_count": 15,
     "metadata": {},
     "output_type": "execute_result"
    }
   ],
   "source": [
    "# Load NORMAN: Natural Product Insecticides\n",
    "# A list of naturally occurring insecticides curated and provided to the NORMAN Suspect List Exchange \n",
    "# https://www.norman-network.com/nds/SLE/ DOI: https://doi.org/10.5281/zenodo.3544742\n",
    "norman = pd.read_csv('Chemical List NPINSECT-2025-04-03.csv')\n",
    "norman = norman.drop(columns=['DTXSID', 'INCHIKEY','INCHI STRING','IUPAC NAME',\n",
    "                                'MOLECULAR FORMULA', 'AVERAGE MASS', 'MONOISOTOPIC MASS',\n",
    "                                'QC Level', '# ToxCast Active', 'Total Assays', '% ToxCast Active'])\n",
    "\n",
    "norman['use'] = 'Insecticide'\n",
    "print(norman.shape)\n",
    "norman.head(1)"
   ]
  },
  {
   "cell_type": "code",
   "execution_count": 16,
   "id": "84bb6ed1-7afe-4a48-9a2a-a60e99899951",
   "metadata": {},
   "outputs": [
    {
     "name": "stdout",
     "output_type": "stream",
     "text": [
      "(25, 14)\n",
      "(25, 4)\n"
     ]
    },
    {
     "data": {
      "text/html": [
       "<div>\n",
       "<style scoped>\n",
       "    .dataframe tbody tr th:only-of-type {\n",
       "        vertical-align: middle;\n",
       "    }\n",
       "\n",
       "    .dataframe tbody tr th {\n",
       "        vertical-align: top;\n",
       "    }\n",
       "\n",
       "    .dataframe thead th {\n",
       "        text-align: right;\n",
       "    }\n",
       "</style>\n",
       "<table border=\"1\" class=\"dataframe\">\n",
       "  <thead>\n",
       "    <tr style=\"text-align: right;\">\n",
       "      <th></th>\n",
       "      <th>PREFERRED NAME</th>\n",
       "      <th>CASRN</th>\n",
       "      <th>SMILES</th>\n",
       "      <th>use</th>\n",
       "    </tr>\n",
       "  </thead>\n",
       "  <tbody>\n",
       "    <tr>\n",
       "      <th>0</th>\n",
       "      <td>Flucythrinate</td>\n",
       "      <td>70124-77-5</td>\n",
       "      <td>CC(C)C(C(=O)OC(C#N)C1=CC=CC(OC2=CC=CC=C2)=C1)C...</td>\n",
       "      <td>Insecticide</td>\n",
       "    </tr>\n",
       "  </tbody>\n",
       "</table>\n",
       "</div>"
      ],
      "text/plain": [
       "  PREFERRED NAME       CASRN  \\\n",
       "0  Flucythrinate  70124-77-5   \n",
       "\n",
       "                                              SMILES          use  \n",
       "0  CC(C)C(C(=O)OC(C#N)C1=CC=CC(OC2=CC=CC=C2)=C1)C...  Insecticide  "
      ]
     },
     "execution_count": 16,
     "metadata": {},
     "output_type": "execute_result"
    }
   ],
   "source": [
    "# load Pyrethroids\n",
    "# A pyrethroid is an organic compound similar to the natural pyrethrins produced by the flowers of pyrethrums \n",
    "# Pyrethroids constitute the majority of commercial household insecticides.\n",
    "pyrethroid = pd.read_csv('Chemical List PYRETHROIDS-2025-04-18.csv')\n",
    "print(pyrethroid.shape)\n",
    "pyrethroid = pyrethroid.drop(columns=['DTXSID', 'INCHIKEY','INCHI STRING','IUPAC NAME',\n",
    "                                    'MOLECULAR FORMULA', 'AVERAGE MASS', 'MONOISOTOPIC MASS',\n",
    "                                    'QC Level', '# ToxCast Active', 'Total Assays', '% ToxCast Active'])\n",
    "\n",
    "pyrethroid['use'] = 'Insecticide'\n",
    "print(pyrethroid.shape)\n",
    "pyrethroid.head(1)"
   ]
  },
  {
   "cell_type": "code",
   "execution_count": 17,
   "id": "73cec72e-bbcc-4da3-9b80-71506b3e7415",
   "metadata": {},
   "outputs": [
    {
     "name": "stdout",
     "output_type": "stream",
     "text": [
      "(2175, 4)\n"
     ]
    }
   ],
   "source": [
    "# compile data\n",
    "pesticides = pd.concat([pestinfo_smiles, pyrethroid, echa_smiles, norman])\n",
    "pesticides = pesticides.drop_duplicates(subset=['CASRN'])\n",
    "print(pesticides.shape)"
   ]
  },
  {
   "cell_type": "code",
   "execution_count": 18,
   "id": "d0b712c8-70a1-4c30-bd5d-871b356a5261",
   "metadata": {},
   "outputs": [],
   "source": [
    "# save intermediate output\n",
    "pesticides.to_csv(\"pesticides.csv\")"
   ]
  },
  {
   "cell_type": "markdown",
   "id": "55aee0c7-894d-46df-b345-1941a2847112",
   "metadata": {
    "jp-MarkdownHeadingCollapsed": true
   },
   "source": [
    "### Filters and Outliers"
   ]
  },
  {
   "cell_type": "code",
   "execution_count": 22,
   "id": "cc4ca23b-c9ed-4dab-b48f-efc2c39d7bd1",
   "metadata": {},
   "outputs": [
    {
     "name": "stdout",
     "output_type": "stream",
     "text": [
      "(2175, 4)\n"
     ]
    }
   ],
   "source": [
    "# data generation checkpoint\n",
    "# load input\n",
    "pesticides = pd.read_csv('pesticides.csv')\n",
    "pesticides = pesticides.drop(columns=['Unnamed: 0'])\n",
    "print(pesticides.shape)"
   ]
  },
  {
   "cell_type": "code",
   "execution_count": 23,
   "id": "b38ddb5e-7e5f-403e-8ad2-02adbd42f67a",
   "metadata": {},
   "outputs": [
    {
     "name": "stdout",
     "output_type": "stream",
     "text": [
      "(2076, 4)\n"
     ]
    }
   ],
   "source": [
    "# remove atoms that fail the graph generation process\n",
    "exclude = pesticides['SMILES'].str.contains('|'.join(['Sn','Hg','Al','Bi','Pb','Zn','As','Si']))\n",
    "pesticides_cleaned = pesticides[~exclude]\n",
    "print(pesticides_cleaned.shape)"
   ]
  },
  {
   "cell_type": "code",
   "execution_count": 24,
   "id": "329a6ec5-5352-4e72-8eb8-9124e514372e",
   "metadata": {},
   "outputs": [
    {
     "name": "stderr",
     "output_type": "stream",
     "text": [
      "[10:06:37] WARNING: not removing hydrogen atom without neighbors\n",
      "[10:06:37] WARNING: not removing hydrogen atom without neighbors\n",
      "[10:06:37] WARNING: not removing hydrogen atom without neighbors\n",
      "[10:06:37] WARNING: not removing hydrogen atom without neighbors\n",
      "[10:06:37] WARNING: not removing hydrogen atom without neighbors\n",
      "[10:06:37] WARNING: not removing hydrogen atom without neighbors\n",
      "[10:06:37] WARNING: not removing hydrogen atom without neighbors\n",
      "[10:06:37] WARNING: not removing hydrogen atom without neighbors\n",
      "[10:06:37] WARNING: not removing hydrogen atom without neighbors\n",
      "[10:06:37] WARNING: not removing hydrogen atom without neighbors\n",
      "[10:06:37] WARNING: not removing hydrogen atom without neighbors\n"
     ]
    },
    {
     "name": "stdout",
     "output_type": "stream",
     "text": [
      "(1851, 4)\n"
     ]
    },
    {
     "name": "stderr",
     "output_type": "stream",
     "text": [
      "[10:06:37] WARNING: not removing hydrogen atom without neighbors\n",
      "[10:06:37] WARNING: not removing hydrogen atom without neighbors\n"
     ]
    }
   ],
   "source": [
    "# filter for neutral organics\n",
    "# first, remove common counterions\n",
    "pesticides_cleaned = no_salts(pesticides_cleaned, 'SMILES')\n",
    "# remove all not bonded things\n",
    "pesticides_cleaned = pesticides_cleaned[~pesticides_cleaned['no_salt'].str.contains('\\\\.')]\n",
    "pesticides_cleaned = pesticides_cleaned.drop(columns=['SMILES']).rename(columns={'no_salt':'SMILES'})\n",
    "print(pesticides_cleaned.shape)"
   ]
  },
  {
   "cell_type": "code",
   "execution_count": 25,
   "id": "05179800-135c-4330-97eb-4af2fc24b960",
   "metadata": {},
   "outputs": [
    {
     "name": "stdout",
     "output_type": "stream",
     "text": [
      "(1851, 4)\n"
     ]
    }
   ],
   "source": [
    "# neutralize smiles\n",
    "pesticides_cleaned = neutralize_mol(pesticides_cleaned, 'SMILES')\n",
    "pesticides_cleaned = pesticides_cleaned.drop(columns=['SMILES']).rename(columns={'neutral_smiles':'SMILES'})\n",
    "print(pesticides_cleaned.shape)"
   ]
  },
  {
   "cell_type": "code",
   "execution_count": 26,
   "id": "a8f572ce-33f7-49ad-8ff8-87cd44734d68",
   "metadata": {},
   "outputs": [
    {
     "name": "stderr",
     "output_type": "stream",
     "text": [
      "[10:06:41] Can't kekulize mol.  Unkekulized atoms: 7 8 10\n",
      "[10:06:41] Can't kekulize mol.  Unkekulized atoms: 7 8 10\n",
      "[10:06:41] Can't kekulize mol.  Unkekulized atoms: 7 8 10\n"
     ]
    },
    {
     "name": "stdout",
     "output_type": "stream",
     "text": [
      "Invalid SMILES: CCC(C)n1c(=O)nc(C)c(Br)c1=O\n",
      "Invalid SMILES: CCC(C)n1c(=O)nc(C)c(Br)c1=O\n",
      "Invalid SMILES: CCC(C)n1c(=O)nc(C)c(Br)c1=O\n"
     ]
    },
    {
     "name": "stderr",
     "output_type": "stream",
     "text": [
      "[10:06:41] Can't kekulize mol.  Unkekulized atoms: 10 14 15 16 17 18 19\n",
      "[10:06:41] Can't kekulize mol.  Unkekulized atoms: 10 14 15 16 17 18 19\n"
     ]
    },
    {
     "name": "stdout",
     "output_type": "stream",
     "text": [
      "Invalid SMILES: CC(=O)CC(c1ccco1)c1c(=O)oc2ccccc2c1=O\n",
      "Invalid SMILES: CC(=O)CC(c1ccco1)c1c(=O)oc2ccccc2c1=O\n"
     ]
    },
    {
     "name": "stderr",
     "output_type": "stream",
     "text": [
      "[10:06:43] Can't kekulize mol.  Unkekulized atoms: 11 15 16 17 18 19 20\n"
     ]
    },
    {
     "name": "stdout",
     "output_type": "stream",
     "text": [
      "Invalid SMILES: CC(=O)CC(c1ccccc1)c1c(=O)oc2ccccc2c1=O\n"
     ]
    },
    {
     "name": "stderr",
     "output_type": "stream",
     "text": [
      "[10:06:44] Can't kekulize mol.  Unkekulized atoms: 11 15 16 17 18 19 20\n"
     ]
    },
    {
     "name": "stdout",
     "output_type": "stream",
     "text": [
      "Invalid SMILES: CC(=O)CC(c1ccccc1)c1c(=O)oc2ccccc2c1=O\n",
      "(1844, 7)\n"
     ]
    }
   ],
   "source": [
    "# first compute molecular weight, number of heavy atoms, and log P\n",
    "pesticides_cleaned = calc_prop(pesticides_cleaned, 'SMILES')\n",
    "print(pesticides_cleaned.shape)"
   ]
  },
  {
   "cell_type": "code",
   "execution_count": 27,
   "id": "d29d81c8-4376-4005-8e3c-61fab8a142c0",
   "metadata": {},
   "outputs": [
    {
     "name": "stdout",
     "output_type": "stream",
     "text": [
      "Axes(0.125,0.11;0.775x0.77)\n",
      "iqr: 9.0\n",
      "median: 18.0\n",
      "Q3 val: 23.0\n",
      "Q1 val: 14.0\n",
      "upper limit for 1.5 IQR above Q3: 36.5\n",
      "lower limit for 1.5 IQR below Q1: 0.5\n",
      "(1844, 7)\n",
      "(1778, 7)\n",
      "Axes(0.125,0.11;0.775x0.77)\n"
     ]
    },
    {
     "data": {
      "image/png": "[encoded data removed]",
      "text/plain": [
       "<Figure size 640x480 with 1 Axes>"
      ]
     },
     "metadata": {},
     "output_type": "display_data"
    }
   ],
   "source": [
    "# remove outliers by number of heavy atoms first\n",
    "# visualize and remove based on https://www.geeksforgeeks.org/detect-and-remove-the-outliers-using-python/\n",
    "import seaborn as sns\n",
    "from scipy.stats import iqr\n",
    "from scipy.ndimage import median\n",
    "print(sns.boxplot(pesticides_cleaned['nheavy']))\n",
    "iqr_val = iqr(pesticides_cleaned['nheavy'])\n",
    "median_val = median(pesticides_cleaned['nheavy'])\n",
    "q3_val = np.percentile(pesticides_cleaned['nheavy'], 75)\n",
    "q1_val = np.percentile(pesticides_cleaned['nheavy'], 25)\n",
    "upper_outlier = q3_val+1.5*iqr_val\n",
    "lower_outlier = q1_val-1.5*iqr_val\n",
    "print(f'iqr: {iqr_val}')\n",
    "print(f'median: {median_val}')\n",
    "print(f'Q3 val: {q3_val}')\n",
    "print(f'Q1 val: {q1_val}')\n",
    "print(f'upper limit for 1.5 IQR above Q3: {upper_outlier}')\n",
    "print(f'lower limit for 1.5 IQR below Q1: {lower_outlier}')\n",
    "print(pesticides_cleaned.shape)\n",
    "# manually exclude smallest molecules\n",
    "lower_outlier = 4\n",
    "pesticides_cleaned = pesticides_cleaned[pesticides_cleaned['nheavy'] <= upper_outlier]\n",
    "pesticides_cleaned = pesticides_cleaned[pesticides_cleaned['nheavy'] >= lower_outlier]\n",
    "print(pesticides_cleaned.shape)"
   ]
  },
  {
   "cell_type": "code",
   "execution_count": 29,
   "id": "91f67682-e6e8-413c-a207-14d60f07fd38",
   "metadata": {},
   "outputs": [
    {
     "name": "stdout",
     "output_type": "stream",
     "text": [
      "Axes(0.125,0.11;0.775x0.77)\n",
      "iqr: 132.26225000000002\n",
      "median: 283.799\n",
      "Q3 val: 346.91025\n",
      "Q1 val: 214.648\n",
      "upper limit for 1.5 IQR above Q3: 545.303625\n",
      "lower limit for 1.5 IQR below Q1: 16.254624999999947\n",
      "(1778, 7)\n",
      "(1772, 7)\n"
     ]
    },
    {
     "data": {
      "image/png": "[encoded data removed]",
      "text/plain": [
       "<Figure size 640x480 with 1 Axes>"
      ]
     },
     "metadata": {},
     "output_type": "display_data"
    }
   ],
   "source": [
    "# then remove outliers by mw\n",
    "# visualize and remove based on https://www.geeksforgeeks.org/detect-and-remove-the-outliers-using-python/\n",
    "import seaborn as sns\n",
    "from scipy.stats import iqr\n",
    "from scipy.ndimage import median\n",
    "print(sns.boxplot(pesticides_cleaned['mw']))\n",
    "iqr_val = iqr(pesticides_cleaned['mw'])\n",
    "median_val = median(pesticides_cleaned['mw'])\n",
    "q3_val = np.percentile(pesticides_cleaned['mw'], 75)\n",
    "q1_val = np.percentile(pesticides_cleaned['mw'], 25)\n",
    "upper_outlier = q3_val+1.5*iqr_val\n",
    "lower_outlier = q1_val-1.5*iqr_val\n",
    "print(f'iqr: {iqr_val}')\n",
    "print(f'median: {median_val}')\n",
    "print(f'Q3 val: {q3_val}')\n",
    "print(f'Q1 val: {q1_val}')\n",
    "print(f'upper limit for 1.5 IQR above Q3: {upper_outlier}')\n",
    "print(f'lower limit for 1.5 IQR below Q1: {lower_outlier}')\n",
    "print(pesticides_cleaned.shape)\n",
    "\n",
    "pesticides_cleaned = pesticides_cleaned[pesticides_cleaned['mw'] <= upper_outlier]\n",
    "pesticides_cleaned = pesticides_cleaned[pesticides_cleaned['mw'] >= lower_outlier]\n",
    "print(pesticides_cleaned.shape)"
   ]
  },
  {
   "cell_type": "code",
   "execution_count": 31,
   "id": "0a57248d-256c-470f-bb5d-f9295b14de18",
   "metadata": {},
   "outputs": [
    {
     "name": "stdout",
     "output_type": "stream",
     "text": [
      "Axes(0.125,0.11;0.775x0.77)\n",
      "iqr: 2.4929650000000034\n",
      "median: 2.9788800000000006\n",
      "Q3 val: 4.2208400000000035\n",
      "Q1 val: 1.727875\n",
      "upper limit for 1.5 IQR above Q3: 7.960287500000009\n",
      "lower limit for 1.5 IQR below Q1: -2.011572500000005\n",
      "(1772, 7)\n",
      "(1743, 7)\n"
     ]
    },
    {
     "data": {
      "image/png": "[encoded data removed]",
      "text/plain": [
       "<Figure size 640x480 with 1 Axes>"
      ]
     },
     "metadata": {},
     "output_type": "display_data"
    }
   ],
   "source": [
    "# finally remove outliers by log p \n",
    "# visualize and remove based on https://www.geeksforgeeks.org/detect-and-remove-the-outliers-using-python/\n",
    "import seaborn as sns\n",
    "from scipy.stats import iqr\n",
    "from scipy.ndimage import median\n",
    "print(sns.boxplot(pesticides_cleaned['alogp']))\n",
    "iqr_val = iqr(pesticides_cleaned['alogp'])\n",
    "median_val = median(pesticides_cleaned['alogp'])\n",
    "q3_val = np.percentile(pesticides_cleaned['alogp'], 75)\n",
    "q1_val = np.percentile(pesticides_cleaned['alogp'], 25)\n",
    "upper_outlier = q3_val+1.5*iqr_val\n",
    "lower_outlier = q1_val-1.5*iqr_val\n",
    "print(f'iqr: {iqr_val}')\n",
    "print(f'median: {median_val}')\n",
    "print(f'Q3 val: {q3_val}')\n",
    "print(f'Q1 val: {q1_val}')\n",
    "print(f'upper limit for 1.5 IQR above Q3: {upper_outlier}')\n",
    "print(f'lower limit for 1.5 IQR below Q1: {lower_outlier}')\n",
    "print(pesticides_cleaned.shape)\n",
    "\n",
    "pesticides_cleaned = pesticides_cleaned[pesticides_cleaned['alogp'] <= upper_outlier]\n",
    "pesticides_cleaned = pesticides_cleaned[pesticides_cleaned['alogp'] >= lower_outlier]\n",
    "print(pesticides_cleaned.shape)"
   ]
  },
  {
   "cell_type": "code",
   "execution_count": 32,
   "id": "022b6116-e7a1-48d3-90a5-f446dfd5955e",
   "metadata": {},
   "outputs": [],
   "source": [
    "# save intermediate output\n",
    "pesticides_cleaned.to_csv(\"pesticides_cleaned.csv\")"
   ]
  },
  {
   "cell_type": "markdown",
   "id": "da574d36-5ef2-4842-95a7-00121f65c7c7",
   "metadata": {
    "jp-MarkdownHeadingCollapsed": true
   },
   "source": [
    "### Data Augmentation"
   ]
  },
  {
   "cell_type": "code",
   "execution_count": 3,
   "id": "8ebe859c-b940-4326-9508-d97e259e6930",
   "metadata": {},
   "outputs": [],
   "source": [
    "#!pip install torch_geometric"
   ]
  },
  {
   "cell_type": "code",
   "execution_count": 1,
   "id": "7c1d00a9-3af1-4ead-ab6b-5321343e0ebe",
   "metadata": {},
   "outputs": [],
   "source": [
    "# REMOVE THIS\n",
    "from functions.data_generation import *"
   ]
  },
  {
   "cell_type": "code",
   "execution_count": 4,
   "id": "3848f530-6e4c-4af4-ba69-682b71318c8b",
   "metadata": {},
   "outputs": [],
   "source": [
    "# data generation checkpoint\n",
    "# load input\n",
    "pesticides_augmented = pd.read_csv('pesticides_cleaned.csv')\n",
    "# drop computed variables\n",
    "pesticides_augmented = pesticides_augmented.drop(columns=['Unnamed: 0', 'mw', 'nheavy', 'alogp'])"
   ]
  },
  {
   "cell_type": "code",
   "execution_count": 5,
   "id": "2d860d17-3130-40b7-bf9d-f9748f37d58b",
   "metadata": {},
   "outputs": [
    {
     "name": "stdout",
     "output_type": "stream",
     "text": [
      "(1743, 4)\n",
      "(2561, 4)\n"
     ]
    }
   ],
   "source": [
    "print(pesticides_augmented.shape)\n",
    "pesticides_augmented = aliphatic_string(pesticides_augmented, 'SMILES')\n",
    "print(pesticides_augmented.shape)"
   ]
  },
  {
   "cell_type": "code",
   "execution_count": 6,
   "id": "71a6d488-9083-4656-8fac-346a02c3d3f6",
   "metadata": {},
   "outputs": [
    {
     "name": "stdout",
     "output_type": "stream",
     "text": [
      "(2561, 7)\n"
     ]
    }
   ],
   "source": [
    "# recompute logP\n",
    "pesticides_augmented = calc_prop(pesticides_augmented, 'SMILES')\n",
    "print(pesticides_augmented.shape)"
   ]
  },
  {
   "cell_type": "code",
   "execution_count": 7,
   "id": "4d96ee1d-115a-4842-8b0e-aa001c3c4092",
   "metadata": {},
   "outputs": [],
   "source": [
    "# save intermediate output\n",
    "pesticides_augmented.to_csv(\"pesticides_augmented.csv\")"
   ]
  },
  {
   "cell_type": "markdown",
   "id": "c9cc9096-1354-48ff-9513-c9990fed6c67",
   "metadata": {},
   "source": [
    "### SMILES to graphs"
   ]
  },
  {
   "cell_type": "code",
   "execution_count": 8,
   "id": "901bafad-812c-4fc2-b2a1-e554596af29d",
   "metadata": {},
   "outputs": [],
   "source": [
    "# data generation checkpoint\n",
    "# load input\n",
    "pesticides_graph = pd.read_csv('pesticides_cleaned.csv')\n",
    "pesticides_graph_augmented = pd.read_csv('pesticides_augmented.csv')"
   ]
  },
  {
   "cell_type": "code",
   "execution_count": 9,
   "id": "da8e9cff-11b1-49b1-8c54-7c3d3132e55e",
   "metadata": {},
   "outputs": [
    {
     "name": "stdout",
     "output_type": "stream",
     "text": [
      "(1743, 8)\n",
      "(611, 8)\n",
      "(2561, 8)\n",
      "(839, 8)\n"
     ]
    }
   ],
   "source": [
    "# separate insecticides\n",
    "insecticides_graph = pesticides_graph[pesticides_graph['use'].str.contains('Insecticide')]\n",
    "print(pesticides_graph.shape)\n",
    "print(insecticides_graph.shape)\n",
    "insecticides_graph_augmented = pesticides_graph_augmented[pesticides_graph_augmented['use'].str.contains('Insecticide')]\n",
    "print(pesticides_graph_augmented.shape)\n",
    "print(insecticides_graph_augmented.shape)"
   ]
  },
  {
   "cell_type": "code",
   "execution_count": 10,
   "id": "8174285b-0711-449a-84aa-475945565110",
   "metadata": {},
   "outputs": [
    {
     "name": "stdout",
     "output_type": "stream",
     "text": [
      "1743\n",
      "611\n",
      "2561\n",
      "839\n"
     ]
    }
   ],
   "source": [
    "pesticides_graph_v3 = create_py_geom_dataset(pesticides_graph['SMILES'], pesticides_graph['alogp'])\n",
    "insecticides_graph_v3 = create_py_geom_dataset(insecticides_graph['SMILES'], insecticides_graph['alogp'])\n",
    "pesticides_graph_augmented_v3 = create_py_geom_dataset(pesticides_graph_augmented['SMILES'], pesticides_graph_augmented['alogp'])\n",
    "insecticides_graph_augmented_v3 = create_py_geom_dataset(insecticides_graph_augmented['SMILES'], insecticides_graph_augmented['alogp'])\n",
    "print(len(pesticides_graph_v3))\n",
    "print(len(insecticides_graph_v3))\n",
    "print(len(pesticides_graph_augmented_v3))\n",
    "print(len(insecticides_graph_augmented_v3))\n",
    "torch.save(pesticides_graph_v3, \"pesticides_graphs_v3.pt\")\n",
    "torch.save(insecticides_graph_v3, \"insecticides_graphs_v3.pt\")\n",
    "torch.save(pesticides_graph_augmented_v3, \"pesticides_graphs_augmented_v3.pt\")\n",
    "torch.save(insecticides_graph_augmented_v3, \"insecticides_graphs_augmented_v3.pt\")"
   ]
  },
  {
   "cell_type": "markdown",
   "id": "69c5b91e-a03f-43ca-8a62-7924b4b11fdd",
   "metadata": {},
   "source": [
    "## Data Summary and Visualization"
   ]
  },
  {
   "cell_type": "code",
   "execution_count": 21,
   "id": "65f2bb12-f624-4ef9-8bcf-68d7f109ac2c",
   "metadata": {},
   "outputs": [
    {
     "name": "stderr",
     "output_type": "stream",
     "text": [
      "/tmp/ipykernel_3170161/793744003.py:1: FutureWarning: You are using `torch.load` with `weights_only=False` (the current default value), which uses the default pickle module implicitly. It is possible to construct malicious pickle data which will execute arbitrary code during unpickling (See https://github.com/pytorch/pytorch/blob/main/SECURITY.md#untrusted-models for more details). In a future release, the default value for `weights_only` will be flipped to `True`. This limits the functions that could be executed during unpickling. Arbitrary objects will no longer be allowed to be loaded via this mode unless they are explicitly allowlisted by the user via `torch.serialization.add_safe_globals`. We recommend you start setting `weights_only=True` for any use case where you don't have full control of the loaded file. Please open an issue on GitHub for any issues related to this experimental feature.\n",
      "  pesticides = torch.load(\"./data/pesticides_graphs_augmented_v3.pt\")\n"
     ]
    },
    {
     "data": {
      "image/png": "[encoded data removed]",
      "text/plain": [
       "<Figure size 640x480 with 1 Axes>"
      ]
     },
     "metadata": {},
     "output_type": "display_data"
    }
   ],
   "source": [
    "pesticides = torch.load(\"./data/pesticides_graphs_augmented_v3.pt\")\n",
    "\n",
    "# In our dataset, the target to regress is logP.\n",
    "# We visualize what these values are and try to get a sense of the shape of the distribution\n",
    "y_values = np.array([data.y for data in pesticides])\n",
    "\n",
    "plt.hist(y_values, bins=80)\n",
    "plt.xlabel(\"logP\")\n",
    "plt.ylabel(\"Frequency\")\n",
    "plt.title(\"Distribution of logP values in pesticides\")\n",
    "plt.show()"
   ]
  },
  {
   "cell_type": "code",
   "execution_count": 22,
   "id": "57268df1-75c5-49ff-94ac-765269db872f",
   "metadata": {},
   "outputs": [
    {
     "data": {
      "image/png": "[encoded data removed]",
      "text/plain": [
       "<Figure size 700x600 with 1 Axes>"
      ]
     },
     "metadata": {},
     "output_type": "display_data"
    }
   ],
   "source": [
    "# visualize an example network\n",
    "example_graph = to_networkx(pesticides[12])\n",
    "\n",
    "\n",
    "plt.figure(1,figsize=(7,6)) \n",
    "nx.draw(example_graph, node_size=5,linewidths=6)\n",
    "plt.savefig(\"./training-figs/encoder/sample_plot.png\") \n",
    "plt.show()\n"
   ]
  },
  {
   "cell_type": "markdown",
   "id": "4abf14d4-b212-4892-a35b-7fd619d9f636",
   "metadata": {},
   "source": [
    "## Use an encoder to obtain latent space representations"
   ]
  },
  {
   "cell_type": "code",
   "execution_count": 4,
   "id": "db88ae3f-d1b6-4264-8a7d-9d9f38e2b6c9",
   "metadata": {},
   "outputs": [],
   "source": [
    "# Hyperparameters\n",
    "\n",
    "epochs = 2000\n",
    "learning_rate = 1e-4\n",
    "batch_size = 4\n",
    "p = 0.2     # probability for dropout"
   ]
  },
  {
   "cell_type": "code",
   "execution_count": 5,
   "id": "37bdeeab-fa88-48a0-a9e3-7d966719036a",
   "metadata": {},
   "outputs": [],
   "source": [
    "# split into training and test\n",
    "train_dataset, test_dataset = train_test_split(pesticides, test_size=0.2, random_state=2025)\n",
    "\n",
    "all_data = DataLoader(pesticides, batch_size=1, shuffle = False)\n",
    "train_loader = DataLoader(train_dataset, batch_size=batch_size, shuffle=True)\n",
    "test_loader = DataLoader(test_dataset, batch_size=batch_size, shuffle=False)"
   ]
  },
  {
   "cell_type": "code",
   "execution_count": 6,
   "id": "31bb4256-2218-4f76-8c20-a5df943a1024",
   "metadata": {},
   "outputs": [],
   "source": [
    "model = ScatterNet(p = p)\n",
    "\n",
    "# Define the base loss function\n",
    "loss_fn = torch.nn.MSELoss()\n",
    "\n",
    "# Define the optimizer\n",
    "optimizer = torch.optim.RMSprop(model.parameters(), lr = learning_rate)\n",
    "\n",
    "### Uncomment below line to train the encoder\n",
    "# train_base_losses, train_smoothness_losses, train_composite_losses, test_base_losses, test_smoothness_losses, test_composite_losses  = train_encoder(model, loss_fn, train_loader, test_loader, optimizer, epochs=epochs)"
   ]
  },
  {
   "cell_type": "code",
   "execution_count": 8,
   "id": "ef2b4ff9-8808-42a7-8ff3-050d0bec747a",
   "metadata": {},
   "outputs": [
    {
     "name": "stderr",
     "output_type": "stream",
     "text": [
      "/tmp/ipykernel_3144999/2538934497.py:2: FutureWarning: You are using `torch.load` with `weights_only=False` (the current default value), which uses the default pickle module implicitly. It is possible to construct malicious pickle data which will execute arbitrary code during unpickling (See https://github.com/pytorch/pytorch/blob/main/SECURITY.md#untrusted-models for more details). In a future release, the default value for `weights_only` will be flipped to `True`. This limits the functions that could be executed during unpickling. Arbitrary objects will no longer be allowed to be loaded via this mode unless they are explicitly allowlisted by the user via `torch.serialization.add_safe_globals`. We recommend you start setting `weights_only=True` for any use case where you don't have full control of the loaded file. Please open an issue on GitHub for any issues related to this experimental feature.\n",
      "  encoder.load_state_dict(torch.load(\"./models/ScatterNet-trained.pth\"))\n"
     ]
    },
    {
     "data": {
      "text/plain": [
       "<All keys matched successfully>"
      ]
     },
     "execution_count": 8,
     "metadata": {},
     "output_type": "execute_result"
    }
   ],
   "source": [
    "encoder = ScatterNet()\n",
    "encoder.load_state_dict(torch.load(\"./models/ScatterNet-trained.pth\"))"
   ]
  },
  {
   "cell_type": "markdown",
   "id": "f79cf2dc-beea-42d9-a8e0-83fe6f2894da",
   "metadata": {},
   "source": [
    "## Obtain latent space representations of known input graphs\n",
    "\n",
    "We need these values to train the decoder (latent space --> graphs) and also to train the conditional diffusion model (logP values --> latent space)."
   ]
  },
  {
   "cell_type": "code",
   "execution_count": 9,
   "id": "4f8415a3-2dd7-41d7-b4c5-797937074662",
   "metadata": {},
   "outputs": [],
   "source": [
    "# Have the ability to get embeddings\n",
    "def activation_hook(model, input, output):\n",
    "    \"\"\"\n",
    "    model: model that we want to attach the hook to\n",
    "    input: input to the 'forward' method\n",
    "    output: output from the 'forward' method\n",
    "    \"\"\"\n",
    "    hidden_values.append(np.array(output.detach()))"
   ]
  },
  {
   "cell_type": "code",
   "execution_count": 10,
   "id": "6fcdfddb-58d7-4118-857c-4481529852d9",
   "metadata": {},
   "outputs": [],
   "source": [
    "# Create a dictionary for storage\n",
    "hidden_values = []\n",
    "y_values = []\n",
    "\n",
    "handle = encoder.embedding_layer.register_forward_hook(activation_hook)"
   ]
  },
  {
   "cell_type": "code",
   "execution_count": 11,
   "id": "df7c24d2-6210-44fe-bd02-99b726059cd9",
   "metadata": {
    "scrolled": true
   },
   "outputs": [],
   "source": [
    "for data in all_data:\n",
    "    model(data)\n",
    "    y_values.append(data.y)\n",
    "    \n",
    "# remove the hook\n",
    "handle.remove()"
   ]
  },
  {
   "cell_type": "code",
   "execution_count": 12,
   "id": "532ea2df-594f-402f-845d-6594a79e0fbc",
   "metadata": {},
   "outputs": [
    {
     "name": "stdout",
     "output_type": "stream",
     "text": [
      "Shape of hidden values: torch.Size([0])\n"
     ]
    }
   ],
   "source": [
    "hidden_values = torch.squeeze(torch.Tensor(np.array(hidden_values)))\n",
    "\n",
    "print(f\"Shape of hidden values: {hidden_values.shape}\")"
   ]
  },
  {
   "cell_type": "code",
   "execution_count": 14,
   "id": "5137727b-d560-47c5-b8ca-72fb4799359b",
   "metadata": {},
   "outputs": [],
   "source": [
    "hidden_values = torch.load(\"./data/hidden_values_from_pesticides.pt\", weights_only=False)"
   ]
  },
  {
   "cell_type": "code",
   "execution_count": 15,
   "id": "6400c7c7-eba2-4a96-b3ad-d17d38a5bb22",
   "metadata": {},
   "outputs": [
    {
     "name": "stdout",
     "output_type": "stream",
     "text": [
      "Calculating PHATE...\n",
      "  Running PHATE on 625 observations and 32 variables.\n",
      "  Calculating graph and diffusion operator...\n",
      "    Calculating KNN search...\n",
      "    Calculated KNN search in 0.02 seconds.\n",
      "    Calculating affinities...\n",
      "  Calculated graph and diffusion operator in 0.02 seconds.\n",
      "  Calculating optimal t...\n",
      "    Automatically selected t = 16\n",
      "  Calculated optimal t in 0.09 seconds.\n",
      "  Calculating diffusion potential...\n",
      "  Calculated diffusion potential in 0.07 seconds.\n",
      "  Calculating metric MDS...\n"
     ]
    },
    {
     "name": "stderr",
     "output_type": "stream",
     "text": [
      "/home/hsc26/.conda/envs/cpsc_452/lib/python3.12/site-packages/graphtools/graphs.py:290: RuntimeWarning: Detected zero distance between 79 pairs of samples. Consider removing duplicates to avoid errors in downstream processing.\n",
      "  warnings.warn(\n"
     ]
    },
    {
     "name": "stdout",
     "output_type": "stream",
     "text": [
      "  Calculated metric MDS in 0.18 seconds.\n",
      "Calculated PHATE in 0.38 seconds.\n"
     ]
    }
   ],
   "source": [
    "# apply PHATE with hidden values\n",
    "phate_operator = phate.PHATE()\n",
    "Y_phate = phate_operator.fit_transform(hidden_values)"
   ]
  },
  {
   "cell_type": "code",
   "execution_count": 16,
   "id": "c6a7aa81-431f-44f3-9cef-33698b09f4a4",
   "metadata": {},
   "outputs": [
    {
     "data": {
      "image/png": "[encoded data removed]",
      "text/plain": [
       "<Figure size 640x480 with 2 Axes>"
      ]
     },
     "metadata": {},
     "output_type": "display_data"
    }
   ],
   "source": [
    "plt.scatter(x = Y_phate[:,0], \n",
    "            y = Y_phate[:,1],\n",
    "            c = y_values, cmap = 'viridis')\n",
    "plt.colorbar(label=\"logP\")\n",
    "plt.title(f\"PHATE embeddings of penultimate layer ({epochs} epochs)\")\n",
    "plt.show()"
   ]
  },
  {
   "cell_type": "markdown",
   "id": "2b7ebfc9-b2ca-4742-b174-4fe188981b5d",
   "metadata": {},
   "source": [
    "## Train the diffusion model, using logP values and latent space embeddings"
   ]
  },
  {
   "cell_type": "code",
   "execution_count": 17,
   "id": "dea8febc-d9c1-46b2-beb3-f1fb5e7434bb",
   "metadata": {},
   "outputs": [],
   "source": [
    "batch_size = 1\n",
    "epochs = 15\n",
    "learning_rate = 1e-4"
   ]
  },
  {
   "cell_type": "code",
   "execution_count": 18,
   "id": "e0f4f77c-5bcc-4a24-824e-bb4398d9de69",
   "metadata": {},
   "outputs": [],
   "source": [
    "# Obtain the logP values\n",
    "# note that we don't actually need the graphs for training the diffusion process\n",
    "y_values = []\n",
    "\n",
    "for i in range(len(pesticides)):\n",
    "    graph = pesticides[i]\n",
    "    graph.hidden_values = hidden_values[i]\n",
    "    y_values.append(graph.y)"
   ]
  },
  {
   "cell_type": "code",
   "execution_count": 19,
   "id": "2e33b10b-a1ce-484d-8538-1dfdc7d27d0d",
   "metadata": {},
   "outputs": [],
   "source": [
    "# Create a scheduler\n",
    "noise_scheduler = DDPMScheduler(num_train_timesteps=1000, beta_schedule=\"squaredcos_cap_v2\")"
   ]
  },
  {
   "cell_type": "code",
   "execution_count": 20,
   "id": "6c17f92f-d749-4150-8e01-c07ccd8fc7dd",
   "metadata": {},
   "outputs": [],
   "source": [
    "# Define the network\n",
    "diffuser = DiffuseNet()\n",
    "\n",
    "optimizer = torch.optim.Adam(diffuser.parameters(), lr=learning_rate)\n",
    "\n",
    "### Uncomment below line to train diffusion model\n",
    "# train_losses = train_diffusion(diffuser, train_loader, optimizer, epochs=epochs)"
   ]
  },
  {
   "cell_type": "code",
   "execution_count": 21,
   "id": "d26cb90c-bfb8-4132-adcb-0e27af0a5948",
   "metadata": {},
   "outputs": [
    {
     "name": "stderr",
     "output_type": "stream",
     "text": [
      "/tmp/ipykernel_3144999/1982274436.py:2: FutureWarning: You are using `torch.load` with `weights_only=False` (the current default value), which uses the default pickle module implicitly. It is possible to construct malicious pickle data which will execute arbitrary code during unpickling (See https://github.com/pytorch/pytorch/blob/main/SECURITY.md#untrusted-models for more details). In a future release, the default value for `weights_only` will be flipped to `True`. This limits the functions that could be executed during unpickling. Arbitrary objects will no longer be allowed to be loaded via this mode unless they are explicitly allowlisted by the user via `torch.serialization.add_safe_globals`. We recommend you start setting `weights_only=True` for any use case where you don't have full control of the loaded file. Please open an issue on GitHub for any issues related to this experimental feature.\n",
      "  diffuser.load_state_dict(torch.load(\"./models/diffuser-trained.pth\"))\n"
     ]
    },
    {
     "data": {
      "text/plain": [
       "<All keys matched successfully>"
      ]
     },
     "execution_count": 21,
     "metadata": {},
     "output_type": "execute_result"
    }
   ],
   "source": [
    "diffuser = DiffuseNet()\n",
    "diffuser.load_state_dict(torch.load(\"./models/diffuser-trained.pth\"))"
   ]
  },
  {
   "cell_type": "markdown",
   "id": "1cf5b8f6-4b20-4b1c-a83b-c8941827b03d",
   "metadata": {},
   "source": [
    "## Generation: Conditional sampling in the latent space\n",
    "\n",
    "We want to be able to walk around the latent space to get new molecules to a certain property, e.g. with logP < 2. "
   ]
  },
  {
   "cell_type": "code",
   "execution_count": 22,
   "id": "41f2ca98-3346-449a-aedf-c31274448277",
   "metadata": {},
   "outputs": [],
   "source": [
    "# sample 10 points from logP on [0,2]\n",
    "desired_logP_list = np.linspace(0, 2, 10)\n",
    "\n",
    "generated_new_points = []\n",
    "\n",
    "\n",
    "### Uncomment below lines to generate 10 new points in the latent space\n",
    "# for desired_logP in desired_logP_list:\n",
    "#     point = generate_new_points(diffuser, noise_scheduler, desired_logP = desired_logP)\n",
    "#     generated_new_points.append(point.numpy())"
   ]
  },
  {
   "cell_type": "code",
   "execution_count": 23,
   "id": "739ed8ae-e1b2-45f2-b5f4-963386c8689b",
   "metadata": {},
   "outputs": [
    {
     "name": "stderr",
     "output_type": "stream",
     "text": [
      "/tmp/ipykernel_3144999/3471277374.py:1: FutureWarning: You are using `torch.load` with `weights_only=False` (the current default value), which uses the default pickle module implicitly. It is possible to construct malicious pickle data which will execute arbitrary code during unpickling (See https://github.com/pytorch/pytorch/blob/main/SECURITY.md#untrusted-models for more details). In a future release, the default value for `weights_only` will be flipped to `True`. This limits the functions that could be executed during unpickling. Arbitrary objects will no longer be allowed to be loaded via this mode unless they are explicitly allowlisted by the user via `torch.serialization.add_safe_globals`. We recommend you start setting `weights_only=True` for any use case where you don't have full control of the loaded file. Please open an issue on GitHub for any issues related to this experimental feature.\n",
      "  generated_new_points = torch.load(\"./data/generated_points.pt\")\n"
     ]
    }
   ],
   "source": [
    "generated_new_points = torch.load(\"./data/generated_points.pt\")"
   ]
  },
  {
   "cell_type": "code",
   "execution_count": 24,
   "id": "978c0eb0-279c-4b8c-8d5e-79f3fb7bb4a3",
   "metadata": {},
   "outputs": [
    {
     "data": {
      "image/png": "[encoded data removed]",
      "text/plain": [
       "<Figure size 800x400 with 1 Axes>"
      ]
     },
     "metadata": {},
     "output_type": "display_data"
    }
   ],
   "source": [
    "# Show an example of the generated values\n",
    "plot_generated_point(generated_new_points, desired_logP_list, index=0)"
   ]
  },
  {
   "cell_type": "code",
   "execution_count": 26,
   "id": "1a3439fe-4236-4255-b144-4c8e964cb384",
   "metadata": {},
   "outputs": [
    {
     "name": "stdout",
     "output_type": "stream",
     "text": [
      "torch.Size([625, 32])\n",
      "torch.Size([635, 32])\n",
      "Calculating PHATE...\n",
      "  Running PHATE on 635 observations and 32 variables.\n",
      "  Calculating graph and diffusion operator...\n",
      "    Calculating KNN search...\n",
      "    Calculating affinities...\n",
      "  Calculated graph and diffusion operator in 0.01 seconds.\n",
      "  Calculating optimal t...\n",
      "    Automatically selected t = 17\n",
      "  Calculated optimal t in 0.11 seconds.\n",
      "  Calculating diffusion potential...\n"
     ]
    },
    {
     "name": "stderr",
     "output_type": "stream",
     "text": [
      "/home/hsc26/.conda/envs/cpsc_452/lib/python3.12/site-packages/graphtools/graphs.py:290: RuntimeWarning: Detected zero distance between 79 pairs of samples. Consider removing duplicates to avoid errors in downstream processing.\n",
      "  warnings.warn(\n"
     ]
    },
    {
     "name": "stdout",
     "output_type": "stream",
     "text": [
      "  Calculated diffusion potential in 0.09 seconds.\n",
      "  Calculating metric MDS...\n",
      "  Calculated metric MDS in 0.18 seconds.\n",
      "Calculated PHATE in 0.40 seconds.\n",
      "(635, 2)\n"
     ]
    }
   ],
   "source": [
    "# View the newly generated points in a PHATE embedding\n",
    "# ? it seems we cannot use a previously defined operator to transform a single point, \n",
    "# so we need to re-define the operator and embed all of the points at once.\n",
    "\n",
    "phate_operator = phate.PHATE()\n",
    "\n",
    "# combine the two lists of values\n",
    "print(hidden_values.shape) # should be 625\n",
    "hidden_values_combined = torch.cat((hidden_values, torch.tensor(generated_new_points)), dim=0)\n",
    "print(hidden_values_combined.shape) # should be 625 + 10 = 635\n",
    "\n",
    "# do the transformation\n",
    "Y_phate_combined = phate_operator.fit_transform(hidden_values_combined)\n",
    "print(Y_phate_combined.shape)\n",
    "\n",
    "# split the lists back up\n",
    "Y_phate = Y_phate_combined[0:624,]\n",
    "generated_Y_phate = Y_phate_combined[625:635,]"
   ]
  },
  {
   "cell_type": "code",
   "execution_count": 27,
   "id": "73470d62-64eb-4be9-b051-ad2af2662b08",
   "metadata": {},
   "outputs": [
    {
     "data": {
      "image/png": "[encoded data removed]",
      "text/plain": [
       "<Figure size 640x480 with 2 Axes>"
      ]
     },
     "metadata": {},
     "output_type": "display_data"
    }
   ],
   "source": [
    "# want to plot both sets of points on one figure\n",
    "# requires a bit more work to get the colorbar right\n",
    "norm = plt.Normalize(min(y_values).numpy(), max(y_values).numpy())\n",
    "\n",
    "plt.scatter(x = Y_phate[:,0], \n",
    "            y = Y_phate[:,1],\n",
    "            c = y_values[0:624], cmap = 'viridis', norm = norm)\n",
    "plt.scatter(x = generated_Y_phate[:,0],\n",
    "            y = generated_Y_phate[:,1],\n",
    "            marker=\"D\", c= desired_logP_list, edgecolors=\"black\", norm = norm)\n",
    "plt.colorbar(label=\"logP\")\n",
    "plt.title(\"Generated logP on [0,2]\")\n",
    "plt.savefig(\"./training-figs/diffusion/generated-values-PHATE-w-new-points.png\") \n",
    "plt.show()"
   ]
  },
  {
   "cell_type": "markdown",
   "id": "6b7439a0-e36c-4181-a84a-48bebcd73d4d",
   "metadata": {},
   "source": [
    "## Train the decoder model, using latent space embeddings and original graph representations"
   ]
  },
  {
   "cell_type": "code",
   "execution_count": 10,
   "id": "4f8d3c1a-bfdd-4322-bd25-394794f1a8ef",
   "metadata": {},
   "outputs": [],
   "source": [
    "batch_size = 1\n",
    "learning_rate = 1e-4\n",
    "epochs = 200\n",
    "p = 0.7     # probability for dropout\n",
    "loss_lambda = 0.08 # tradeoff between predicting valid adjacency matrix and other features"
   ]
  },
  {
   "cell_type": "code",
   "execution_count": 11,
   "id": "565ad41b-da72-4c3d-868b-1ea62b60e161",
   "metadata": {},
   "outputs": [
    {
     "name": "stderr",
     "output_type": "stream",
     "text": [
      "/tmp/ipykernel_3170161/2344106265.py:2: FutureWarning: You are using `torch.load` with `weights_only=False` (the current default value), which uses the default pickle module implicitly. It is possible to construct malicious pickle data which will execute arbitrary code during unpickling (See https://github.com/pytorch/pytorch/blob/main/SECURITY.md#untrusted-models for more details). In a future release, the default value for `weights_only` will be flipped to `True`. This limits the functions that could be executed during unpickling. Arbitrary objects will no longer be allowed to be loaded via this mode unless they are explicitly allowlisted by the user via `torch.serialization.add_safe_globals`. We recommend you start setting `weights_only=True` for any use case where you don't have full control of the loaded file. Please open an issue on GitHub for any issues related to this experimental feature.\n",
      "  pesticides = torch.load(\"./data/pesticides_graphs_augmented_v3.pt\")\n"
     ]
    }
   ],
   "source": [
    "hidden_values = torch.load(\"./data/hidden_values_from_pesticides.pt\", weights_only=False)\n",
    "pesticides = torch.load(\"./data/pesticides_graphs_augmented_v3.pt\")"
   ]
  },
  {
   "cell_type": "code",
   "execution_count": 12,
   "id": "3bfcab51-a99b-445a-8c6e-c3e8c4155ab3",
   "metadata": {},
   "outputs": [],
   "source": [
    "# Add the hidden values to the graphs & add padding\n",
    "y_values_list = []\n",
    "\n",
    "for i in range(len(pesticides)):\n",
    "    graph = pesticides[i]\n",
    "    graph.hidden_values = hidden_values[i]\n",
    "    graph.x, graph.edge_index, graph.edge_attr = pad_graphs(graph.x, graph.edge_index, graph.edge_attr)\n",
    "    y_values_list.append(graph.y)\n",
    "    graph.edge_index = reshape_index(graph.edge_index)"
   ]
  },
  {
   "cell_type": "code",
   "execution_count": 14,
   "id": "5bc8edc3-9b51-424f-aa80-ce8b767f644a",
   "metadata": {},
   "outputs": [],
   "source": [
    "# Create dataloaders \n",
    "# split into training and test\n",
    "train_dataset, test_dataset = train_test_split(pesticides, test_size=0.2, random_state=2025)\n",
    "\n",
    "all_data = DataLoader(pesticides, batch_size=1, shuffle = False)\n",
    "train_loader = DataLoader(train_dataset, batch_size=batch_size, shuffle=True)\n",
    "test_loader = DataLoader(test_dataset, batch_size=batch_size, shuffle=False)"
   ]
  },
  {
   "cell_type": "code",
   "execution_count": 15,
   "id": "9dbc0d9f-99d5-48ed-a9b4-8bf73d4a40e0",
   "metadata": {},
   "outputs": [],
   "source": [
    "decoder = DecodeNet(p = p)\n",
    "\n",
    "# Define the optimizer\n",
    "optimizer = torch.optim.RMSprop(decoder.parameters(), lr = learning_rate)\n",
    "\n",
    "# Uncomment below line to train decoder model\n",
    "# decoder_train_losses, decoder_test_losses  = train_decoder(decoder, train_loader, test_loader, optimizer, epochs=epochs)"
   ]
  },
  {
   "cell_type": "markdown",
   "id": "2e5b141f-247d-4291-9217-f058ce0a156f",
   "metadata": {},
   "source": [
    "## Generation: Decoding the sampled latent space points"
   ]
  },
  {
   "cell_type": "code",
   "execution_count": 16,
   "id": "adc8334c-890e-4e68-8a31-df6d4ebe5246",
   "metadata": {},
   "outputs": [
    {
     "name": "stderr",
     "output_type": "stream",
     "text": [
      "/tmp/ipykernel_3170161/3194049857.py:2: FutureWarning: You are using `torch.load` with `weights_only=False` (the current default value), which uses the default pickle module implicitly. It is possible to construct malicious pickle data which will execute arbitrary code during unpickling (See https://github.com/pytorch/pytorch/blob/main/SECURITY.md#untrusted-models for more details). In a future release, the default value for `weights_only` will be flipped to `True`. This limits the functions that could be executed during unpickling. Arbitrary objects will no longer be allowed to be loaded via this mode unless they are explicitly allowlisted by the user via `torch.serialization.add_safe_globals`. We recommend you start setting `weights_only=True` for any use case where you don't have full control of the loaded file. Please open an issue on GitHub for any issues related to this experimental feature.\n",
      "  generated_new_points = torch.load(\"./data/generated_points.pt\")\n",
      "/tmp/ipykernel_3170161/3194049857.py:7: FutureWarning: You are using `torch.load` with `weights_only=False` (the current default value), which uses the default pickle module implicitly. It is possible to construct malicious pickle data which will execute arbitrary code during unpickling (See https://github.com/pytorch/pytorch/blob/main/SECURITY.md#untrusted-models for more details). In a future release, the default value for `weights_only` will be flipped to `True`. This limits the functions that could be executed during unpickling. Arbitrary objects will no longer be allowed to be loaded via this mode unless they are explicitly allowlisted by the user via `torch.serialization.add_safe_globals`. We recommend you start setting `weights_only=True` for any use case where you don't have full control of the loaded file. Please open an issue on GitHub for any issues related to this experimental feature.\n",
      "  decoder.load_state_dict(torch.load(\"./models/decoder-trained.pth\"))\n"
     ]
    },
    {
     "data": {
      "text/plain": [
       "<All keys matched successfully>"
      ]
     },
     "execution_count": 16,
     "metadata": {},
     "output_type": "execute_result"
    }
   ],
   "source": [
    "# load in the previously generated points (generated by the diffusion model\n",
    "generated_new_points = torch.load(\"./data/generated_points.pt\")\n",
    "\n",
    "desired_logP_list = np.linspace(0, 2, 10)\n",
    "\n",
    "decoder = DecodeNet()\n",
    "decoder.load_state_dict(torch.load(\"./models/decoder-trained.pth\"))"
   ]
  },
  {
   "cell_type": "code",
   "execution_count": 17,
   "id": "9e5feae1-314a-436c-bd3b-c4e57904c226",
   "metadata": {},
   "outputs": [],
   "source": [
    "decoded_new_points = list(range(len(generated_new_points)))\n",
    "\n",
    "for i in range(len(generated_new_points)):\n",
    "    point = torch.tensor(generated_new_points[i])\n",
    "    generated_x, generated_edge_index, generated_edge_attr = decoder(point) \n",
    "\n",
    "    decoded_new_points[i] = Data(y = desired_logP_list[i],\n",
    "                                x = generated_x.detach().numpy(),\n",
    "                                edge_index = unfold_index(generated_edge_index.detach().numpy()),\n",
    "                                edge_attr = generated_edge_attr.detach().numpy())\n"
   ]
  },
  {
   "cell_type": "code",
   "execution_count": 18,
   "id": "d829a261-0f12-4c34-84e7-9e083ec388de",
   "metadata": {},
   "outputs": [
    {
     "data": {
      "image/png": "[encoded data removed]",
      "text/plain": [
       "<Figure size 1300x400 with 3 Axes>"
      ]
     },
     "metadata": {},
     "output_type": "display_data"
    }
   ],
   "source": [
    "adj = decoded_new_points[8].edge_index\n",
    "\n",
    "edge_attr = decoded_new_points[8].edge_attr\n",
    "edge_attr = edge_attr[edge_attr != 0]\n",
    "edge_attr = np.expand_dims(edge_attr, axis=0)\n",
    "x_attr = decoded_new_points[8].x\n",
    "\n",
    "fig, axes = plt.subplots(1, 3, figsize=(13,4))\n",
    "axes[0].imshow(adj, cmap=\"nipy_spectral\")\n",
    "axes[0].set_title(\"Adjacency matrix\")\n",
    "\n",
    "axes[1].imshow(edge_attr, cmap=\"nipy_spectral\")\n",
    "axes[1].set_title(\"Edge attributes\")\n",
    "axes[1].set_yticks([])\n",
    "\n",
    "axes[2].imshow(x_attr, cmap=\"nipy_spectral\")\n",
    "axes[2].set_title(\"Node attributes\")\n",
    "axes[2].set_xticks([])\n",
    "\n",
    "plt.tight_layout()\n",
    "fig.savefig(\"./training-figs/decoder/generated_matrix.png\")\n",
    "plt.show()"
   ]
  },
  {
   "cell_type": "code",
   "execution_count": 37,
   "id": "a6dbac12-8d29-4743-af3c-3f592bda6137",
   "metadata": {},
   "outputs": [],
   "source": [
    "torch.save(decoded_new_points, \"./data/decoded_new_points.pt\")"
   ]
  },
  {
   "cell_type": "markdown",
   "id": "36571a7c-ca0e-4342-be63-0345cea770ac",
   "metadata": {},
   "source": [
    "## Evaluation metrics"
   ]
  },
  {
   "cell_type": "code",
   "execution_count": 3,
   "id": "14b5ea24-0435-4c2b-b07e-f15c24b29fd3",
   "metadata": {},
   "outputs": [],
   "source": [
    "from functions.evaluation_functions import * # TEMP for testing\n",
    "from functions.data_generation import *\n",
    "import random"
   ]
  },
  {
   "cell_type": "code",
   "execution_count": 5,
   "id": "3274745a-b0d6-40e9-b067-280df57aa8b7",
   "metadata": {},
   "outputs": [],
   "source": [
    "initial_graphs = torch.load(\"./data/pesticides_graphs_augmented_v3.pt\", weights_only=False)\n",
    "output_graphs = torch.load(\"./data/decoded_new_points.pt\", weights_only=False)"
   ]
  },
  {
   "cell_type": "code",
   "execution_count": 3,
   "id": "f061cdf9-6941-4c48-890e-378a1d3d9a19",
   "metadata": {},
   "outputs": [
    {
     "name": "stdout",
     "output_type": "stream",
     "text": [
      "Percent of valid graphs: 80.0\n"
     ]
    }
   ],
   "source": [
    "# remove padding from generated graphs and print the % valid graphs\n",
    "valid_graphs = unpad_graphs(output_graphs)"
   ]
  },
  {
   "cell_type": "code",
   "execution_count": 4,
   "id": "a879e52b-da90-4a7e-9322-e4253705764c",
   "metadata": {},
   "outputs": [
    {
     "name": "stdout",
     "output_type": "stream",
     "text": [
      "There are 6.0 unique graphs, with an overall 75.0% unique graphs generated\n"
     ]
    }
   ],
   "source": [
    "# report the number of unique generated graphs and the % unique\n",
    "graph_isomorphism_within_set(valid_graphs)"
   ]
  },
  {
   "cell_type": "code",
   "execution_count": 5,
   "id": "4de3d0b1-3bf2-4a67-94ce-9ae10b354a3f",
   "metadata": {},
   "outputs": [
    {
     "name": "stdout",
     "output_type": "stream",
     "text": [
      "Compared to the initial graphs used for training, generated graphs are 50.0% unique\n"
     ]
    }
   ],
   "source": [
    "# compare the graphs used to train the model and report the percent of valid generated graphs that are unique\n",
    "graph_isomorphism_between_sets(initial_graphs, valid_graphs)"
   ]
  },
  {
   "cell_type": "code",
   "execution_count": 7,
   "id": "ea232885-0083-404e-be72-5d1bca4dbc41",
   "metadata": {},
   "outputs": [
    {
     "name": "stdout",
     "output_type": "stream",
     "text": [
      "There are 0 valid molecules, with a percent validity of 0.0%\n"
     ]
    },
    {
     "name": "stderr",
     "output_type": "stream",
     "text": [
      "[10:26:50] Explicit valence for atom # 0 Al, 4, is greater than permitted\n",
      "[10:26:50] Explicit valence for atom # 3 N, 4, is greater than permitted\n",
      "[10:26:50] Explicit valence for atom # 2 N, 4, is greater than permitted\n",
      "[10:26:50] Explicit valence for atom # 2 N, 4, is greater than permitted\n",
      "[10:26:50] Explicit valence for atom # 3 O, 3, is greater than permitted\n",
      "[10:26:50] Explicit valence for atom # 6 N, 4, is greater than permitted\n",
      "[10:26:50] Explicit valence for atom # 3 N, 4, is greater than permitted\n",
      "[10:26:50] Explicit valence for atom # 4 N, 9, is greater than permitted\n"
     ]
    }
   ],
   "source": [
    "# convert graphs to molecules using node and edge features.\n",
    "# report the number and percent of valid molecules of the valid graphs\n",
    "all_generated_mol, valid_generated_mol = mol_reconstruct(valid_graphs)"
   ]
  },
  {
   "cell_type": "code",
   "execution_count": null,
   "id": "5bdf36dd-bf96-434d-b858-df3813e55a9c",
   "metadata": {},
   "outputs": [],
   "source": [
    "# increase resolution of rdkit output\n",
    "def increase_resolution_smiles(smiles, size=(300, 300), dpi=300):\n",
    "    mol = Chem.MolFromSmiles(smiles)\n",
    "    img = Draw.MolToImage(mol, size=size, kekulize=True)\n",
    "    return img\n",
    "\n",
    "def increase_resolution_mol(mol, size=(300, 300), dpi=300):\n",
    "    img = Draw.MolToImage(mol, size=size, kekulize=True)\n",
    "    return img"
   ]
  },
  {
   "cell_type": "code",
   "execution_count": null,
   "id": "954e055a-7367-4581-ad33-cf802a1dc908",
   "metadata": {},
   "outputs": [],
   "source": [
    "# visualize sample initial graphs and their corresponding molecules\n",
    "from rdkit.Chem import Draw\n",
    "sample = random.randint(0, len(initial_graphs)-1)\n",
    "sample2 = random.randint(0, len(initial_graphs)-1)\n",
    "\n",
    "smiles1 = to_smiles(initial_graphs[sample])\n",
    "smiles2 = to_smiles(initial_graphs[sample2])\n",
    "\n",
    "fig, axes = plt.subplots(2, 2, figsize=(12, 6))\n",
    "fig.suptitle('Sample Initial Graphs and Molecules')\n",
    "\n",
    "# Plot networkx graph\n",
    "G = to_networkx(initial_graphs[sample], to_undirected=True)\n",
    "nx.draw(G, ax=axes[0,0], with_labels=False, node_color=\"black\", node_size=5, edge_color=\"k\", linewidths=6, font_size=15)\n",
    "axes[0,0].set_title(\"Training Graph Example 1\")\n",
    "\n",
    "G = to_networkx(initial_graphs[sample2], to_undirected=True)\n",
    "nx.draw(G, ax=axes[0,1], with_labels=False, node_color=\"black\", node_size=5, edge_color=\"k\", linewidths=6, font_size=15)\n",
    "axes[0,1].set_title(\"Training Graph Example 2\")\n",
    "\n",
    "# Plot RDKit molecule\n",
    "img1 = increase_resolution_smiles(smiles1, size=(2000, 1000), dpi=400)\n",
    "axes[1,0].imshow(img1)\n",
    "axes[1,0].axis('off')\n",
    "axes[1,0].set_title(\"Training Molecule Example 1\")\n",
    "\n",
    "\n",
    "# Plot RDKit molecule\n",
    "img2 = increase_resolution_smiles(smiles2, size=(2000, 1000), dpi=4000)\n",
    "axes[1,1].imshow(img2)\n",
    "axes[1,1].axis('off')\n",
    "axes[1,1].set_title(\"Training Molecule Example 2\")\n",
    "\n",
    "plt.tight_layout()\n",
    "plt.savefig(\"./training-figs/decoder/training_graphs_and_molecules.png\") \n",
    "plt.show()"
   ]
  },
  {
   "cell_type": "code",
   "execution_count": 7,
   "id": "d66e3964-daa6-4c73-824c-f9194396787c",
   "metadata": {},
   "outputs": [
    {
     "ename": "NameError",
     "evalue": "name 'Chem' is not defined",
     "output_type": "error",
     "traceback": [
      "\u001b[1;31m---------------------------------------------------------------------------\u001b[0m",
      "\u001b[1;31mNameError\u001b[0m                                 Traceback (most recent call last)",
      "Cell \u001b[1;32mIn[7], line 1\u001b[0m\n\u001b[1;32m----> 1\u001b[0m all_generate_mol, valid_generated_mol \u001b[38;5;241m=\u001b[39m \u001b[43mmol_reconstruct\u001b[49m\u001b[43m(\u001b[49m\u001b[43mvalid_graphs\u001b[49m\u001b[43m)\u001b[49m\n",
      "File \u001b[1;32m~\\OneDrive\\Documents\\GitHub\\BugBuster\\functions\\evaluation_functions.py:131\u001b[0m, in \u001b[0;36mmol_reconstruct\u001b[1;34m(valid_graphs)\u001b[0m\n\u001b[0;32m    128\u001b[0m graph_temp\u001b[38;5;241m.\u001b[39medge_attr \u001b[38;5;241m=\u001b[39m np\u001b[38;5;241m.\u001b[39marray(np\u001b[38;5;241m.\u001b[39mround(graph_temp\u001b[38;5;241m.\u001b[39medge_attr), dtype\u001b[38;5;241m=\u001b[39m\u001b[38;5;28mint\u001b[39m)[\u001b[38;5;241m0\u001b[39m:D_edge]\n\u001b[0;32m    130\u001b[0m \u001b[38;5;66;03m# now attempt to reconstruct valid molecules\u001b[39;00m\n\u001b[1;32m--> 131\u001b[0m mol \u001b[38;5;241m=\u001b[39m \u001b[43mChem\u001b[49m\u001b[38;5;241m.\u001b[39mRWMol()\n\u001b[0;32m    133\u001b[0m \u001b[38;5;28;01mfor\u001b[39;00m i \u001b[38;5;129;01min\u001b[39;00m \u001b[38;5;28mrange\u001b[39m(graph_temp\u001b[38;5;241m.\u001b[39mnum_nodes):\n\u001b[0;32m    134\u001b[0m     atom \u001b[38;5;241m=\u001b[39m Chem\u001b[38;5;241m.\u001b[39mAtom(\u001b[38;5;28mint\u001b[39m(graph_temp\u001b[38;5;241m.\u001b[39mx[i, \u001b[38;5;241m0\u001b[39m]\u001b[38;5;241m.\u001b[39mitem()))\n",
      "\u001b[1;31mNameError\u001b[0m: name 'Chem' is not defined"
     ]
    }
   ],
   "source": [
    "# visualize sample valid graphs and their corresponding molecules\n",
    "from rdkit.Chem import Draw\n",
    "sample = random.randint(0, len(valid_graphs)-1)\n",
    "sample2 = random.randint(0, len(valid_graphs)-1)\n",
    "\n",
    "fig, axes = plt.subplots(2, 2, figsize=(12, 6))\n",
    "fig.suptitle('Sample Generated Graphs and Molecules')\n",
    "\n",
    "# Plot networkx graph\n",
    "G = nx.from_numpy_array(valid_graphs[sample].edge_index, create_using = nx.MultiGraph())\n",
    "nx.draw(G, ax=axes[0,0], with_labels=False, node_color=\"black\", node_size=5, edge_color=\"k\", linewidths=6, font_size=15)\n",
    "axes[0,0].set_title(\"Generated Graph Example 1\")\n",
    "\n",
    "G = nx.from_numpy_array(valid_graphs[sample2].edge_index, create_using = nx.MultiGraph())\n",
    "nx.draw(G, ax=axes[0,1], with_labels=False, node_color=\"black\", node_size=5, edge_color=\"k\", linewidths=6, font_size=15)\n",
    "axes[0,1].set_title(\"Generated Graph Example 2\")\n",
    "\n",
    "# Plot RDKit molecule\n",
    "img1 = increase_resolution_mol(all_generated_mol[sample], size=(2000, 1000), dpi=400)\n",
    "axes[1,0].imshow(img1)\n",
    "axes[1,0].axis('off')\n",
    "axes[1,0].set_title(\"Generated Molecule Example 1\")\n",
    "\n",
    "\n",
    "# Plot RDKit molecule\n",
    "img2 = increase_resolution_mol(all_generated_mol[sample2], size=(2000, 1000), dpi=400)\n",
    "axes[1,1].imshow(img2)\n",
    "axes[1,1].axis('off')\n",
    "axes[1,1].set_title(\"Generated Molecule Example 2\")\n",
    "\n",
    "plt.tight_layout()\n",
    "plt.savefig(\"./training-figs/decoder/generated_graphs_and_molecules.png\") \n",
    "plt.show()"
   ]
  }
 ],
 "metadata": {
  "kernelspec": {
   "display_name": "Python [conda env:DeepLearn] *",
   "language": "python",
   "name": "conda-env-DeepLearn-py"
  },
  "language_info": {
   "codemirror_mode": {
    "name": "ipython",
    "version": 3
   },
   "file_extension": ".py",
   "mimetype": "text/x-python",
   "name": "python",
   "nbconvert_exporter": "python",
   "pygments_lexer": "ipython3",
   "version": "3.12.9"
  }
 },
 "nbformat": 4,
 "nbformat_minor": 5
}
