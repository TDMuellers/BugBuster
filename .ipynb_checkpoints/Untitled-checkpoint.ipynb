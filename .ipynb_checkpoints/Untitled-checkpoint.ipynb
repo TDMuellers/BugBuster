{
 "cells": [
  {
   "cell_type": "markdown",
   "id": "1fb3ea37-5b3d-4e73-888e-76e98a6a5f65",
   "metadata": {},
   "source": [
    "# Create Input Data\n",
    "\n",
    "This script takes a variety of chemical identifiers for both insecticidal and non-insecticidal compounds, cleans these chemicals, converts them to SMILES, and then converts SMILES to graphs.\n",
    "\n",
    "Written by Tobias D. Muellers"
   ]
  },
  {
   "cell_type": "markdown",
   "id": "178ff55e-7795-49fc-b904-ce71a8f3b40e",
   "metadata": {},
   "source": [
    "## Import Chemicals, Remove Non-Neutral Organics, Convert to SMILES "
   ]
  },
  {
   "cell_type": "code",
   "execution_count": 141,
   "id": "727f465a-45ee-4c97-9b3b-78408390f680",
   "metadata": {},
   "outputs": [],
   "source": [
    "import requests\n",
    "from bs4 import BeautifulSoup as bs\n",
    "import pandas as pd\n",
    "import numpy as np\n",
    "import time\n",
    "from selenium import webdriver"
   ]
  },
  {
   "cell_type": "code",
   "execution_count": 178,
   "id": "866dc31a-0e48-4474-9515-b4255214b08c",
   "metadata": {},
   "outputs": [],
   "source": [
    "from selenium.webdriver.chrome.options import Options\n",
    "options = Options()\n",
    "options.add_argument(\"--headless\")\n",
    "driver = webdriver.Chrome(options=options)"
   ]
  },
  {
   "cell_type": "code",
   "execution_count": 179,
   "id": "1b58794a-ca4d-4d17-940a-f12c77bc34da",
   "metadata": {},
   "outputs": [],
   "source": [
    "# function to get content from https://www.pesticideinfo.org/\n",
    "# based on https://realpython.com/beautiful-soup-web-scraper-python/\n",
    "def pesticideinfo_get(PRI):\n",
    "    \"\"\"\n",
    "    this function takes up to a five digit value (PRI) and uses it to extract data from each PesticideInfo page. \n",
    "    PRI = string\n",
    "    \"\"\"\n",
    "    # webdriver workaround from https://stackoverflow.com/questions/76928765/attributeerror-str-object-has-no-attribute-capabilities-in-selenium\n",
    "    cservice = webdriver.ChromeService(\n",
    "        executable_path=\"C:/Users/tobia/OneDrive/Documents/GitHub/BugBuster/chromedriver-win64/chromedriver-win64/chromedriver.exe\",\n",
    "        chrome_options=options)\n",
    "    driver = webdriver.Chrome(service = cservice)\n",
    "    # driver code based on https://stackoverflow.com/questions/52687372/beautifulsoup-not-returning-complete-html-of-the-page\n",
    "    URL = \"https://www.pesticideinfo.org/chemical/PRI\"+PRI\n",
    "    driver.get(URL)\n",
    "    time.sleep(1)\n",
    "    page = driver.page_source\n",
    "    soup = bs(page, \"html.parser\")\n",
    "    results = soup.find_all(\"div\", {\"class\": \"data-table-key-value\"})\n",
    "    \n",
    "    return results"
   ]
  },
  {
   "cell_type": "code",
   "execution_count": 180,
   "id": "571a0a52-7e61-44b0-95a2-0241eaacbfe7",
   "metadata": {},
   "outputs": [
    {
     "data": {
      "text/plain": [
       "[<div class=\"data-table-key-value\"><div>Chemical name<span>:</span></div><div>2,2-oxybis (4-dodecyl benzene sulfonate)</div></div>,\n",
       " <div class=\"data-table-key-value\"><div>EPA PC code<span>:</span></div><div>Not Listed</div></div>,\n",
       " <div class=\"data-table-key-value\"><div>CAS number<span>:</span></div><div>Not Listed</div></div>,\n",
       " <div class=\"data-table-key-value\"><div>CA DPR chem code<span>:</span></div><div>1741</div></div>,\n",
       " <div class=\"data-table-key-value\"><div>Chemical class<span>:</span></div><div>Benzene sulfonate</div></div>,\n",
       " <div class=\"data-table-key-value\"><div>Molecular weight<span>:</span></div><div>0</div></div>,\n",
       " <div class=\"data-table-key-value\"><div>Use type<span>:</span></div><div>Adjuvant,Fungicide,Insecticide,Microbiocide</div></div>,\n",
       " <div class=\"data-table-key-value\"><div>EPA Registered<span>:</span></div><div>No</div></div>,\n",
       " <div class=\"data-table-key-value\"><div>PAN Bad Actor<div class=\"tooltip-holder\"><div class=\"tooltip-icon\" id=\"badactor\"></div></div><span>:</span></div><div>Not Listed</div></div>,\n",
       " <div class=\"data-table-key-value\"><div>Highly Hazardous Pesticide<div class=\"tooltip-holder\"><div class=\"tooltip-icon\" id=\"hhps\"></div></div><span>:</span></div><div>Not Listed</div></div>,\n",
       " <div class=\"data-table-key-value\"><div>Drift Prone (VP)<span>:</span></div><div>Not Listed</div></div>,\n",
       " <div class=\"data-table-key-value\"><div>Acute Toxicity<span>:</span></div><div>Insufficiently Studied</div></div>,\n",
       " <div class=\"data-table-key-value\"><div>Endocrine Disruptor<span>:</span></div><div>Insufficiently Studied</div></div>,\n",
       " <div class=\"data-table-key-value\"><div>Cholinesterase Inhibitor<span>:</span></div><div>No</div></div>,\n",
       " <div class=\"data-table-key-value\"><div>Ground Water Contaminant<span>:</span></div><div>Insufficiently Studied</div></div>,\n",
       " <div class=\"data-table-key-value\"><div>Carcinogen<span>:</span></div><div>Insufficiently Studied</div></div>,\n",
       " <div class=\"data-table-key-value\"><div>Bee Toxicant<div class=\"tooltip-holder\"><div class=\"tooltip-icon\" id=\"beetoxins\"></div></div><span>:</span></div><div>Not Listed</div></div>,\n",
       " <div class=\"data-table-key-value\"><div>Development Or Reproductive Toxicant<span>:</span></div><div>Insufficiently Studied</div></div>,\n",
       " <div class=\"data-table-key-value\"><div>Acute Toxicity<div class=\"tooltip-holder\"><div class=\"tooltip-icon\" id=\"acutetoxicity\"></div></div><span>:</span></div><div>Insufficiently Studied</div></div>,\n",
       " <div class=\"data-table-key-value\"><div>Reproductive and Developmental Toxicant<div class=\"tooltip-holder\"><div class=\"tooltip-icon\" id=\"reprodevelopmental\"></div></div><span>:</span></div><div>Insufficiently Studied</div></div>,\n",
       " <div class=\"data-table-key-value\"><div>Cholinesterase Inhibitor<div class=\"tooltip-holder\"><div class=\"tooltip-icon\" id=\"cholinesteraseinhibitors\"></div></div><span>:</span></div><div>No</div></div>,\n",
       " <div class=\"data-table-key-value\"><div>Endocrine Disruption<div class=\"tooltip-holder\"><div class=\"tooltip-icon\" id=\"endocrinedisruptors\"></div></div><span>:</span></div><div>Insufficiently Studied</div></div>,\n",
       " <div class=\"data-table-key-value\"><div>Carcinogen<div class=\"tooltip-holder\"><div class=\"tooltip-icon\" id=\"carcinogens\"></div></div><span>:</span></div><div>Insufficiently Studied</div></div>,\n",
       " <div class=\"data-table-key-value\"><div>CA Prop 65 Developmental Toxicant<span>:</span></div><div>Not Listed</div></div>,\n",
       " <div class=\"data-table-key-value\"><div>CA Prop 65 Male Reproductive Toxicant<span>:</span></div><div>Not Listed</div></div>,\n",
       " <div class=\"data-table-key-value\"><div>U.S. TRI Developmental Toxicant<span>:</span></div><div>Not Listed</div></div>,\n",
       " <div class=\"data-table-key-value\"><div>U.S. TRI Reproductive Toxicant<span>:</span></div><div>Not Listed</div></div>,\n",
       " <div class=\"data-table-key-value\"><div>CA Prop 65 Female Reproductive Toxicant<span>:</span></div><div>Not Listed</div></div>,\n",
       " <div class=\"data-table-key-value\"><div>CA Prop 65 Known Carcinogens<span>:</span></div><div>Not Listed</div></div>,\n",
       " <div class=\"data-table-key-value\"><div>TRI Carcinogen<span>:</span></div><div>Not Listed</div></div>,\n",
       " <div class=\"data-table-key-value\"><div>IARC Carcinogens<span>:</span></div><div>Not Listed</div></div>,\n",
       " <div class=\"data-table-key-value\"><div>Global Harmonized System<span>:</span></div><div>Not Listed</div></div>,\n",
       " <div class=\"data-table-key-value\"><div>U.S. NTP Carcinogens<span>:</span></div><div>Not Listed</div></div>,\n",
       " <div class=\"data-table-key-value\"><div>Mutagenic<span>:</span></div><div>Not Listed</div></div>,\n",
       " <div class=\"data-table-key-value\"><div>EU ED Rating<span>:</span></div><div>Not Listed</div></div>,\n",
       " <div class=\"data-table-key-value\"><div>Danish ED List<span>:</span></div><div>Not Listed</div></div>,\n",
       " <div class=\"data-table-key-value\"><div>Our Stolen Future ED List<span>:</span></div><div>Not Listed</div></div>,\n",
       " <div class=\"data-table-key-value\"><div>PAN Ground Water Contaminant Rating<div class=\"tooltip-holder\"><div class=\"tooltip-icon\" id=\"groundwater\"></div></div><span>:</span></div><div>Not Listed</div></div>,\n",
       " <div class=\"data-table-key-value\"><div>Aerobic Soil Half-life (Avg, Days)<span>:</span></div><div>Not Listed</div></div>,\n",
       " <div class=\"data-table-key-value\"><div>Adsorption Coefficient (Koc)<span>:</span></div><div>Not Listed</div></div>,\n",
       " <div class=\"data-table-key-value\"><div>Anaerobic Soil Half-life (Avg, Days)<span>:</span></div><div>Not Listed</div></div>,\n",
       " <div class=\"data-table-key-value\"><div>Hydrolysis Half-life (Avg, Days)<span>:</span></div><div>Not Listed</div></div>,\n",
       " <div class=\"data-table-key-value\"><div>Water Solubility<span>:</span></div><div>Not Listed</div></div>,\n",
       " <div class=\"data-table-key-value\"><div>Lifetime Exposure Health Advisory Level<span>:</span></div><div>Not Listed</div></div>,\n",
       " <div class=\"data-table-key-value\"><div>Maximum Contaminant Level Goal<span>:</span></div><div>Not Listed</div></div>,\n",
       " <div class=\"data-table-key-value\"><div><div>Reference Dose <span class=\"kg-inner\">(g/kg/day)</span></div><span>:</span></div><div>Not Listed</div></div>,\n",
       " <div class=\"data-table-key-value\"><div>One Day Exposure Health Advisory Level<span>:</span></div><div>Not Listed</div></div>,\n",
       " <div class=\"data-table-key-value\"><div>U.S. Drinking Water Equivalent Level<span>:</span></div><div>Not Listed</div></div>,\n",
       " <div class=\"data-table-key-value\"><div>Ten Day Exposure Health Advisory Level<span>:</span></div><div>Not Listed</div></div>,\n",
       " <div class=\"data-table-key-value\"><div>Concentration with Lifetime\tCancer Risk<span>:</span></div><div>Not Listed</div></div>,\n",
       " <div class=\"data-table-key-value\"><div>UNEP Persistent Organic Pollutant (POP)<div class=\"tooltip-holder\"><div class=\"tooltip-icon\" id=\"pops\"></div></div><span>:</span></div><div>Not Listed</div></div>,\n",
       " <div class=\"data-table-key-value\"><div>UNEP Prior Informed Consent\tChemical (PIC)<span>:</span></div><div>Not Listed</div></div>,\n",
       " <div class=\"data-table-key-value\"><div>PAN International Ban List<div class=\"tooltip-holder\"><div class=\"tooltip-icon\" id=\"banlist\"></div></div><span>:</span></div><div>No</div></div>,\n",
       " <div class=\"data-table-key-value\"><div>EU Registered<span>:</span></div><div>Not Listed</div></div>,\n",
       " <div class=\"data-table-key-value\"><div>U.S. EPA Registered<span>:</span></div><div>No</div></div>,\n",
       " <div class=\"data-table-key-value\"><div>U.S. EPA Minimum Risk Pesticide\t(25b list)<span>:</span></div><div>No</div></div>,\n",
       " <div class=\"data-table-key-value\"><div>U.S. EPA Hazardous Air Pollutant<span>:</span></div><div>Not Listed</div></div>,\n",
       " <div class=\"data-table-key-value\"><div>CA Registered<span>:</span></div><div>No</div></div>,\n",
       " <div class=\"data-table-key-value\"><div>CA Toxic Air Contaminant<span>:</span></div><div>Not Listed</div></div>,\n",
       " <div class=\"data-table-key-value\"><div>CA Groundwater Contaminant<span>:</span></div><div>Not Listed</div></div>,\n",
       " <div class=\"data-table-key-value\"><div>Codex Alimentarius(UN FAO Maximum Residue Levels<span>:</span></div><div><div><a href=\"http://www.fao.org/fao-who-codexalimentarius/codex-texts/maximum-residue-limits/en\" target=\"_blank\">Visit Website</a></div></div></div>,\n",
       " <div class=\"data-table-key-value\"><div>European Union Maximum Residue level<span>:</span></div><div><div><a href=\"http://ec.europa.eu/food/plant/pesticides/eu-pesticides-database/public/?event=download.MRL\" target=\"_blank\">Visit Website</a></div></div></div>,\n",
       " <div class=\"data-table-key-value\"><div>U.S Maximum tolerance level<span>:</span></div><div><div><a href=\"https://www.epa.gov/pesticide-tolerances/how-search-tolerances-pesticide-ingredients-code-federal-regulations\" target=\"_blank\">Visit Website</a></div></div></div>]"
      ]
     },
     "execution_count": 180,
     "metadata": {},
     "output_type": "execute_result"
    }
   ],
   "source": [
    "pesticideinfo_get(\"344\")"
   ]
  },
  {
   "cell_type": "code",
   "execution_count": null,
   "id": "f7a6a931-8bef-4d71-924f-78b2e972f99b",
   "metadata": {},
   "outputs": [],
   "source": []
  }
 ],
 "metadata": {
  "kernelspec": {
   "display_name": "Python 3 (ipykernel)",
   "language": "python",
   "name": "python3"
  },
  "language_info": {
   "codemirror_mode": {
    "name": "ipython",
    "version": 3
   },
   "file_extension": ".py",
   "mimetype": "text/x-python",
   "name": "python",
   "nbconvert_exporter": "python",
   "pygments_lexer": "ipython3",
   "version": "3.8.19"
  }
 },
 "nbformat": 4,
 "nbformat_minor": 5
}
