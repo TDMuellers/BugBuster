{
 "cells": [
  {
   "cell_type": "markdown",
   "id": "6a333582-2a54-44fb-82ef-3eeec9388e09",
   "metadata": {
    "id": "6a333582-2a54-44fb-82ef-3eeec9388e09"
   },
   "source": [
    "### Authors: Jennifer Gao, Helen Cai\n",
    "### April 2025\n",
    "The purpose of this notebook is to create a diffusion/decoder architecture that will be used in our final project.\n"
   ]
  },
  {
   "cell_type": "code",
   "execution_count": 1,
   "id": "931c3cd6-4267-41f5-8869-99aee1c01666",
   "metadata": {
    "id": "931c3cd6-4267-41f5-8869-99aee1c01666"
   },
   "outputs": [],
   "source": [
    "import numpy as np\n",
    "import matplotlib.pyplot as plt\n",
    "import pandas as pd\n",
    "\n",
    "import torch\n",
    "import torch.nn as nn\n",
    "import torch.nn.functional as F\n",
    "import torch.optim as optim\n",
    "from torch.nn import Linear\n",
    "from sklearn.model_selection import train_test_split\n",
    "from sklearn.neighbors import NearestNeighbors\n",
    "import tqdm\n",
    "\n",
    "# NetworkX is a Python package used to create, manipulate, and mine graphs\n",
    "import networkx as nx\n",
    "\n",
    "# further libraries for working with graphs\n",
    "import torch_geometric\n",
    "from torch_geometric.nn import GCNConv, pool\n",
    "from torch_geometric.utils import to_networkx\n",
    "from torch_geometric.data import Data, Dataset\n",
    "from torch_geometric.loader import DataLoader\n",
    "\n",
    "# For visualization\n",
    "import phate"
   ]
  },
  {
   "cell_type": "markdown",
   "id": "2aa5201e-cf66-4b5d-a53a-0db0bf9017b6",
   "metadata": {},
   "source": [
    "## Hyperparameters"
   ]
  },
  {
   "cell_type": "code",
   "execution_count": 25,
   "id": "709a2920-cf08-492c-a18b-dfdde419acf5",
   "metadata": {},
   "outputs": [],
   "source": [
    "batch_size = 4"
   ]
  },
  {
   "cell_type": "markdown",
   "id": "0f4988b0-59d9-44c5-ba05-d8c14df6ff21",
   "metadata": {},
   "source": [
    "## 0. Import data"
   ]
  },
  {
   "cell_type": "code",
   "execution_count": 15,
   "id": "5137727b-d560-47c5-b8ca-72fb4799359b",
   "metadata": {
    "id": "5137727b-d560-47c5-b8ca-72fb4799359b"
   },
   "outputs": [],
   "source": [
    "hidden_values = torch.load(\"hidden_values_from_insecticides.pt\", weights_only=False)\n",
    "insecticides = torch.load(\"./data/insecticides_graphs_small.pt\", weights_only=False)\n",
    "\n",
    "# note that logP values are in the y slot of the data\n",
    "\n",
    "# Add the hidden values to the graphs\n",
    "for i in range(len(insecticides)):\n",
    "    graph = insecticides[i]\n",
    "    graph.hidden_values = hidden_values[i]\n"
   ]
  },
  {
   "cell_type": "code",
   "execution_count": 26,
   "id": "3e0ff48a-c9ae-47e9-b793-55ee0057f214",
   "metadata": {},
   "outputs": [],
   "source": [
    "# Create dataloaders \n",
    "# split into training and test\n",
    "train_dataset, test_dataset = train_test_split(insecticides, test_size=0.2, random_state=2025)\n",
    "\n",
    "all_data = DataLoader(insecticides, batch_size=1, shuffle = False)\n",
    "train_loader = DataLoader(train_dataset, batch_size=batch_size, shuffle=True)\n",
    "test_loader = DataLoader(test_dataset, batch_size=batch_size, shuffle=False)"
   ]
  },
  {
   "cell_type": "markdown",
   "id": "Wy7l1Dce3RNf",
   "metadata": {
    "id": "Wy7l1Dce3RNf"
   },
   "source": [
    "## 1. Training a conditional diffusion model\n",
    "\n",
    "Recall that the aim of our project is to sample from a well-constrained latent space that retains certain properties: e.g., molecules that retain a similar logP cluster together. We can take advantage of this well-organized space in our sampling process. \n",
    "\n",
    "For instance, in our sampling process, we want to specify a particular logP for our generated molecules to have, and be able to generate new diffused molecules from that region of the latent space. \n",
    "\n",
    "For our training process: our inputs are latent space points and logP values. The goal is to get new latent space points (e.g. 16x1 tensors) conditioned on a logP value (what might be traditionally thought of as a \"class label.\""
   ]
  },
  {
   "cell_type": "markdown",
   "id": "306297dc",
   "metadata": {},
   "source": [
    "## 2. Training a latent space decoder\n",
    "\n",
    "Now that we have accomplished diffusion in the latent space, we want to be able to convert that latent space representation back to a graph representation. \n",
    "\n",
    "For our training process: our inputs are latent space points and the original graphs used to generate them. Refer to the `encoder` notebook for information on how these inputs are generated. \n",
    "\n",
    "We note that the graph data has the following (rough) dimensions: `x` $ \\in R^{D\\times3}$, `edge_index` $ \\in R^{2 \\times D}$, `edge_attr` $ \\in R^{D \\times 1}$. Thusly, these are the dimensions that our decoder will work to."
   ]
  },
  {
   "cell_type": "code",
   "execution_count": 43,
   "id": "981d8049-1401-44e6-9033-cfcda70c4efc",
   "metadata": {},
   "outputs": [
    {
     "data": {
      "text/plain": [
       "88"
      ]
     },
     "execution_count": 43,
     "metadata": {},
     "output_type": "execute_result"
    }
   ],
   "source": [
    "# What's the maximum number of edges we need to predict?\n",
    "max([data.edge_index.shape[1] for data in insecticides])"
   ]
  },
  {
   "cell_type": "code",
   "execution_count": 66,
   "id": "2166267c-ffe6-4476-b10f-83aba5765ea4",
   "metadata": {},
   "outputs": [],
   "source": [
    "class DecodeNet(nn.Module):\n",
    "    \"\"\"\n",
    "    Initialize an MLP for re-creating graph representations from latent space.\n",
    "    Input (x) will be latent space embeddings (tensor 16x1).\n",
    "    We need to be able to predict x, edge_index, edge_attr.\n",
    "    The number of nodes and edges will also be dynamically predicted.\n",
    "    \"\"\"\n",
    "    def __init__(\n",
    "        self,\n",
    "        num_features: int = 16, # This is the size of the latent space representations.\n",
    "        D: int = 88, # TODO figure this out\n",
    "        p: float = 0.0,\n",
    "    ):\n",
    "        super().__init__()\n",
    "        self.D = D\n",
    "\n",
    "        # Use an MLP to expand dimensions of latent space\n",
    "        self.mlp = nn.Sequential(\n",
    "            Linear(num_features, 32),\n",
    "            nn.ReLU(),\n",
    "            Linear(32, 64),\n",
    "            nn.ReLU(),\n",
    "            Linear(64, 128),\n",
    "            nn.ReLU()\n",
    "        )\n",
    "        \n",
    "        # one head for predicting features x\n",
    "        x_dim = int(D * 3 / 2)\n",
    "        self.x_fc = Linear(128, x_dim)\n",
    "\n",
    "        # one head for predicting edge_index\n",
    "        self.edge_index_fc = Linear(128, 2*D)\n",
    "\n",
    "        # one head for predicting edge_attr\n",
    "        self.edge_attr_fc = Linear(128, 1*D)\n",
    "\n",
    "\n",
    "    def forward(self, data):\n",
    "        \n",
    "        # Apply the MLP\n",
    "        h = self.mlp(data)\n",
    "\n",
    "        print(h.shape)\n",
    "        # Predict x and reshape\n",
    "        x = self.x_fc(h)\n",
    "        x = x.view(-1, int(self.D / 2), 3)\n",
    "\n",
    "        # Predict edge_index and reshape\n",
    "        edge_index = self.edge_index_fc(h)\n",
    "        edge_index = edge_index.view(-1, 2, self.D)\n",
    "\n",
    "        # Predict edge_attr and reshape\n",
    "        edge_attr = self.edge_attr_fc(h)\n",
    "        edge_attr = edge_attr.view(-1, self.D, 1)\n",
    "\n",
    "        return x, edge_index, edge_attr "
   ]
  },
  {
   "cell_type": "code",
   "execution_count": 68,
   "id": "7dfc1d02-3fd5-41f5-8626-5ec5d756c6b2",
   "metadata": {},
   "outputs": [
    {
     "name": "stdout",
     "output_type": "stream",
     "text": [
      "torch.Size([128])\n"
     ]
    }
   ],
   "source": [
    "decoder = DecodeNet()\n",
    "\n",
    "x, edge_index, edge_attr = decoder(hidden_values[2])"
   ]
  },
  {
   "cell_type": "markdown",
   "id": "fe9cb6e1-bc26-4d7d-8143-ab318f94a461",
   "metadata": {},
   "source": [
    "## 3. Generation: conditional sampling in the latent space\n",
    "\n",
    "We want to be able to walk around the latent space to get new molecules with a certain property, e.g. with logP < ***."
   ]
  },
  {
   "cell_type": "markdown",
   "id": "5913162c-6182-40e2-b9b7-4d06f9e80a14",
   "metadata": {},
   "source": [
    "## 4. Generation: Going from latent space into graph space\n",
    "\n",
    "Call the latent space decoder."
   ]
  },
  {
   "cell_type": "markdown",
   "id": "72e7d5c5-6f06-4357-a69b-bc8bfb5c68c4",
   "metadata": {},
   "source": [
    "## 5. Export the graphs for evaluation \n",
    "\n",
    "This is where we pass things back to Tobias to work on for evaluation. "
   ]
  }
 ],
 "metadata": {
  "colab": {
   "provenance": []
  },
  "kernelspec": {
   "display_name": "Python 3 (ipykernel)",
   "language": "python",
   "name": "python3"
  },
  "language_info": {
   "codemirror_mode": {
    "name": "ipython",
    "version": 3
   },
   "file_extension": ".py",
   "mimetype": "text/x-python",
   "name": "python",
   "nbconvert_exporter": "python",
   "pygments_lexer": "ipython3",
   "version": "3.12.9"
  }
 },
 "nbformat": 4,
 "nbformat_minor": 5
}
