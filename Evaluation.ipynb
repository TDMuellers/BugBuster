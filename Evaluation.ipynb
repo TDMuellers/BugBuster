{
 "cells": [
  {
   "cell_type": "markdown",
   "id": "b3ad3285-82ff-451b-89b0-e3f39f17a2e6",
   "metadata": {},
   "source": [
    "# Scratch work for evaluation functions"
   ]
  },
  {
   "cell_type": "code",
   "execution_count": null,
   "id": "f626ec92-bccc-45b5-b583-368c8bd231ac",
   "metadata": {},
   "outputs": [],
   "source": [
    "# import initial dataset and graphs"
   ]
  },
  {
   "cell_type": "code",
   "execution_count": 1,
   "id": "947f18ff-e28f-42c4-ab30-936e9514e20d",
   "metadata": {},
   "outputs": [],
   "source": [
    "import pandas as pd\n",
    "import numpy as np\n",
    "import matplotlib.pyplot as plt\n",
    "import copy\n",
    "\n",
    "import torch\n",
    "import torch_geometric\n",
    "from torch_geometric.utils import to_networkx\n",
    "\n",
    "import networkx as nx"
   ]
  },
  {
   "cell_type": "code",
   "execution_count": 2,
   "id": "6b3805c0-bbce-4542-b8a8-23d17130382b",
   "metadata": {},
   "outputs": [],
   "source": [
    "initial_smiles = pd.read_csv('pesticides_augmented.csv')\n",
    "initial_graphs = torch.load(\"./data/pesticides_graphs_augmented_v3.pt\", weights_only=False)\n",
    "output_novel_graphs = torch.load(\"./data/decoded_new_points.pt\", weights_only=False)"
   ]
  },
  {
   "cell_type": "code",
   "execution_count": 3,
   "id": "dca601fc-9ac9-4137-9c13-f2a4bf6f39f6",
   "metadata": {},
   "outputs": [],
   "source": [
    "G0 = to_networkx(initial_graphs[0], to_undirected=True)\n",
    "G1 = to_networkx(initial_graphs[1], to_undirected=True)"
   ]
  },
  {
   "cell_type": "code",
   "execution_count": 4,
   "id": "60b13626-3ca1-47c4-823f-030564e01932",
   "metadata": {},
   "outputs": [
    {
     "data": {
      "text/plain": [
       "False"
      ]
     },
     "execution_count": 4,
     "metadata": {},
     "output_type": "execute_result"
    }
   ],
   "source": [
    "nx.is_isomorphic(G0, G1, node_match=None, edge_match=None)"
   ]
  },
  {
   "cell_type": "code",
   "execution_count": 5,
   "id": "8a13e2aa-f1cb-4544-94cd-edfca2b8f502",
   "metadata": {},
   "outputs": [
    {
     "data": {
      "text/plain": [
       "array([[0.00000000e+00, 1.00000000e+00, 1.56275749e-01, ...,\n",
       "        2.35283293e-10, 1.14111331e-10, 2.21240345e-10],\n",
       "       [1.00000000e+00, 0.00000000e+00, 8.47102404e-01, ...,\n",
       "        1.25843225e-10, 1.22302460e-10, 1.91695951e-10],\n",
       "       [1.56275749e-01, 8.47102404e-01, 0.00000000e+00, ...,\n",
       "        2.69847783e-10, 2.17005039e-10, 3.04154729e-10],\n",
       "       ...,\n",
       "       [2.35283293e-10, 1.25843225e-10, 2.69847783e-10, ...,\n",
       "        0.00000000e+00, 2.79651607e-10, 2.05088599e-10],\n",
       "       [1.14111331e-10, 1.22302460e-10, 2.17005039e-10, ...,\n",
       "        2.79651607e-10, 0.00000000e+00, 2.65128614e-10],\n",
       "       [2.21240345e-10, 1.91695951e-10, 3.04154729e-10, ...,\n",
       "        2.05088599e-10, 2.65128614e-10, 0.00000000e+00]])"
      ]
     },
     "execution_count": 5,
     "metadata": {},
     "output_type": "execute_result"
    }
   ],
   "source": [
    "output_novel_graphs[4].edge_index"
   ]
  },
  {
   "cell_type": "code",
   "execution_count": 6,
   "id": "898dd6bb-4cf7-442c-ad03-a5f18356d738",
   "metadata": {},
   "outputs": [],
   "source": [
    "G0 = nx.from_numpy_array(np.round(output_novel_graphs[0].edge_index), create_using = nx.MultiGraph())\n",
    "G1 = nx.from_numpy_array(np.round(output_novel_graphs[2].edge_index), create_using = nx.MultiGraph())"
   ]
  },
  {
   "cell_type": "code",
   "execution_count": 7,
   "id": "9759b3eb-a1d6-4ef6-8745-a9169c33a6eb",
   "metadata": {},
   "outputs": [
    {
     "data": {
      "text/plain": [
       "False"
      ]
     },
     "execution_count": 7,
     "metadata": {},
     "output_type": "execute_result"
    }
   ],
   "source": [
    "nx.is_isomorphic(G0, G1, node_match=None, edge_match=None)"
   ]
  },
  {
   "cell_type": "code",
   "execution_count": 8,
   "id": "376d6cdb-16e4-420a-bf2a-de8b5a321dac",
   "metadata": {},
   "outputs": [
    {
     "data": {
      "text/plain": [
       "numpy.ndarray"
      ]
     },
     "execution_count": 8,
     "metadata": {},
     "output_type": "execute_result"
    }
   ],
   "source": [
    "type(output_novel_graphs[0].edge_index)"
   ]
  },
  {
   "cell_type": "code",
   "execution_count": 21,
   "id": "3209953f-f7d5-4bad-9e24-a711deaff79e",
   "metadata": {},
   "outputs": [],
   "source": [
    "def unpad_graphs(generated_graphs):\n",
    "    \n",
    "    temp = []\n",
    "    unconnected = np.zeros(len(generated_graphs))\n",
    "    valid_graphs = []\n",
    "    \n",
    "    for i, G in enumerate(generated_graphs):\n",
    "        adj_matrix = np.round(G.edge_index)\n",
    "        dim = adj_matrix.shape[0] # track the dimensions to know how much padding to remove\n",
    "        row_sum = adj_matrix.sum(axis=0) # get the sums within each row, which is the same as the column sum\n",
    "        zero_indices = np.where(row_sum == 0)[0] # get all zero indices\n",
    "        \n",
    "        # see if zero indices has increments of one\n",
    "        # this indicates if the graph is unconnected\n",
    "        for p in range(1, len(zero_indices)):\n",
    "            if zero_indices[p] != zero_indices[p - 1] + 1:\n",
    "                unconnected[i] = 1 # if the graph is unconnected, flag it\n",
    "                \n",
    "        idx = zero_indices[0] if zero_indices.size > 0 else -1 # get first zero index\n",
    "        adjusted_matrix = adj_matrix[0:idx, 0:idx] # only take the nonzero matrix portion of valid graphs\n",
    "        \n",
    "        G_update = copy.deepcopy(G) # copy to avoid overwriting\n",
    "        G_update.edge_index = adjusted_matrix\n",
    "        \n",
    "        if unconnected[i] == 0:\n",
    "            valid_graphs.append(G_update) # this only keeps the valid graphs\n",
    "        \n",
    "    print(f'Percent of unconnected (invalid) graphs: {100*sum(unconnected)/len(unconnected)}')\n",
    "    return valid_graphs"
   ]
  },
  {
   "cell_type": "code",
   "execution_count": 71,
   "id": "6044525c-2427-460b-a30b-10c5ce7faded",
   "metadata": {},
   "outputs": [
    {
     "name": "stdout",
     "output_type": "stream",
     "text": [
      "Percent of unconnected (invalid) graphs: 30.0\n"
     ]
    }
   ],
   "source": [
    "cleaned_graphs = unpad_graphs(output_novel_graphs)"
   ]
  },
  {
   "cell_type": "code",
   "execution_count": 72,
   "id": "d4f2e5fc-ee9c-460e-86fb-2a3ef50c245f",
   "metadata": {},
   "outputs": [],
   "source": [
    "temp = cleaned_graphs.copy()\n",
    "holder = copy.deepcopy(initial_graphs[0])\n",
    "convert = to_networkx(holder, to_undirected=True)\n",
    "convert = nx.adjacency_matrix(convert)\n",
    "convert = convert.toarray()\n",
    "holder.edge_index = convert\n",
    "temp.append(holder)"
   ]
  },
  {
   "cell_type": "code",
   "execution_count": 73,
   "id": "2b828ce8-216d-487c-b082-8ee96853dd0f",
   "metadata": {},
   "outputs": [
    {
     "data": {
      "text/plain": [
       "[Data(x=[44, 3], edge_index=[7, 7], edge_attr=[88, 1], y=0.0),\n",
       " Data(x=[44, 3], edge_index=[11, 11], edge_attr=[88, 1], y=0.2222222222222222),\n",
       " Data(x=[44, 3], edge_index=[7, 7], edge_attr=[88, 1], y=0.6666666666666666),\n",
       " Data(x=[44, 3], edge_index=[11, 11], edge_attr=[88, 1], y=0.8888888888888888),\n",
       " Data(x=[44, 3], edge_index=[11, 11], edge_attr=[88, 1], y=1.3333333333333333),\n",
       " Data(x=[44, 3], edge_index=[11, 11], edge_attr=[88, 1], y=1.7777777777777777),\n",
       " Data(x=[44, 3], edge_index=[11, 11], edge_attr=[88, 1], y=2.0),\n",
       " Data(x=[11, 3], edge_index=[11, 11], edge_attr=[22, 1], y=1.492900013923645)]"
      ]
     },
     "execution_count": 73,
     "metadata": {},
     "output_type": "execute_result"
    }
   ],
   "source": [
    "temp"
   ]
  },
  {
   "cell_type": "code",
   "execution_count": 75,
   "id": "dc72933c-5123-4098-b38e-13dddc84493e",
   "metadata": {},
   "outputs": [],
   "source": [
    "def graph_isomorphism_within_set(generated_graphs):\n",
    "    \n",
    "    isomorphic_tracker = np.zeros(len(generated_graphs))\n",
    "    \n",
    "    for i, new_graph0 in enumerate(generated_graphs):\n",
    "        \n",
    "        G0 = nx.from_numpy_array(np.round(new_graph0.edge_index), create_using = nx.MultiGraph())\n",
    "        \n",
    "        for p, new_graph1 in enumerate(generated_graphs):\n",
    "            G1 = nx.from_numpy_array(np.round(new_graph1.edge_index), create_using = nx.MultiGraph())\n",
    "            if i != p:\n",
    "                if nx.is_isomorphic(G0, G1, node_match=None, edge_match=None) == True:\n",
    "                    isomorphic_tracker[i] = p+1 # move these values off of zero\n",
    "            if i == p:\n",
    "                continue\n",
    "    \n",
    "    n_unique_graphs = 0\n",
    "    duplicate_tracker = []\n",
    "    \n",
    "    for val in isomorphic_tracker:\n",
    "        if val == 0:\n",
    "            n_unique_graphs += 1\n",
    "        if val != 0:\n",
    "            duplicate_tracker.append(val)\n",
    "\n",
    "    n_unique_graphs += len(set(duplicate_tracker))/2\n",
    "\n",
    "    percent_unique = 100*n_unique_graphs/len(generated_graphs)\n",
    "    \n",
    "    return print(f'There are {n_unique_graphs} unique graphs, with an overall {percent_unique}% unique graphs generated')"
   ]
  },
  {
   "cell_type": "code",
   "execution_count": 76,
   "id": "c8ca9529-5692-4947-acf0-b3aa39f392c9",
   "metadata": {},
   "outputs": [
    {
     "name": "stdout",
     "output_type": "stream",
     "text": [
      "There are 3.0 unique graphs, with an overall 37.5% unique graphs generated\n"
     ]
    }
   ],
   "source": [
    "graph_isomorphism_within_set(temp)"
   ]
  },
  {
   "cell_type": "code",
   "execution_count": 66,
   "id": "08b60ba3-42ce-490a-aa04-01d3facda6ca",
   "metadata": {},
   "outputs": [],
   "source": [
    "def graph_isomorphism_between_sets(initial_graphs, generated_graphs):\n",
    "    \n",
    "    isomorphic_tracker = np.zeros(len(generated_graphs))\n",
    "    \n",
    "    for i, new_graph in enumerate(generated_graphs):\n",
    "        \n",
    "        \n",
    "        G_new = nx.from_numpy_array(np.round(new_graph.edge_index), create_using = nx.MultiGraph())\n",
    "        \n",
    "        \n",
    "        for original_graph in initial_graphs:\n",
    "            G_old = to_networkx(original_graph, to_undirected=True)\n",
    "            if nx.is_isomorphic(G_new, G_old, node_match=None, edge_match=None) == True:\n",
    "                isomorphic_tracker[i] = 1\n",
    "    percent_unique = 100*(len(generated_graphs) - sum(isomorphic_tracker))/len(generated_graphs)\n",
    "    return print(f'Compared to the initial graphs used for training, generated graphs are {percent_unique}% unique')"
   ]
  },
  {
   "cell_type": "code",
   "execution_count": 77,
   "id": "fc0269ac-634e-4aeb-8d22-1bfce1dba69f",
   "metadata": {},
   "outputs": [
    {
     "name": "stdout",
     "output_type": "stream",
     "text": [
      "Compared to the initial graphs used for training, generated graphs are 87.5% unique\n"
     ]
    }
   ],
   "source": [
    "graph_isomorphism_between_sets(initial_graphs[0:2], temp)"
   ]
  },
  {
   "cell_type": "code",
   "execution_count": 81,
   "id": "f9976519-855a-4050-ab2a-78fad1b93718",
   "metadata": {},
   "outputs": [
    {
     "data": {
      "text/plain": [
       "Data(x=[11, 3], edge_index=[11, 11], edge_attr=[22, 1], y=1.492900013923645)"
      ]
     },
     "execution_count": 81,
     "metadata": {},
     "output_type": "execute_result"
    }
   ],
   "source": [
    "temp[7]"
   ]
  },
  {
   "cell_type": "code",
   "execution_count": 84,
   "id": "8280ccdd-c3e3-42af-9273-1358a3da69a2",
   "metadata": {},
   "outputs": [],
   "source": [
    "import rdkit\n",
    "from rdkit.Chem.QED import properties\n",
    "from rdkit import Chem\n",
    "\n",
    "from functions.data_generation import *"
   ]
  },
  {
   "cell_type": "code",
   "execution_count": 96,
   "id": "31feb1ee-0ecd-4eb4-b530-19b4c99d3120",
   "metadata": {},
   "outputs": [],
   "source": [
    "G_test= nx.from_numpy_array(np.round(temp[7].edge_index), create_using = nx.MultiGraph())"
   ]
  },
  {
   "cell_type": "code",
   "execution_count": 107,
   "id": "8154882d-6a01-4f75-87e4-d8d57a4b75cf",
   "metadata": {},
   "outputs": [],
   "source": [
    "test = nx.write_adjlist(G_test, \"test.adjlist\")\n",
    "#mol = to_smiles(temp[7])"
   ]
  },
  {
   "cell_type": "code",
   "execution_count": 108,
   "id": "aa867ad6-5417-4b6e-9e6f-dda49c63bbde",
   "metadata": {},
   "outputs": [],
   "source": [
    "test"
   ]
  },
  {
   "cell_type": "code",
   "execution_count": 109,
   "id": "8c4b9552-d8e9-4cba-a995-812066bbf39e",
   "metadata": {},
   "outputs": [],
   "source": [
    "test = nx.read_adjlist(\"test.adjlist\")"
   ]
  },
  {
   "cell_type": "code",
   "execution_count": 110,
   "id": "94ee8be6-3846-4218-8cbf-4ffbc6ee2fb8",
   "metadata": {},
   "outputs": [
    {
     "data": {
      "text/plain": [
       "<networkx.classes.graph.Graph at 0x1c435cb7fb0>"
      ]
     },
     "execution_count": 110,
     "metadata": {},
     "output_type": "execute_result"
    }
   ],
   "source": [
    "test"
   ]
  },
  {
   "cell_type": "code",
   "execution_count": 158,
   "id": "86515af4-f7c4-440f-91fd-ccf30f9a90e9",
   "metadata": {},
   "outputs": [],
   "source": [
    "test_mol = copy.deepcopy(temp[7])\n",
    "edges_converted = test.edges\n",
    "test_mol.edge_index = torch.swapaxes(torch.tensor(np.array(edges_converted, dtype=int)), 0, 1)"
   ]
  },
  {
   "cell_type": "code",
   "execution_count": 171,
   "id": "0d339500-1c11-464b-acb9-2cf4ac49aead",
   "metadata": {},
   "outputs": [
    {
     "name": "stdout",
     "output_type": "stream",
     "text": [
      "Data(x=[11, 3], edge_index=[2, 11], edge_attr=[22, 1], y=1.492900013923645)\n",
      "tensor([[ 6.,  4.,  5.],\n",
      "        [ 6.,  4.,  5.],\n",
      "        [ 6.,  4.,  5.],\n",
      "        [ 6.,  3.,  5.],\n",
      "        [ 8.,  1.,  5.],\n",
      "        [ 7.,  3.,  5.],\n",
      "        [17.,  1.,  5.],\n",
      "        [ 6.,  3.,  5.],\n",
      "        [ 8.,  1.,  5.],\n",
      "        [ 7.,  3.,  5.],\n",
      "        [35.,  1.,  5.]])\n",
      "6.0\n",
      "tensor([[ 0,  1,  1,  1,  3,  3,  9,  9,  5,  5,  7],\n",
      "        [ 1,  2,  3,  9,  4,  5,  7, 10,  6,  7,  8]], dtype=torch.int32)\n",
      "tensor([[1.],\n",
      "        [1.],\n",
      "        [1.],\n",
      "        [1.],\n",
      "        [1.],\n",
      "        [1.],\n",
      "        [1.],\n",
      "        [2.],\n",
      "        [1.],\n",
      "        [2.],\n",
      "        [1.],\n",
      "        [1.],\n",
      "        [1.],\n",
      "        [1.],\n",
      "        [1.],\n",
      "        [2.],\n",
      "        [1.],\n",
      "        [2.],\n",
      "        [1.],\n",
      "        [1.],\n",
      "        [1.],\n",
      "        [1.]])\n"
     ]
    }
   ],
   "source": [
    "print(test_mol)\n",
    "print(test_mol.x)\n",
    "print(test_mol.x[0, 0].item())\n",
    "print(test_mol.edge_index)\n",
    "print(test_mol.edge_attr)"
   ]
  },
  {
   "cell_type": "code",
   "execution_count": 170,
   "id": "26490f34-dfd1-4c9b-9948-eebbdbe4bc43",
   "metadata": {},
   "outputs": [
    {
     "name": "stdout",
     "output_type": "stream",
     "text": [
      "Data(x=[11, 3], edge_index=[2, 22], edge_attr=[22, 1], y=1.492900013923645)\n",
      "tensor([[ 6.,  4.,  5.],\n",
      "        [ 6.,  4.,  5.],\n",
      "        [ 6.,  4.,  5.],\n",
      "        [ 6.,  3.,  5.],\n",
      "        [ 8.,  1.,  5.],\n",
      "        [ 7.,  3.,  5.],\n",
      "        [17.,  1.,  5.],\n",
      "        [ 6.,  3.,  5.],\n",
      "        [ 8.,  1.,  5.],\n",
      "        [ 7.,  3.,  5.],\n",
      "        [35.,  1.,  5.]])\n",
      "tensor([[ 0,  1,  1,  1,  1,  2,  3,  3,  3,  4,  5,  5,  5,  6,  7,  7,  7,  8,\n",
      "          9,  9,  9, 10],\n",
      "        [ 1,  0,  2,  3,  9,  1,  1,  4,  5,  3,  3,  6,  7,  5,  5,  8,  9,  7,\n",
      "          1,  7, 10,  9]])\n",
      "tensor([[1.],\n",
      "        [1.],\n",
      "        [1.],\n",
      "        [1.],\n",
      "        [1.],\n",
      "        [1.],\n",
      "        [1.],\n",
      "        [2.],\n",
      "        [1.],\n",
      "        [2.],\n",
      "        [1.],\n",
      "        [1.],\n",
      "        [1.],\n",
      "        [1.],\n",
      "        [1.],\n",
      "        [2.],\n",
      "        [1.],\n",
      "        [2.],\n",
      "        [1.],\n",
      "        [1.],\n",
      "        [1.],\n",
      "        [1.]])\n"
     ]
    }
   ],
   "source": [
    "print(initial_graphs[0])\n",
    "print(initial_graphs[0].x)\n",
    "print(initial_graphs[0].edge_index)\n",
    "print(initial_graphs[0].edge_attr)"
   ]
  },
  {
   "cell_type": "code",
   "execution_count": 176,
   "id": "bf8881d2-ef1c-40dd-a509-6bd574caf249",
   "metadata": {},
   "outputs": [],
   "source": [
    "convert_test = test_mol"
   ]
  },
  {
   "cell_type": "code",
   "execution_count": 185,
   "id": "90c8b3f7-6bf0-471d-b7f2-4090010a7115",
   "metadata": {},
   "outputs": [
    {
     "data": {
      "text/plain": [
       "'CC1(C)C(O)N(Cl)=C(O)N1=Br'"
      ]
     },
     "execution_count": 185,
     "metadata": {},
     "output_type": "execute_result"
    }
   ],
   "source": [
    "mol = Chem.RWMol()\n",
    "\n",
    "for i in range(convert_test.num_nodes):\n",
    "    atom = Chem.Atom(int(convert_test.x[i, 0].item()))\n",
    "    atom.SetFormalCharge(x_map['formal_charge'][int(convert_test.x[i, 2].item())])\n",
    "    mol.AddAtom(atom)\n",
    "\n",
    "edges = [tuple(i) for i in convert_test.edge_index.t().tolist()]\n",
    "visited = set()\n",
    "\n",
    "for i in range(len(edges)):\n",
    "    src, dst = edges[i]\n",
    "    #if tuple(sorted(edges[i])) in visited:\n",
    "    #    continue\n",
    "\n",
    "    bond_type = Chem.BondType.values[int(convert_test.edge_attr[i, 0].item())]\n",
    "    mol.AddBond(src, dst, bond_type)\n",
    "\n",
    "    #visited.add(tuple(sorted(edges[i])))\n",
    "\n",
    "mol = mol.GetMol()\n",
    "\n",
    "#Chem.SanitizeMol(mol)\n",
    "#Chem.AssignStereochemistry(mol)\n",
    "\n",
    "Chem.MolToSmiles(mol, isomericSmiles=True)"
   ]
  },
  {
   "cell_type": "code",
   "execution_count": 152,
   "id": "147f7cb2-28ec-4edf-a01e-75c44760ca51",
   "metadata": {},
   "outputs": [
    {
     "data": {
      "text/plain": [
       "[(0, 1, 1, 1, 3, 3, 9, 9, 5, 5, 7), (1, 2, 3, 9, 4, 5, 7, 10, 6, 7, 8)]"
      ]
     },
     "execution_count": 152,
     "metadata": {},
     "output_type": "execute_result"
    }
   ],
   "source": [
    "edges"
   ]
  },
  {
   "cell_type": "code",
   "execution_count": null,
   "id": "6afa937f-e55f-454a-83c2-43e65dc93dfb",
   "metadata": {},
   "outputs": [],
   "source": []
  }
 ],
 "metadata": {
  "kernelspec": {
   "display_name": "Python [conda env:base]",
   "language": "python",
   "name": "conda-base-py"
  },
  "language_info": {
   "codemirror_mode": {
    "name": "ipython",
    "version": 3
   },
   "file_extension": ".py",
   "mimetype": "text/x-python",
   "name": "python",
   "nbconvert_exporter": "python",
   "pygments_lexer": "ipython3",
   "version": "3.12.3"
  }
 },
 "nbformat": 4,
 "nbformat_minor": 5
}
