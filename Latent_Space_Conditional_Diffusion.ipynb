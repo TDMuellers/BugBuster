{
 "cells": [
  {
   "cell_type": "markdown",
   "id": "1e087efc-8046-4d85-af23-4a88a4b12cab",
   "metadata": {},
   "source": [
    "Architecture trains a diffusion model to diffuse from the latent space to Gaussian noise. The conditional aspect allows for the selection of low logp values to diffuse back to the latent space."
   ]
  },
  {
   "cell_type": "code",
   "execution_count": null,
   "id": "1b0a2374-0ecc-42c5-adbe-ddb1c3a43583",
   "metadata": {},
   "outputs": [],
   "source": [
    "!pip install --user phate"
   ]
  },
  {
   "cell_type": "code",
   "execution_count": 3,
   "id": "698f363f-41ed-4eb5-b0ac-83462ca3802e",
   "metadata": {},
   "outputs": [
    {
     "ename": "ModuleNotFoundError",
     "evalue": "No module named 'phate'",
     "output_type": "error",
     "traceback": [
      "\u001b[1;31m---------------------------------------------------------------------------\u001b[0m",
      "\u001b[1;31mModuleNotFoundError\u001b[0m                       Traceback (most recent call last)",
      "Cell \u001b[1;32mIn[3], line 2\u001b[0m\n\u001b[0;32m      1\u001b[0m \u001b[38;5;28;01mimport\u001b[39;00m\u001b[38;5;250m \u001b[39m\u001b[38;5;21;01mtorch\u001b[39;00m\n\u001b[1;32m----> 2\u001b[0m \u001b[38;5;28;01mimport\u001b[39;00m\u001b[38;5;250m \u001b[39m\u001b[38;5;21;01mphate\u001b[39;00m\n",
      "\u001b[1;31mModuleNotFoundError\u001b[0m: No module named 'phate'"
     ]
    }
   ],
   "source": [
    "import torch\n",
    "import phate"
   ]
  },
  {
   "cell_type": "markdown",
   "id": "ae3be6e6-0315-4dcf-aa6e-d1641751df50",
   "metadata": {},
   "source": [
    "#### Start by taking embeddings from generated latent space (this code from Helen)"
   ]
  },
  {
   "cell_type": "code",
   "execution_count": 1,
   "id": "6b4d2f15-5535-4615-a180-a0e19f446e15",
   "metadata": {},
   "outputs": [
    {
     "ename": "NameError",
     "evalue": "name 'torch' is not defined",
     "output_type": "error",
     "traceback": [
      "\u001b[1;31m---------------------------------------------------------------------------\u001b[0m",
      "\u001b[1;31mNameError\u001b[0m                                 Traceback (most recent call last)",
      "Cell \u001b[1;32mIn[1], line 1\u001b[0m\n\u001b[1;32m----> 1\u001b[0m hidden_values \u001b[38;5;241m=\u001b[39m torch\u001b[38;5;241m.\u001b[39mload(\u001b[38;5;124m\"\u001b[39m\u001b[38;5;124mhidden_values_from_insecticides.pt\u001b[39m\u001b[38;5;124m\"\u001b[39m, weights_only\u001b[38;5;241m=\u001b[39m\u001b[38;5;28;01mFalse\u001b[39;00m)\n",
      "\u001b[1;31mNameError\u001b[0m: name 'torch' is not defined"
     ]
    }
   ],
   "source": [
    "hidden_values = torch.load(\"hidden_values_from_insecticides.pt\", weights_only=False)"
   ]
  },
  {
   "cell_type": "code",
   "execution_count": null,
   "id": "c7d2845f-3de2-4250-942a-abd52212eee3",
   "metadata": {},
   "outputs": [],
   "source": [
    "# apply PHATE with hidden values\n",
    "phate_operator = phate.PHATE()\n",
    "Y_phate = phate_operator.fit_transform(hidden_values)"
   ]
  },
  {
   "cell_type": "code",
   "execution_count": null,
   "id": "cbc8880d-4910-40ae-b02b-cb260bb43349",
   "metadata": {},
   "outputs": [],
   "source": [
    "plt.scatter(x = Y_phate[:,0], \n",
    "            y = Y_phate[:,1],\n",
    "            c = y_values, cmap = 'viridis')\n",
    "plt.colorbar(label=\"logP\")\n",
    "plt.title(\"PHATE embeddings of penultimate layer\")\n",
    "plt.savefig(\"hidden_values_PHATE.png\") \n",
    "plt.show()"
   ]
  }
 ],
 "metadata": {
  "kernelspec": {
   "display_name": "Python [conda env:DeepLearn] *",
   "language": "python",
   "name": "conda-env-DeepLearn-py"
  },
  "language_info": {
   "codemirror_mode": {
    "name": "ipython",
    "version": 3
   },
   "file_extension": ".py",
   "mimetype": "text/x-python",
   "name": "python",
   "nbconvert_exporter": "python",
   "pygments_lexer": "ipython3",
   "version": "3.12.9"
  }
 },
 "nbformat": 4,
 "nbformat_minor": 5
}
