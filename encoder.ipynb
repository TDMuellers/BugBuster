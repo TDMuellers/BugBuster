{
 "cells": [
  {
   "cell_type": "markdown",
   "id": "6a333582-2a54-44fb-82ef-3eeec9388e09",
   "metadata": {},
   "source": [
    "### Author: Helen Cai\n",
    "### April 2025\n",
    "The purpose of this notebook is to create an encoder architecture that will be used in our final project. \n",
    "\n",
    "As input, the encoder will receive graph representations. These graph representations are to be created from SMILES codes of valid molecules (e.g. insecticides and pesticides).\n",
    "\n",
    "As output, the encoder will create low-dimensional representations of these molecules in the latent space. \n",
    "\n",
    "We look to GRASSY and ReLSO for inspiration on key insight that makes shaping the latent space possible. "
   ]
  },
  {
   "cell_type": "code",
   "execution_count": 1,
   "id": "931c3cd6-4267-41f5-8869-99aee1c01666",
   "metadata": {},
   "outputs": [],
   "source": [
    "import numpy as np\n",
    "import matplotlib.pyplot as plt\n",
    "import pandas as pd\n",
    "\n",
    "import torch\n",
    "import torch.nn as nn\n",
    "import torch.nn.functional as F\n",
    "import torch.optim as optim\n",
    "from torch.nn import Linear\n",
    "from sklearn.model_selection import train_test_split\n",
    "from sklearn.neighbors import NearestNeighbors\n",
    "import tqdm\n",
    "\n",
    "# NetworkX is a Python package used to create, manipulate, and mine graphs\n",
    "import networkx as nx\n",
    "\n",
    "# further libraries for working with graphs\n",
    "import torch_geometric\n",
    "from torch_geometric.nn import GCNConv, pool\n",
    "from torch_geometric.utils import to_networkx\n",
    "from torch_geometric.data import Data, Dataset\n",
    "from torch_geometric.loader import DataLoader\n",
    "\n",
    "# For visualization\n",
    "import phate\n",
    "\n",
    "# Graph scattering functionality\n",
    "from LEGS_module import *"
   ]
  },
  {
   "cell_type": "markdown",
   "id": "4d685f37-c5d1-4616-8777-96d7a07d603d",
   "metadata": {},
   "source": [
    "## Hyperparameters"
   ]
  },
  {
   "cell_type": "code",
   "execution_count": 4,
   "id": "02911298-3a41-45b3-a31a-66afaadbbf2d",
   "metadata": {},
   "outputs": [],
   "source": [
    "epochs = 200\n",
    "learning_rate = 1e-4\n",
    "batch_size = 32\n",
    "p = 0.2     # probability for dropout\n",
    "smoothness_lambda = 1e-2 # for calculating composite loss"
   ]
  },
  {
   "cell_type": "markdown",
   "id": "e5013eac-e9a9-466c-9846-88b88c3bae7d",
   "metadata": {},
   "source": [
    "## 0. Set up some data to work with\n",
    "\n",
    "From https://pytorch-geometric.readthedocs.io/en/2.6.1/get_started/introduction.html: \n",
    "\n",
    "\"Initializing a dataset is straightforward. An initialization of a dataset will automatically download its raw files and process them to the previously described Data format.\"\n",
    "\n",
    "**Note that we are essentially performing a regression task, in which there is 1 target for the entire graph.** \n",
    "\n",
    "**This is where we want to grab data from Tobias.**\n",
    "\n",
    "Expected input: dataset/dataloader where each molecule is represented by 1 graph.\n",
    "\n",
    "Variable number of nodes is ok.\n",
    "\n",
    "Expect target to belong in `data.y`. Since we want to regress out values of logP, we can use something like MSE to calculate loss."
   ]
  },
  {
   "cell_type": "code",
   "execution_count": 5,
   "id": "47d03f69-6d79-42d7-bf57-000f64a6946f",
   "metadata": {},
   "outputs": [],
   "source": [
    "## DEPRECATED\n",
    "# use QM9 as a playground\n",
    "#import torch_geometric.datasets as pyg\n",
    "#dataset = pyg.QM9('./data/qm9')\n",
    "#dataset = dataset[0:800]\n",
    "\n",
    "# Look at one target only (e.g. dipole moment, which belongs in index 0)\n",
    "#y_target = pd.DataFrame(dataset.data.y.numpy())\n",
    "#dataset.data.y = torch.Tensor(y_target[0])\n"
   ]
  },
  {
   "cell_type": "code",
   "execution_count": 44,
   "id": "65f2bb12-f624-4ef9-8bcf-68d7f109ac2c",
   "metadata": {},
   "outputs": [
    {
     "data": {
      "image/png": "[encoded data removed]",
      "text/plain": [
       "<Figure size 640x480 with 1 Axes>"
      ]
     },
     "metadata": {},
     "output_type": "display_data"
    }
   ],
   "source": [
    "insecticides = torch.load(\"./data/insecticides_graphs_small.pt\", weights_only=False)\n",
    "\n",
    "# In our dataset, the target to regress is logP.\n",
    "# We visualize what these values are and try to get a sense of the shape of the distribution\n",
    "y_values = np.array([data.y for data in insecticides])\n",
    "\n",
    "plt.hist(y_values, bins=80)\n",
    "plt.xlabel(\"logP\")\n",
    "plt.ylabel(\"Frequency\")\n",
    "plt.title(\"Distribution of logP values in insecticides\")\n",
    "plt.show()"
   ]
  },
  {
   "cell_type": "code",
   "execution_count": 45,
   "id": "21cc7fe6-f9bc-4d06-9aca-87e0cfe30e49",
   "metadata": {},
   "outputs": [
    {
     "name": "stdout",
     "output_type": "stream",
     "text": [
      "[3, 3, 3, 3, 3, 3, 3, 3, 3, 3, 3, 3, 3, 3, 3, 3, 3, 3, 3, 3, 3, 3, 3, 3, 3, 3, 3, 3, 3, 3, 3, 3, 3, 3, 3, 3, 3, 3, 3, 3, 3, 3, 3, 3, 3, 3, 3, 3, 3, 3, 3, 3, 3, 3, 3, 3, 3, 3, 3, 3, 3, 3, 3, 3, 3, 3, 3, 3, 3, 3, 3, 3, 3, 3, 3, 3, 3, 3, 3, 3, 3, 3, 3, 3, 3, 3, 3, 3, 3, 3, 3, 3, 3, 3, 3, 3, 3, 3, 3, 3, 3, 3, 3, 3, 3, 3, 3, 3, 3, 3, 3, 3, 3, 3, 3, 3, 3, 3, 3, 3, 3, 3, 3, 3, 3, 3, 3, 3, 3, 3, 3, 3, 3, 3, 3, 3, 3, 3, 3, 3, 3, 3, 3, 3, 3, 3, 3, 3, 3, 3, 3, 3, 3, 3, 3, 3, 3, 3, 3, 3, 3, 3, 3, 3, 3, 3, 3, 3, 3, 3, 3, 3, 3, 3, 3, 3, 3, 3, 3, 3, 3, 3, 3, 3, 3, 3, 3, 3, 3, 3, 3, 3, 3, 3, 3, 3, 3, 3, 3, 3, 3, 3, 3, 3, 3, 3, 3, 3, 3, 3, 3, 3, 3, 3, 3, 3, 3, 3, 3, 3, 3, 3, 3, 3, 3, 3, 3, 3, 3, 3, 3, 3, 3, 3, 3, 3, 3, 3, 3, 3, 3, 3, 3, 3, 3, 3, 3, 3, 3, 3, 3, 3, 3, 3, 3, 3, 3, 3, 3, 3, 3, 3, 3, 3, 3, 3, 3, 3, 3, 3, 3, 3, 3, 3, 3, 3, 3, 3, 3, 3, 3, 3, 3, 3, 3, 3, 3, 3, 3, 3, 3, 3, 3, 3, 3, 3, 3, 3, 3, 3, 3, 3, 3, 3, 3, 3, 3, 3, 3, 3, 3, 3, 3, 3, 3, 3, 3, 3, 3, 3, 3, 3, 3, 3, 3, 3, 3, 3, 3, 3, 3, 3, 3, 3, 3, 3, 3, 3, 3, 3, 3, 3, 3, 3, 3, 3, 3, 3, 3, 3, 3, 3, 3, 3, 3, 3, 3, 3, 3, 3, 3, 3, 3, 3, 3, 3, 3, 3, 3, 3, 3, 3, 3, 3, 3, 3, 3, 3, 3, 3, 3, 3, 3, 3, 3, 3, 3, 3, 3, 3, 3, 3, 3, 3, 3, 3, 3, 3, 3, 3, 3, 3, 3, 3, 3, 3, 3, 3, 3, 3, 3, 3, 3, 3, 3, 3, 3, 3, 3, 3, 3, 3, 3, 3, 3, 3, 3, 3, 3, 3, 3, 3, 3, 3, 3, 3, 3, 3, 3, 3, 3, 3, 3, 3, 3, 3, 3, 3, 3, 3, 3, 3, 3, 3, 3, 3, 3, 3, 3, 3, 3, 3, 3, 3, 3, 3, 3, 3, 3, 3, 3, 3, 3, 3, 3, 3, 3, 3, 3, 3, 3, 3, 3, 3, 3, 3, 3, 3, 3, 3, 3, 3, 3, 3, 3, 3, 3, 3, 3, 3, 3, 3, 3, 3, 3, 3, 3, 3, 3, 3, 3, 3, 3, 3, 3, 3, 3, 3, 3, 3, 3, 3, 3, 3, 3, 3, 3, 3, 3, 3, 3, 3, 3, 3, 3, 3, 3, 3, 3, 3, 3, 3, 3, 3, 3, 3, 3, 3, 3, 3, 3, 3, 3, 3, 3, 3, 3, 3, 3, 3, 3, 3, 3, 3, 3, 3, 3, 3, 3, 3, 3, 3, 3, 3, 3, 3, 3, 3, 3, 3, 3, 3, 3, 3, 3, 3, 3, 3, 3, 3, 3, 3, 3, 3, 3, 3, 3, 3, 3, 3, 3, 3, 3, 3, 3, 3, 3, 3, 3, 3, 3, 3, 3, 3, 3, 3, 3, 3, 3, 3, 3, 3, 3, 3, 3]\n",
      "tensor(2.2482)\n"
     ]
    }
   ],
   "source": [
    "# Get some basic useful information\n",
    "print([data.num_features for data in insecticides])\n",
    "\n",
    "print(insecticides[1].y)"
   ]
  },
  {
   "cell_type": "code",
   "execution_count": 8,
   "id": "37bdeeab-fa88-48a0-a9e3-7d966719036a",
   "metadata": {},
   "outputs": [],
   "source": [
    "# split into training and test\n",
    "train_dataset, test_dataset = train_test_split(insecticides, test_size=0.2, random_state=2025)\n",
    "\n",
    "all_data = DataLoader(insecticides, batch_size=1, shuffle = False)\n",
    "train_loader = DataLoader(train_dataset, batch_size=4, shuffle=True)\n",
    "test_loader = DataLoader(test_dataset, batch_size=4, shuffle=False)"
   ]
  },
  {
   "cell_type": "code",
   "execution_count": 9,
   "id": "57268df1-75c5-49ff-94ac-765269db872f",
   "metadata": {},
   "outputs": [
    {
     "data": {
      "image/png": "[encoded data removed]",
      "text/plain": [
       "<Figure size 700x600 with 1 Axes>"
      ]
     },
     "metadata": {},
     "output_type": "display_data"
    }
   ],
   "source": [
    "# visualize an example network\n",
    "example_graph = to_networkx(insecticides[12])\n",
    "\n",
    "\n",
    "plt.figure(1,figsize=(7,6)) \n",
    "nx.draw(example_graph, node_size=5,linewidths=6)\n",
    "plt.savefig(\"sample_plot.png\") \n",
    "plt.show()\n"
   ]
  },
  {
   "cell_type": "markdown",
   "id": "9b844761-f009-4d3d-ad06-fa92f8f5f5e0",
   "metadata": {},
   "source": [
    "## 1. Initialize a graph neural network\n",
    "\n",
    "Note that GRASSY implementation is available here:\n",
    "https://github.com/KrishnaswamyLab/GRASSY-Net/blob/main/models/GRASSY_model.py"
   ]
  },
  {
   "cell_type": "code",
   "execution_count": 46,
   "id": "51c096ac-54c0-4002-9591-8fc74f1664a0",
   "metadata": {},
   "outputs": [],
   "source": [
    "class GCN(nn.Module):\n",
    "    \"\"\"\n",
    "    Initialize a graph convolutional network\n",
    "    \"\"\"\n",
    "    def __init__(\n",
    "        self,\n",
    "        num_features: int = 3, # TODO: replace this with the proper dimension\n",
    "        num_classes: int = 1,\n",
    "        p: float = 0.0,\n",
    "    ):\n",
    "        super().__init__()\n",
    "\n",
    "        # GCNConv takes in two arguments: in_channels and out_channels\n",
    "        # for now, we choose an arbitrary number of channels\n",
    "        self.conv1 = GCNConv(num_features, 32)\n",
    "\n",
    "        # GRASSY would replace the GCNConv with scattering function\n",
    "\n",
    "        self.conv2 = GCNConv(32, 16)\n",
    "        self.conv3 = GCNConv(16, 16) # increase dimensionality here; can go all the way to 128\n",
    "\n",
    "        self.linear1 = Linear(16, 16)\n",
    "        self.dropout = nn.Dropout(p)\n",
    "        self.embedding_layer = Linear(16, 16)\n",
    "        \n",
    "        self.classifier = Linear(16, num_classes)\n",
    "\n",
    "    def forward(self, data):\n",
    "        x, edge_index, batch = data.x, data.edge_index, data.batch\n",
    "        h = self.conv1(x, edge_index)\n",
    "        h = h.relu() # TODO: maybe pick a different non-linearity?\n",
    "        h = self.conv2(h, edge_index)\n",
    "        h = h.relu()\n",
    "        h = self.conv3(h, edge_index)\n",
    "        h = h.relu()\n",
    "\n",
    "        # sum pool\n",
    "        h = pool.global_add_pool(h, batch)\n",
    "\n",
    "        embedding = self.embedding_layer(h)\n",
    "        \n",
    "        h = embedding.relu()\n",
    "        \n",
    "        # last layer is a classifier\n",
    "        output = self.classifier(h)\n",
    "\n",
    "        return embedding, output "
   ]
  },
  {
   "cell_type": "code",
   "execution_count": 47,
   "id": "e084428d-5e91-4f37-bfff-042fb5f43dc8",
   "metadata": {},
   "outputs": [],
   "source": [
    "class ScatterNet(nn.Module):\n",
    "    \"\"\"\n",
    "    We improve on the graph convolutional network approach by using the graph scattering transform.\n",
    "    \"\"\"\n",
    "    def __init__(\n",
    "        self,\n",
    "        num_features: int = 3, \n",
    "        num_classes: int = 1,\n",
    "        p: float = 0.0,\n",
    "    ):\n",
    "        super().__init__()\n",
    "        \n",
    "        self.scatter = Scatter(num_features, trainable_laziness=False)  \n",
    "        \n",
    "        self.linear1 = Linear(2607, 128)  # note that the output size of the scattering layer changes with the number\n",
    "                                            # of moments that are calculated\n",
    "\n",
    "        self.linear2 = Linear(128, 64)\n",
    "        self.linear3 = Linear(64, 16)\n",
    "        self.embedding_layer = Linear(16, 16)\n",
    "\n",
    "        self.act = torch.nn.LeakyReLU()\n",
    "        \n",
    "        self.dropout = nn.Dropout(p)\n",
    "        \n",
    "        self.classifier = Linear(16, num_classes)\n",
    "\n",
    "    def forward(self, data):\n",
    "        x, edge_index, batch = data.x, data.edge_index, data.batch\n",
    "        \n",
    "        h, __ = self.scatter(data)\n",
    "        h = self.act(h)  \n",
    "        h = self.linear1(h)\n",
    "   \n",
    "        h = self.dropout(h)\n",
    "        h = self.act(h)  \n",
    "        h = self.linear2(h)\n",
    "\n",
    "        h = self.dropout(h)\n",
    "        h = self.act(h)  \n",
    "        h = self.linear3(h)\n",
    "        \n",
    "        embedding = self.embedding_layer(h)\n",
    "        \n",
    "        h = self.act(embedding)  \n",
    "        \n",
    "        # last layer is a classifier\n",
    "        output = self.classifier(embedding)\n",
    "\n",
    "        return embedding, output \n",
    "        "
   ]
  },
  {
   "cell_type": "markdown",
   "id": "9787718d-5b60-49aa-ae11-8708c4d55873",
   "metadata": {},
   "source": [
    "## 2. Define train and test functions"
   ]
  },
  {
   "cell_type": "code",
   "execution_count": 24,
   "id": "20d4a0ab-84b1-47d9-9b16-3ada50728d45",
   "metadata": {},
   "outputs": [],
   "source": [
    "def plot_metrics(train_metrics, test_metrics, xlabel, ylabel, title, fname):\n",
    "    x = np.array(range(len(train_metrics))) + 1\n",
    "    plt.plot(x, train_metrics, label=\"train\")\n",
    "    plt.plot(x, test_metrics, label=\"test\")\n",
    "    plt.xlabel(xlabel)\n",
    "    plt.ylabel(ylabel)\n",
    "    plt.title(title)\n",
    "    plt.legend()\n",
    "    plt.savefig(fname) \n",
    "    plt.show()"
   ]
  },
  {
   "cell_type": "code",
   "execution_count": 25,
   "id": "8d0057d1-3cd4-40ba-a7cc-34695fd3aaa9",
   "metadata": {},
   "outputs": [],
   "source": [
    "def train_epoch(model, loss_fn, optimizer, train_loader, embeddings_list):\n",
    "    \"\"\"Train the model for one epoch.\n",
    "    Args:\n",
    "        model: the model\n",
    "        loss_fn: the loss function\n",
    "        optimizer: the optimizer\n",
    "    Returns:\n",
    "        train_loss: the loss of the epoch\n",
    "    \"\"\"\n",
    "    \n",
    "    model.train()\n",
    "    optimizer.zero_grad()\n",
    "    base_loss_epoch = 0\n",
    "    smoothness_loss_epoch = 0\n",
    "    composite_loss_epoch = 0\n",
    "\n",
    "    # calculate smoothness loss\n",
    "    smoothness_loss = calculate_smoothness_loss(embeddings_list, k=3)\n",
    "    smoothness_loss_epoch += smoothness_loss.detach().numpy()\n",
    "\n",
    "    # evaluate on the train nodes\n",
    "    for data in train_loader:\n",
    "        target = data.y\n",
    "        batch_size = data.num_graphs\n",
    "\n",
    "        # get the outputs\n",
    "        __, out = model(data)\n",
    "\n",
    "        # calculate base loss (MSE)\n",
    "\n",
    "        base_loss = loss_fn(out, target.unsqueeze(1))\n",
    "        base_loss_epoch += base_loss.detach().numpy() * batch_size\n",
    "\n",
    "        # calculate composite loss\n",
    "        loss = base_loss + smoothness_lambda * smoothness_loss\n",
    "        composite_loss_epoch += loss.detach().numpy() * batch_size\n",
    "    #    print(f\"Linear 1 weight grad BEFORE backprop: {model.linear1.weight.grad}\")\n",
    "\n",
    "        loss.backward()\n",
    "     #   print(f\"Linear 1 weight grad AFTER backprop: {model.linear1.weight.grad}\")\n",
    "\n",
    "        # perform gradient clipping\n",
    "        torch.nn.utils.clip_grad_norm_(model.parameters(), max_norm=0.5)\n",
    "        optimizer.step()\n",
    "\n",
    "    # calculate training loss for the epoch\n",
    "    base_loss_epoch = base_loss_epoch / len(train_loader.dataset)\n",
    "    composite_loss_epoch = composite_loss_epoch / len(train_loader.dataset)\n",
    "\n",
    "    return base_loss_epoch, smoothness_loss_epoch, composite_loss_epoch\n",
    "    "
   ]
  },
  {
   "cell_type": "code",
   "execution_count": 26,
   "id": "0aa31cc3-9037-417c-b33d-7651f039ba28",
   "metadata": {},
   "outputs": [],
   "source": [
    "def test_epoch(model, loss_fn, test_loader, embeddings_list):\n",
    "    \"\"\"Test the model for one epoch.\n",
    "    Args:\n",
    "        model: the model\n",
    "        loss_fn: the loss function\n",
    "    Returns:\n",
    "        test_loss: the loss of the epoch\n",
    "    \"\"\"\n",
    "    model.eval()  # set model to evaluation mode\n",
    "\n",
    "    base_loss_epoch = 0\n",
    "    smoothness_loss_epoch = 0\n",
    "    composite_loss_epoch = 0\n",
    "\n",
    "    # calculate smoothness loss\n",
    "    smoothness_loss = calculate_smoothness_loss(embeddings_list, k=3)\n",
    "    smoothness_loss_epoch += smoothness_loss.detach().numpy()\n",
    "    \n",
    "    with torch.no_grad():  # disable gradient calculation\n",
    "\n",
    "        for data in test_loader:\n",
    "            target = data.y\n",
    "            batch_size = data.num_graphs\n",
    "        \n",
    "            __, out = model(data)\n",
    "            \n",
    "            # calculate base loss (MSE)\n",
    "            base_loss = loss_fn(out, target.unsqueeze(1))\n",
    "            base_loss_epoch += base_loss.detach().numpy() * batch_size\n",
    "            \n",
    "            # calculate composite loss\n",
    "            loss = base_loss + smoothness_lambda * smoothness_loss\n",
    "            composite_loss_epoch += loss.detach().numpy() * batch_size\n",
    "\n",
    "        # calculate test loss for the epoch\n",
    "        base_loss_epoch = base_loss_epoch / len(test_loader.dataset)\n",
    "        composite_loss_epoch = composite_loss_epoch / len(test_loader.dataset)\n",
    "                \n",
    "    return base_loss_epoch, smoothness_loss_epoch, composite_loss_epoch"
   ]
  },
  {
   "cell_type": "code",
   "execution_count": 15,
   "id": "bce7cdff-2f1b-4bcd-9c4d-fe44d9993985",
   "metadata": {},
   "outputs": [],
   "source": [
    "def train(model, loss_fn, train_loader, test_loader, optimizer, epochs=5):\n",
    "    \"\"\"Train the model.\n",
    "    Args:\n",
    "        model: the model\n",
    "        loss_fn: the loss function\n",
    "        train_loader: the training data loader\n",
    "        test_loader: the testing data loader\n",
    "        optimizer: the optimizer\n",
    "        epochs: the number of epochs to train\n",
    "    Returns:\n",
    "        train_losses: the training losses\n",
    "        test_losses: the testing losses\n",
    "    \"\"\"\n",
    "    train_base_losses = []\n",
    "    train_smoothness_losses = []\n",
    "    train_composite_losses = []\n",
    "    \n",
    "    test_base_losses = []\n",
    "    test_smoothness_losses = []\n",
    "    test_composite_losses = []\n",
    "    \n",
    "    loop = tqdm.tqdm(range(1, epochs + 1))\n",
    "\n",
    "    for epoch in loop:\n",
    "        # get the embeddings of the latent space, in order to calculate smoothness loss\n",
    "        embeddings_list = []\n",
    "        \n",
    "        for data in train_loader:\n",
    "            embedding, __ = model(data)\n",
    "            embeddings_list.append(embedding.detach().numpy())\n",
    "       \n",
    "        embeddings_list = torch.squeeze(torch.Tensor(np.array(embeddings_list)))\n",
    "        \n",
    "        embeddings_list = torch.reshape(embeddings_list, (-1, 16))\n",
    "\n",
    "        # train the model for one epoch\n",
    "        train_base_loss_epoch, train_smoothness_loss_epoch, train_composite_loss_epoch = train_epoch(model, loss_fn, optimizer, train_loader, embeddings_list)\n",
    "        \n",
    "        # test the model for one epoch        \n",
    "        test_base_loss_epoch, test_smoothness_loss_epoch, test_composite_loss_epoch = test_epoch(model, loss_fn, test_loader, embeddings_list)\n",
    "\n",
    "        # put into our storage vectors\n",
    "        train_base_losses.append(train_base_loss_epoch)\n",
    "        train_smoothness_losses.append(train_smoothness_loss_epoch)\n",
    "        train_composite_losses.append(train_composite_loss_epoch)\n",
    "        test_base_losses.append(test_base_loss_epoch)\n",
    "        test_smoothness_losses.append(test_smoothness_loss_epoch)\n",
    "        test_composite_losses.append(test_composite_loss_epoch)\n",
    "        \n",
    "        loop.set_description(f'Epoch {epoch}')\n",
    "        loop.set_postfix(train_loss=train_base_loss_epoch, test_loss=test_base_loss_epoch)\n",
    "    \n",
    "    return train_base_losses, train_smoothness_losses, train_composite_losses, test_base_losses, test_smoothness_losses, test_composite_losses"
   ]
  },
  {
   "cell_type": "markdown",
   "id": "96804fd6-009c-499f-a45f-edb13158377d",
   "metadata": {},
   "source": [
    "## 3. Regularize the latent space\n",
    "https://arxiv.org/pdf/2201.09948\n",
    "\n",
    "ReLSO proposes two new things: 1. negative sampling and 2. interpolative sampling regularization (e.g., we want to enforce the latent space to be smooth and interpolatable). I'll first attempt to do the latter. \n",
    "\n",
    "The penalty of interest seems to be:\n",
    "\n",
    "$L_{interp} = max(0, \\frac{||\\hat{x_1} - \\hat{x_i}|| + ||\\hat{x_2} - \\hat{x_1}||}{2} - ||\\hat{x_1} - \\hat{x_2}||)$\n",
    "\n",
    "where $\\hat{x_1}$ and $\\hat{x_2}$ are nearest neighbors in space and $\\hat{x_i}$ is the decoded representation of the interpolated latent point."
   ]
  },
  {
   "cell_type": "code",
   "execution_count": 27,
   "id": "32519418-b941-49b7-9cfd-dbc11f39215f",
   "metadata": {},
   "outputs": [],
   "source": [
    "def calculate_smoothness_loss(embedding, k=3):\n",
    "    \"\"\"\n",
    "    Calculate smoothness loss, when given a set of intermediate hidden values/embeddings.\n",
    "    Input:\n",
    "    embedding = set of points from the latent space. Must be detached tensor/numpy array \n",
    "    k = parameter for KNN graph clustering\n",
    "\n",
    "    Output:\n",
    "    smoothness_loss = scalar quantifying the amount of loss related to smoothness\n",
    "    \"\"\"   \n",
    "    # construct the KNN graph\n",
    "    knn = NearestNeighbors(n_neighbors = k, algorithm='auto').fit(embedding)\n",
    "    distances, indices = knn.kneighbors(embedding)\n",
    "\n",
    "    # get the interpolated latent points\n",
    "    interpolated_points = []\n",
    "    for i in range(len(embedding)):\n",
    "        for j in range(k):\n",
    "            alpha = torch.rand(1).item()\n",
    "            point = alpha * embedding[i] + (1 - alpha) * embedding[indices[i, j]]\n",
    "            interpolated_points.append(point)\n",
    "    \n",
    "    decoded_embedding_points = embedding # TODO: Decode embedding and interpolated points\n",
    "    decoded_interpolated_points = interpolated_points\n",
    "    \n",
    "    # Calculate smoothness loss\n",
    "    smoothness_loss = 0\n",
    "    for i in range(len(embedding)):\n",
    "        for j in range(k):\n",
    "            x1 = decoded_embedding_points[indices[i, 0]]\n",
    "            x2 = decoded_embedding_points[indices[i, j]]\n",
    "            xi = decoded_interpolated_points[i]\n",
    "            \n",
    "            term1 = torch.norm(x1 - xi, p=2)\n",
    "            term2 = torch.norm(x2 - xi, p=2)\n",
    "            term3 = torch.norm(x1 - x2, p=2)\n",
    "            \n",
    "            smoothness_loss  += F.relu((term1 + term2) / 2 - term3)\n",
    "    \n",
    "    smoothness_loss = smoothness_loss / k\n",
    "    \n",
    "    return smoothness_loss\n"
   ]
  },
  {
   "cell_type": "markdown",
   "id": "3f2203b9-f624-4fc0-9458-a5e6b699efda",
   "metadata": {},
   "source": [
    "## 4. Train the model"
   ]
  },
  {
   "cell_type": "code",
   "execution_count": null,
   "id": "31bb4256-2218-4f76-8c20-a5df943a1024",
   "metadata": {},
   "outputs": [
    {
     "name": "stderr",
     "output_type": "stream",
     "text": [
      "Epoch 2:   1%|          | 2/200 [01:12<1:59:01, 36.07s/it, test_loss=1.98, train_loss=2.29]"
     ]
    }
   ],
   "source": [
    "model = GCN(p = p)\n",
    "\n",
    "torch.autograd.set_detect_anomaly(True)\n",
    "\n",
    "\n",
    "# Define the base loss function\n",
    "loss_fn = torch.nn.MSELoss()\n",
    "\n",
    "# Define the optimizer\n",
    "optimizer = torch.optim.RMSprop(model.parameters(), lr = learning_rate)\n",
    "\n",
    "\n",
    "# Call the functions\n",
    "train_base_losses, train_smoothness_losses, train_composite_losses, test_base_losses, test_smoothness_losses, test_composite_losses  = train(model, loss_fn, train_loader, test_loader, optimizer, epochs=epochs)"
   ]
  },
  {
   "cell_type": "code",
   "execution_count": null,
   "id": "2b50b9d2-9f73-4d55-b6ae-2b7d94a05a46",
   "metadata": {},
   "outputs": [],
   "source": [
    "plot_metrics(train_base_losses, test_base_losses, \n",
    "             xlabel=\"Epoch\", ylabel=\"Loss\", title=\"MSE Loss\", fname=\"mse_loss.png\")"
   ]
  },
  {
   "cell_type": "code",
   "execution_count": null,
   "id": "6f0b0cde-f191-42c1-95b8-6727e65a513c",
   "metadata": {},
   "outputs": [],
   "source": [
    "plot_metrics(train_smoothness_losses, test_smoothness_losses, \n",
    "             xlabel=\"Epoch\", ylabel=\"Loss\", title=\"Smoothness Loss\", fname=\"smoothness_loss.png\")"
   ]
  },
  {
   "cell_type": "code",
   "execution_count": null,
   "id": "25a1af9e-1a64-4156-aeae-ebaf9b3dccae",
   "metadata": {},
   "outputs": [],
   "source": [
    "plot_metrics(train_composite_losses, test_composite_losses, \n",
    "             xlabel=\"Epoch\", ylabel=\"Loss\", title=\"Composite Loss\", fname=\"composite_loss.png\")"
   ]
  },
  {
   "cell_type": "markdown",
   "id": "f79cf2dc-beea-42d9-a8e0-83fe6f2894da",
   "metadata": {},
   "source": [
    "## 5. Use a forward hook to get the embeddings"
   ]
  },
  {
   "cell_type": "code",
   "execution_count": null,
   "id": "4f8415a3-2dd7-41d7-b4c5-797937074662",
   "metadata": {},
   "outputs": [],
   "source": [
    "# Have the ability to get embeddings\n",
    "def activation_hook(model, input, output):\n",
    "    \"\"\"\n",
    "    model: model that we want to attach the hook to\n",
    "    input: input to the 'forward' method\n",
    "    output: output from the 'forward' method\n",
    "    \"\"\"\n",
    "    hidden_values.append(np.array(output.detach()))"
   ]
  },
  {
   "cell_type": "code",
   "execution_count": null,
   "id": "6fcdfddb-58d7-4118-857c-4481529852d9",
   "metadata": {},
   "outputs": [],
   "source": [
    "# Create a dictionary for storage\n",
    "hidden_values = []\n",
    "y_values = []\n",
    "\n",
    "handle = model.embedding_layer.register_forward_hook(activation_hook)"
   ]
  },
  {
   "cell_type": "code",
   "execution_count": null,
   "id": "df7c24d2-6210-44fe-bd02-99b726059cd9",
   "metadata": {
    "scrolled": true
   },
   "outputs": [],
   "source": [
    "for data in all_data:\n",
    "    model(data)\n",
    "    y_values.append(data.y)\n",
    "#    y_values.append(data.y)\n",
    "# remove the hook\n",
    "handle.remove()"
   ]
  },
  {
   "cell_type": "code",
   "execution_count": null,
   "id": "850c6708-f329-476e-a63a-e410ace9ea40",
   "metadata": {},
   "outputs": [],
   "source": [
    "print(len(all_data.dataset))\n",
    "print(len(hidden_values)) # looked at the values and they appear to be duplicated x2?\n",
    "print(len(y_values))\n"
   ]
  },
  {
   "cell_type": "code",
   "execution_count": null,
   "id": "532ea2df-594f-402f-845d-6594a79e0fbc",
   "metadata": {},
   "outputs": [],
   "source": [
    "# the conv layers are all of different output size since the nodes are of different number in each graph\n",
    "hidden_values = torch.squeeze(torch.Tensor(np.array(hidden_values)))\n",
    "\n",
    "print(f\"Shape of hidden values: {hidden_values.shape}\")"
   ]
  },
  {
   "cell_type": "markdown",
   "id": "6277674a-6c96-4876-87d8-8e0480536e50",
   "metadata": {},
   "source": [
    "**This is where we will give embeddings to Jennifer.** \n",
    "\n",
    "Expected output: torch tensor of dimension $[(\\textit{number of molecules}), (\\textit{hidden dimension}=16)]$"
   ]
  },
  {
   "cell_type": "code",
   "execution_count": null,
   "id": "e721ec8b-b9bf-4ea4-b9fb-46a9ce22410b",
   "metadata": {},
   "outputs": [],
   "source": [
    "torch.save(hidden_values, \"hidden_values_from_insecticides.pt\")\n",
    "torch.save(all_data, \"all_data_dataloader.pt\")"
   ]
  },
  {
   "cell_type": "code",
   "execution_count": null,
   "id": "5137727b-d560-47c5-b8ca-72fb4799359b",
   "metadata": {},
   "outputs": [],
   "source": [
    "hidden_values = torch.load(\"hidden_values_from_insecticides.pt\", weights_only=False)"
   ]
  },
  {
   "cell_type": "markdown",
   "id": "35acb5d2-3387-4ebc-9a6a-37b23638d0ca",
   "metadata": {},
   "source": [
    "## 6. Visualize embeddings using PHATE\n",
    "\n",
    "Following the tutorial which is available at: https://nbviewer.org/github/KrishnaswamyLab/PHATE/blob/main/Python/tutorial/EmbryoidBody.ipynb"
   ]
  },
  {
   "cell_type": "code",
   "execution_count": null,
   "id": "6400c7c7-eba2-4a96-b3ad-d17d38a5bb22",
   "metadata": {},
   "outputs": [],
   "source": [
    "# apply PHATE with hidden values\n",
    "phate_operator = phate.PHATE()\n",
    "Y_phate = phate_operator.fit_transform(hidden_values)"
   ]
  },
  {
   "cell_type": "code",
   "execution_count": null,
   "id": "c6a7aa81-431f-44f3-9cef-33698b09f4a4",
   "metadata": {},
   "outputs": [],
   "source": [
    "plt.scatter(x = Y_phate[:,0], \n",
    "            y = Y_phate[:,1],\n",
    "            c = y_values, cmap = 'viridis')\n",
    "plt.colorbar(label=\"logP\")\n",
    "plt.title(\"PHATE embeddings of penultimate layer\")\n",
    "plt.savefig(\"hidden_values_PHATE.png\") \n",
    "plt.show()"
   ]
  },
  {
   "cell_type": "markdown",
   "id": "211fd731-e030-41e8-83a0-f7671eb42a14",
   "metadata": {},
   "source": [
    "## 7. Save the model"
   ]
  },
  {
   "cell_type": "code",
   "execution_count": null,
   "id": "cf510b15-7f4b-4f29-97c7-72bf3231c842",
   "metadata": {},
   "outputs": [],
   "source": [
    "torch.save(model.state_dict(), \"GCN-trained.pth\")"
   ]
  }
 ],
 "metadata": {
  "kernelspec": {
   "display_name": "Python 3 (ipykernel)",
   "language": "python",
   "name": "python3"
  },
  "language_info": {
   "codemirror_mode": {
    "name": "ipython",
    "version": 3
   },
   "file_extension": ".py",
   "mimetype": "text/x-python",
   "name": "python",
   "nbconvert_exporter": "python",
   "pygments_lexer": "ipython3",
   "version": "3.12.9"
  }
 },
 "nbformat": 4,
 "nbformat_minor": 5
}
