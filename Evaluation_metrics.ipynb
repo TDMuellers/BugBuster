{
 "cells": [
  {
   "cell_type": "markdown",
   "id": "91b83d5d-5bf9-4cb2-983d-ea96df7399f1",
   "metadata": {},
   "source": [
    "# Evaluation Metrics \n",
    "\n",
    "This script takes smiles or graph inputs of ground-truth and generated insecticidal compounds and computes:\n",
    "\n",
    "-The distribution of Log P values\n",
    "\n",
    "-The structural diversity of the compounds\n",
    "\n",
    "-The insecticide-likeness of the compounds\n",
    "\n",
    "Written by Tobias D. Muellers"
   ]
  },
  {
   "cell_type": "markdown",
   "id": "00465c46-d658-492c-bc78-10ddbdd104ca",
   "metadata": {},
   "source": [
    "## Load dependencies"
   ]
  },
  {
   "cell_type": "code",
   "execution_count": 1,
   "id": "9b94a6da-05e2-49cd-bf1c-640ea084fd39",
   "metadata": {},
   "outputs": [],
   "source": [
    "import pandas as pd\n",
    "import numpy as np\n",
    "from typing import Any\n",
    "import torch\n",
    "import torch_geometric\n",
    "from rdkit import Chem, RDLogger\n",
    "from torch_geometric.data import Data"
   ]
  },
  {
   "cell_type": "markdown",
   "id": "5201a000-a193-4b67-800e-e1765d2e8ad4",
   "metadata": {},
   "source": [
    "## Graphs to SMILES\n",
    "\n",
    "This code takes generated graphs and converts them to a dataset of SMILES for further analysis"
   ]
  },
  {
   "cell_type": "code",
   "execution_count": 2,
   "id": "d945d92d-9cd7-4ac5-a2ff-c9bacc9277bd",
   "metadata": {},
   "outputs": [],
   "source": [
    "# import graphs which are pytorch datasets\n",
    "graphs = torch.load('insecticides_graphs_small.pt', weights_only=False)"
   ]
  },
  {
   "cell_type": "code",
   "execution_count": 11,
   "id": "8d2fe2ff-bd84-4893-8a8e-6b94012ee5c4",
   "metadata": {},
   "outputs": [],
   "source": [
    "# from https://pytorch-geometric.readthedocs.io/en/2.4.0/_modules/torch_geometric/utils/smiles.html\n",
    "# revised per comments\n",
    "x_map = {\n",
    "    'atomic_num':\n",
    "    list(range(0, 119)),\n",
    "    'degree':\n",
    "    list(range(0, 11)),\n",
    "    'formal_charge':\n",
    "    list(range(-5, 7))\n",
    "}\n",
    "\n",
    "# only specify bond type\n",
    "e_map = {\n",
    "    'bond_type': [\n",
    "        'UNSPECIFIED',\n",
    "        'SINGLE',\n",
    "        'DOUBLE',\n",
    "        'TRIPLE',\n",
    "        'QUADRUPLE',\n",
    "        'QUINTUPLE',\n",
    "        'HEXTUPLE',\n",
    "        'ONEANDAHALF',\n",
    "        'TWOANDAHALF',\n",
    "        'THREEANDAHALF',\n",
    "        'FOURANDAHALF',\n",
    "        'FIVEANDAHALF',\n",
    "        'AROMATIC',\n",
    "        'HYDROGEN',\n",
    "        'THREECENTER',\n",
    "    ]\n",
    "}\n",
    "\n",
    "def from_smiles(smiles: str) -> 'torch_geometric.data.Data':\n",
    "    r\"\"\"Converts a SMILES string to a :class:`torch_geometric.data.Data`\n",
    "    instance.\n",
    "\n",
    "    Args:\n",
    "        smiles (str): The SMILES string.\n",
    "    \"\"\"\n",
    "    RDLogger.DisableLog('rdApp.*')\n",
    "    \n",
    "    mol = Chem.MolFromSmiles(smiles)\n",
    "\n",
    "    if mol is None:\n",
    "        mol = Chem.MolFromSmiles('')\n",
    "\n",
    "    xs = []\n",
    "    for atom in mol.GetAtoms():\n",
    "        x = []\n",
    "        x.append(x_map['atomic_num'].index(atom.GetAtomicNum()))\n",
    "        x.append(x_map['degree'].index(atom.GetTotalDegree()))\n",
    "        x.append(x_map['formal_charge'].index(atom.GetFormalCharge()))\n",
    "        xs.append(x)\n",
    "\n",
    "    x = torch.tensor(xs, dtype=torch.float).view(-1, 3)\n",
    "\n",
    "    edge_indices, edge_attrs = [], []\n",
    "    for bond in mol.GetBonds():\n",
    "        i = bond.GetBeginAtomIdx()\n",
    "        j = bond.GetEndAtomIdx()\n",
    "\n",
    "        e = []\n",
    "        e.append(e_map['bond_type'].index(str(bond.GetBondType())))\n",
    "\n",
    "        edge_indices += [[i, j], [j, i]] # this creates the adjacency matrix\n",
    "        edge_attrs += [e, e] # this creates the edge attributes matrix\n",
    "\n",
    "    edge_index = torch.tensor(edge_indices)\n",
    "    edge_index = edge_index.t().to(torch.long).view(2, -1)\n",
    "    edge_attr = torch.tensor(edge_attrs, dtype=torch.float).view(-1, 1)\n",
    "\n",
    "    if edge_index.numel() > 0:  # Sort indices.\n",
    "        perm = (edge_index[0] * x.size(0) + edge_index[1]).argsort()\n",
    "        edge_index, edge_attr = edge_index[:, perm], edge_attr[perm]\n",
    "\n",
    "    return Data(x=x, edge_index=edge_index, edge_attr=edge_attr, smiles=smiles)\n",
    "\n",
    "\n",
    "\n",
    "def to_smiles(data: 'torch_geometric.data.Data') -> Any:\n",
    "    \"\"\"Converts a :class:`torch_geometric.data.Data` instance to a SMILES\n",
    "    string.\n",
    "\n",
    "    Args:\n",
    "        data (torch_geometric.data.Data): The molecular graph.\n",
    "    \"\"\"\n",
    "    from rdkit import Chem\n",
    "\n",
    "    mol = Chem.RWMol()\n",
    "\n",
    "    for i in range(data.num_nodes):\n",
    "        atom = Chem.Atom(data.x[i, 0].item())\n",
    "        atom.SetFormalCharge(x_map['formal_charge'][data.x[i, 2].item()])\n",
    "        mol.AddAtom(atom)\n",
    "\n",
    "    edges = [tuple(i) for i in data.edge_index.t().tolist()]\n",
    "    visited = set()\n",
    "\n",
    "    for i in range(len(edges)):\n",
    "        src, dst = edges[i]\n",
    "        if tuple(sorted(edges[i])) in visited:\n",
    "            continue\n",
    "\n",
    "        bond_type = Chem.BondType.values[data.edge_attr[i, 0].item()]\n",
    "        mol.AddBond(src, dst, bond_type)\n",
    "\n",
    "        visited.add(tuple(sorted(edges[i])))\n",
    "\n",
    "    mol = mol.GetMol()\n",
    "\n",
    "    Chem.SanitizeMol(mol)\n",
    "    Chem.AssignStereochemistry(mol)\n",
    "\n",
    "    return Chem.MolToSmiles(mol, isomericSmiles=True)"
   ]
  },
  {
   "cell_type": "code",
   "execution_count": 12,
   "id": "69b7d835-2acc-42c3-b944-dd136a7a6e72",
   "metadata": {},
   "outputs": [],
   "source": [
    "# define function to create data\n",
    "# based on adapted code from https://www.blopig.com/blog/2022/02/how-to-turn-a-smiles-string-into-a-molecular-graph-for-pytorch-geometric/\n",
    "def create_py_geom_dataset(x_smiles, y):\n",
    "    '''\n",
    "    x_smiles = column with input smiles\n",
    "    y = column with relevant property value\n",
    "    '''\n",
    "    data_list = []\n",
    "    \n",
    "    for (smiles, y_val) in zip(x_smiles, y):\n",
    "\n",
    "        initial_data = from_smiles(smiles)\n",
    "\n",
    "        X = initial_data.x.detach()\n",
    "        E = initial_data.edge_index.detach()\n",
    "        EF = initial_data.edge_attr.detach()\n",
    "        y_tensor = torch.tensor(y_val, dtype = torch.float)\n",
    "        \n",
    "        data_list.append(Data(x = X, edge_index = E, edge_attr = EF, y = y_tensor))\n",
    "    return data_list\n",
    "\n",
    "def create_smiles_data(py_geom_df):\n",
    "    '''\n",
    "    Creates a dataset with smiles and y values\n",
    "    Inputs:\n",
    "    py_geom_df = input dataset that is a pytorch geometric with a y tensor\n",
    "    '''\n",
    "    data_list = []\n",
    "    idx = range(len(py_geom_df))\n",
    "    for i in idx:\n",
    "\n",
    "        smiles = to_smiles(py_geom_df[i])\n",
    "        y = py_geom_df[i].y.detach().tonumpy()\n",
    "        \n",
    "        data_list.append(smiles)\n",
    "        data_list.append(y)\n",
    "    df_out = pd.DataFrame(data_list)\n",
    "    return data_list"
   ]
  },
  {
   "cell_type": "code",
   "execution_count": 13,
   "id": "1dfd3c4c-adef-473d-bb33-127a85a43107",
   "metadata": {},
   "outputs": [
    {
     "ename": "ArgumentError",
     "evalue": "Python argument types in\n    Atom.__init__(Atom, float)\ndid not match C++ signature:\n    __init__(struct _object * __ptr64 self, unsigned int num)\n    __init__(struct _object * __ptr64 self, class RDKit::Atom other)\n    __init__(struct _object * __ptr64 self, class std::basic_string<char,struct std::char_traits<char>,class std::allocator<char> > what)",
     "output_type": "error",
     "traceback": [
      "\u001b[1;31m---------------------------------------------------------------------------\u001b[0m",
      "\u001b[1;31mArgumentError\u001b[0m                             Traceback (most recent call last)",
      "Cell \u001b[1;32mIn[13], line 2\u001b[0m\n\u001b[0;32m      1\u001b[0m small_graphs \u001b[38;5;241m=\u001b[39m graphs[\u001b[38;5;241m0\u001b[39m:\u001b[38;5;241m50\u001b[39m]\n\u001b[1;32m----> 2\u001b[0m insecticides_out_small \u001b[38;5;241m=\u001b[39m create_smiles_data(small_graphs)\n",
      "Cell \u001b[1;32mIn[12], line 32\u001b[0m, in \u001b[0;36mcreate_smiles_data\u001b[1;34m(py_geom_df)\u001b[0m\n\u001b[0;32m     29\u001b[0m idx \u001b[38;5;241m=\u001b[39m \u001b[38;5;28mrange\u001b[39m(\u001b[38;5;28mlen\u001b[39m(py_geom_df))\n\u001b[0;32m     30\u001b[0m \u001b[38;5;28;01mfor\u001b[39;00m i \u001b[38;5;129;01min\u001b[39;00m idx:\n\u001b[1;32m---> 32\u001b[0m     smiles \u001b[38;5;241m=\u001b[39m to_smiles(py_geom_df[i])\n\u001b[0;32m     33\u001b[0m     y \u001b[38;5;241m=\u001b[39m py_geom_df[i]\u001b[38;5;241m.\u001b[39my\u001b[38;5;241m.\u001b[39mdetach()\u001b[38;5;241m.\u001b[39mtonumpy()\n\u001b[0;32m     35\u001b[0m     data_list\u001b[38;5;241m.\u001b[39mappend(smiles)\n",
      "Cell \u001b[1;32mIn[11], line 92\u001b[0m, in \u001b[0;36mto_smiles\u001b[1;34m(data)\u001b[0m\n\u001b[0;32m     89\u001b[0m mol \u001b[38;5;241m=\u001b[39m Chem\u001b[38;5;241m.\u001b[39mRWMol()\n\u001b[0;32m     91\u001b[0m \u001b[38;5;28;01mfor\u001b[39;00m i \u001b[38;5;129;01min\u001b[39;00m \u001b[38;5;28mrange\u001b[39m(data\u001b[38;5;241m.\u001b[39mnum_nodes):\n\u001b[1;32m---> 92\u001b[0m     atom \u001b[38;5;241m=\u001b[39m Chem\u001b[38;5;241m.\u001b[39mAtom(data\u001b[38;5;241m.\u001b[39mx[i, \u001b[38;5;241m0\u001b[39m]\u001b[38;5;241m.\u001b[39mitem())\n\u001b[0;32m     93\u001b[0m     atom\u001b[38;5;241m.\u001b[39mSetFormalCharge(x_map[\u001b[38;5;124m'\u001b[39m\u001b[38;5;124mformal_charge\u001b[39m\u001b[38;5;124m'\u001b[39m][data\u001b[38;5;241m.\u001b[39mx[i, \u001b[38;5;241m2\u001b[39m]\u001b[38;5;241m.\u001b[39mitem()])\n\u001b[0;32m     94\u001b[0m     mol\u001b[38;5;241m.\u001b[39mAddAtom(atom)\n",
      "\u001b[1;31mArgumentError\u001b[0m: Python argument types in\n    Atom.__init__(Atom, float)\ndid not match C++ signature:\n    __init__(struct _object * __ptr64 self, unsigned int num)\n    __init__(struct _object * __ptr64 self, class RDKit::Atom other)\n    __init__(struct _object * __ptr64 self, class std::basic_string<char,struct std::char_traits<char>,class std::allocator<char> > what)"
     ]
    }
   ],
   "source": [
    "small_graphs = graphs[0:50]\n",
    "insecticides_out_small = create_smiles_data(small_graphs) "
   ]
  },
  {
   "cell_type": "code",
   "execution_count": null,
   "id": "c9343b15-2193-4894-a58f-9f96baff7ca0",
   "metadata": {},
   "outputs": [],
   "source": [
    "insecticides_out_small.head(1)"
   ]
  },
  {
   "cell_type": "markdown",
   "id": "cca6b497-9757-44aa-9721-9a3b208b5a41",
   "metadata": {},
   "source": [
    "## Log P Distribution Metrics"
   ]
  },
  {
   "cell_type": "code",
   "execution_count": 7,
   "id": "283aa2eb-7c84-467d-aca4-f9e6bfd6897e",
   "metadata": {},
   "outputs": [],
   "source": [
    "from scipy.stats import describe"
   ]
  },
  {
   "cell_type": "code",
   "execution_count": 8,
   "id": "bf607e79-b28d-417b-b8d9-5cb4dcad988b",
   "metadata": {},
   "outputs": [
    {
     "name": "stdout",
     "output_type": "stream",
     "text": [
      "DescribeResult(nobs=50, minmax=(-1.2941999435424805, 6.451580047607422), mean=2.891731585264206, variance=2.867706823878202, skewness=0.36445853438956816, kurtosis=-0.14949686090744319)\n"
     ]
    }
   ],
   "source": [
    "print(describe(insecticides_out_small['logp']))"
   ]
  },
  {
   "cell_type": "code",
   "execution_count": null,
   "id": "f6a7ebc9-0655-488e-9ceb-d71f6e47a66f",
   "metadata": {},
   "outputs": [],
   "source": [
    "import seaborn as sns\n",
    "from seaborn import kdeplot\n",
    "sns.kdeplot(data=insecticides_out_small, x=\"logp\")"
   ]
  },
  {
   "cell_type": "code",
   "execution_count": null,
   "id": "7870b8d7-0cb3-452b-a5b2-4cb2ae9780d0",
   "metadata": {},
   "outputs": [],
   "source": []
  }
 ],
 "metadata": {
  "kernelspec": {
   "display_name": "Python [conda env:base]",
   "language": "python",
   "name": "conda-base-py"
  },
  "language_info": {
   "codemirror_mode": {
    "name": "ipython",
    "version": 3
   },
   "file_extension": ".py",
   "mimetype": "text/x-python",
   "name": "python",
   "nbconvert_exporter": "python",
   "pygments_lexer": "ipython3",
   "version": "3.12.3"
  },
  "widgets": {
   "application/vnd.jupyter.widget-state+json": {
    "state": {},
    "version_major": 2,
    "version_minor": 0
   }
  }
 },
 "nbformat": 4,
 "nbformat_minor": 5
}
